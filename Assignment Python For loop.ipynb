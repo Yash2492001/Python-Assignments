{
 "cells": [
  {
   "cell_type": "code",
   "execution_count": 1,
   "id": "4bac3982",
   "metadata": {},
   "outputs": [],
   "source": [
    "#Basic Level:"
   ]
  },
  {
   "cell_type": "code",
   "execution_count": null,
   "id": "1b83ce6a",
   "metadata": {},
   "outputs": [],
   "source": []
  },
  {
   "cell_type": "code",
   "execution_count": 2,
   "id": "8c7ebb48",
   "metadata": {},
   "outputs": [],
   "source": [
    "#1. Write a Python program to print the numbers from 1 to 10 using a `for` loop."
   ]
  },
  {
   "cell_type": "code",
   "execution_count": 3,
   "id": "5a4dcf9e",
   "metadata": {},
   "outputs": [
    {
     "name": "stdout",
     "output_type": "stream",
     "text": [
      "1\n",
      "2\n",
      "3\n",
      "4\n",
      "5\n",
      "6\n",
      "7\n",
      "8\n",
      "9\n",
      "10\n"
     ]
    }
   ],
   "source": [
    "for i in range(1,11):\n",
    "    print(i)"
   ]
  },
  {
   "cell_type": "code",
   "execution_count": null,
   "id": "e7a4be11",
   "metadata": {},
   "outputs": [],
   "source": []
  },
  {
   "cell_type": "code",
   "execution_count": 4,
   "id": "c5c74d1e",
   "metadata": {},
   "outputs": [],
   "source": [
    "#2. Create a program that calculates the sum of all numbers in a list using a `for` loop."
   ]
  },
  {
   "cell_type": "code",
   "execution_count": 5,
   "id": "5132dcc5",
   "metadata": {},
   "outputs": [
    {
     "name": "stdout",
     "output_type": "stream",
     "text": [
      "sum of all numbers in a list:  55\n"
     ]
    }
   ],
   "source": [
    "lst=list(range(11))\n",
    "s=0\n",
    "for i in lst:\n",
    "    s+=i\n",
    "    \n",
    "print('sum of all numbers in a list: ',s)"
   ]
  },
  {
   "cell_type": "code",
   "execution_count": null,
   "id": "f7ff7195",
   "metadata": {},
   "outputs": [],
   "source": []
  },
  {
   "cell_type": "code",
   "execution_count": 6,
   "id": "90978431",
   "metadata": {},
   "outputs": [],
   "source": [
    "#3. Write a program to print the characters of a string in reverse order using a `for` loop."
   ]
  },
  {
   "cell_type": "code",
   "execution_count": 7,
   "id": "a57e0a47",
   "metadata": {},
   "outputs": [
    {
     "name": "stdout",
     "output_type": "stream",
     "text": [
      "Enter input str: Yash\n",
      "characters of a string in reverse order: hsaY\n"
     ]
    }
   ],
   "source": [
    "def str_rev(input_str):\n",
    "    rev=''\n",
    "    for i in range(len(input_str)-1,-1,-1):\n",
    "        rev=rev+input_str[i]\n",
    "    return rev\n",
    "    \n",
    "input_str=input(\"Enter input str: \")\n",
    "r=str_rev(input_str)\n",
    "print(\"characters of a string in reverse order:\",r)"
   ]
  },
  {
   "cell_type": "code",
   "execution_count": null,
   "id": "001780bd",
   "metadata": {},
   "outputs": [],
   "source": []
  },
  {
   "cell_type": "code",
   "execution_count": 10,
   "id": "81b99478",
   "metadata": {},
   "outputs": [],
   "source": [
    "#4. Develop a program that finds the factorial of a given number using a `for` loop."
   ]
  },
  {
   "cell_type": "code",
   "execution_count": 11,
   "id": "f555f7f9",
   "metadata": {},
   "outputs": [
    {
     "name": "stdout",
     "output_type": "stream",
     "text": [
      "factorial of a given number:  120\n"
     ]
    }
   ],
   "source": [
    "num=5\n",
    "fact=1\n",
    "for i in range(num,0,-1):\n",
    "    fact=fact*i\n",
    "print(\"factorial of a given number: \",fact)"
   ]
  },
  {
   "cell_type": "code",
   "execution_count": 12,
   "id": "a1b5db44",
   "metadata": {},
   "outputs": [
    {
     "data": {
      "text/plain": [
       "120"
      ]
     },
     "execution_count": 12,
     "metadata": {},
     "output_type": "execute_result"
    }
   ],
   "source": [
    "def factorial(n):\n",
    "    if n <= 1:\n",
    "        return 1\n",
    "    return n * factorial(n-1)\n",
    "\n",
    "factorial(5)"
   ]
  },
  {
   "cell_type": "code",
   "execution_count": null,
   "id": "2ca77b54",
   "metadata": {},
   "outputs": [],
   "source": []
  },
  {
   "cell_type": "code",
   "execution_count": 13,
   "id": "38e6e800",
   "metadata": {},
   "outputs": [],
   "source": [
    "#5. Create a program to print the multiplication table of a given number using a `for` loop."
   ]
  },
  {
   "cell_type": "code",
   "execution_count": 17,
   "id": "069d0021",
   "metadata": {},
   "outputs": [
    {
     "name": "stdout",
     "output_type": "stream",
     "text": [
      "2 4 6 8 10 12 14 16 18 20 "
     ]
    }
   ],
   "source": [
    "for i in range(2,3):\n",
    "    for j in range(1,11):\n",
    "        print(i*j,end=' ')"
   ]
  },
  {
   "cell_type": "code",
   "execution_count": 18,
   "id": "87a018d4",
   "metadata": {},
   "outputs": [
    {
     "name": "stdout",
     "output_type": "stream",
     "text": [
      "Enter a number: 2\n",
      "Multiplication of a number 2 :\n",
      "2 x 1 =  2\n",
      "2 x 2 =  4\n",
      "2 x 3 =  6\n",
      "2 x 4 =  8\n",
      "2 x 5 =  10\n",
      "2 x 6 =  12\n",
      "2 x 7 =  14\n",
      "2 x 8 =  16\n",
      "2 x 9 =  18\n",
      "2 x 10 =  20\n"
     ]
    }
   ],
   "source": [
    "def table_of_num(num):\n",
    "    print(f\"Multiplication of a number {num} :\")\n",
    "    for i in range(1,11):\n",
    "        result=num*i\n",
    "        print(f\"{num} x {i} = \",result)\n",
    "    \n",
    "num=int(input(\"Enter a number: \"))\n",
    "table_of_num(num)"
   ]
  },
  {
   "cell_type": "code",
   "execution_count": null,
   "id": "51cca5a4",
   "metadata": {},
   "outputs": [],
   "source": []
  },
  {
   "cell_type": "code",
   "execution_count": 20,
   "id": "35779c66",
   "metadata": {},
   "outputs": [],
   "source": [
    "#6. Write a program that counts the number of even and odd numbers in a list using a `for` loop."
   ]
  },
  {
   "cell_type": "code",
   "execution_count": 21,
   "id": "e0f7fdd0",
   "metadata": {},
   "outputs": [
    {
     "name": "stdout",
     "output_type": "stream",
     "text": [
      "Even number in list 2\n",
      "Odd number in list: 4\n"
     ]
    }
   ],
   "source": [
    "lst=[1,3,2,6,7,5]\n",
    "even=0\n",
    "odd=0\n",
    "for i in lst:\n",
    "    if i%2==0:\n",
    "        even+=1\n",
    "    else:\n",
    "        odd+=1\n",
    "        \n",
    "print(f\"Even number in list {even}\")\n",
    "print(\"Odd number in list:\",odd)"
   ]
  },
  {
   "cell_type": "code",
   "execution_count": null,
   "id": "7cdeba9f",
   "metadata": {},
   "outputs": [],
   "source": []
  },
  {
   "cell_type": "code",
   "execution_count": 22,
   "id": "14900960",
   "metadata": {},
   "outputs": [],
   "source": [
    "#7. Develop a program that prints the squares of numbers from 1 to 5 using a `for` loop."
   ]
  },
  {
   "cell_type": "code",
   "execution_count": 23,
   "id": "6eeecf30",
   "metadata": {},
   "outputs": [
    {
     "name": "stdout",
     "output_type": "stream",
     "text": [
      "square of 1 ^ 2:  1\n",
      "square of 2 ^ 2:  4\n",
      "square of 3 ^ 2:  9\n",
      "square of 4 ^ 2:  16\n",
      "square of 5 ^ 2:  25\n"
     ]
    }
   ],
   "source": [
    "lst=list(range(1,6))\n",
    "for i in lst:\n",
    "    sq=i**2\n",
    "    print(f\"square of {i} ^ 2: \",sq)"
   ]
  },
  {
   "cell_type": "code",
   "execution_count": null,
   "id": "8c68e82e",
   "metadata": {},
   "outputs": [],
   "source": []
  },
  {
   "cell_type": "code",
   "execution_count": 24,
   "id": "a5ce539a",
   "metadata": {},
   "outputs": [],
   "source": [
    "#8. Create a program to find the length of a string without using the `len()` function."
   ]
  },
  {
   "cell_type": "code",
   "execution_count": 25,
   "id": "c0d098f3",
   "metadata": {},
   "outputs": [
    {
     "name": "stdout",
     "output_type": "stream",
     "text": [
      "length of a string without using the `len()` function:  7\n"
     ]
    }
   ],
   "source": [
    "name=\"science\"\n",
    "count=0\n",
    "for i in name:\n",
    "    count+=1\n",
    "print(\"length of a string without using the `len()` function: \",count)"
   ]
  },
  {
   "cell_type": "code",
   "execution_count": null,
   "id": "02e9c1c6",
   "metadata": {},
   "outputs": [],
   "source": []
  },
  {
   "cell_type": "code",
   "execution_count": 26,
   "id": "4716e71b",
   "metadata": {},
   "outputs": [],
   "source": [
    "#9. Write a program that calculates the average of a list of numbers using a `for` loop."
   ]
  },
  {
   "cell_type": "code",
   "execution_count": 27,
   "id": "8d4681b0",
   "metadata": {},
   "outputs": [
    {
     "name": "stdout",
     "output_type": "stream",
     "text": [
      "average of a list of numbers using a `for` loop: 14.0\n"
     ]
    }
   ],
   "source": [
    "num_list=[1,3,2,55,4,6,9,32]\n",
    "l=len(num_list)\n",
    "add=0\n",
    "for i in num_list:\n",
    "    add+=i\n",
    "    \n",
    "ans=add/l\n",
    "print(\"average of a list of numbers using a `for` loop:\",ans)"
   ]
  },
  {
   "cell_type": "code",
   "execution_count": null,
   "id": "95c9fbe6",
   "metadata": {},
   "outputs": [],
   "source": []
  },
  {
   "cell_type": "code",
   "execution_count": 28,
   "id": "80e94528",
   "metadata": {},
   "outputs": [],
   "source": [
    "#10. Develop a program that prints the first `n` Fibonacci numbers using a `for` loop."
   ]
  },
  {
   "cell_type": "code",
   "execution_count": 29,
   "id": "3dd8d16c",
   "metadata": {},
   "outputs": [
    {
     "name": "stdout",
     "output_type": "stream",
     "text": [
      "n fibonacci num:10\n",
      "`n` Fibonacci numbers using a `for` loop: [0, 1, 1, 2, 3, 5, 8, 13, 21, 34]\n"
     ]
    }
   ],
   "source": [
    "def fib_calculation(num):\n",
    "    fib_list=[0,1]\n",
    "   # next_fib=[]\n",
    "    for i in range(2,num):\n",
    "        next_fib=fib_list[i-1]+fib_list[i-2]\n",
    "        fib_list.append(next_fib)\n",
    "    return fib_list\n",
    "    \n",
    "    \n",
    "n_Fibonacci_numbers=int(input(\"n fibonacci num:\"))\n",
    "ans=fib_calculation(n_Fibonacci_numbers)\n",
    "print(\"`n` Fibonacci numbers using a `for` loop:\",ans)"
   ]
  },
  {
   "cell_type": "code",
   "execution_count": null,
   "id": "0929e5e7",
   "metadata": {},
   "outputs": [],
   "source": []
  },
  {
   "cell_type": "code",
   "execution_count": 30,
   "id": "d303b0da",
   "metadata": {},
   "outputs": [],
   "source": [
    "#Intermediate Level:"
   ]
  },
  {
   "cell_type": "code",
   "execution_count": 35,
   "id": "71abc131",
   "metadata": {},
   "outputs": [],
   "source": [
    "#11. Write a program to check if a given list contains any duplicates using a `for` loop."
   ]
  },
  {
   "cell_type": "code",
   "execution_count": 36,
   "id": "e1f03bbc",
   "metadata": {},
   "outputs": [
    {
     "name": "stdout",
     "output_type": "stream",
     "text": [
      "List does not contain duplicate\n"
     ]
    }
   ],
   "source": [
    "def duplicate(lst):\n",
    "    seen=[]\n",
    "    for item in lst:\n",
    "        if item in seen:\n",
    "            return True\n",
    "        else:\n",
    "            seen.append(item)\n",
    "    return False\n",
    "    \n",
    "\n",
    "lst=[1,3,2,4,6,5]\n",
    "if duplicate(lst):\n",
    "    print(\"List contains duplicate\")\n",
    "else:\n",
    "    print(\"List does not contain duplicate\")"
   ]
  },
  {
   "cell_type": "code",
   "execution_count": 37,
   "id": "0e2e4a98",
   "metadata": {},
   "outputs": [
    {
     "name": "stdout",
     "output_type": "stream",
     "text": [
      "List contains duplicate\n"
     ]
    }
   ],
   "source": [
    "def check_duplicates(lst,new):\n",
    "    flag = False\n",
    "    for i in lst:\n",
    "        if i not in new:\n",
    "            new.append(i)\n",
    "        else:\n",
    "            flag = True\n",
    "    return flag\n",
    "\n",
    "lst=[1,2,3,3,4,5]\n",
    "new = []\n",
    "if check_duplicates(lst,new):\n",
    "    print(\"List contains duplicate\")\n",
    "else:\n",
    "    print(\"List does not contain duplicate\")"
   ]
  },
  {
   "cell_type": "code",
   "execution_count": 40,
   "id": "21eb6bce",
   "metadata": {},
   "outputs": [],
   "source": [
    "#12. Create a program that prints the prime numbers in a given range using a `for` loop."
   ]
  },
  {
   "cell_type": "code",
   "execution_count": 41,
   "id": "5ef4917a",
   "metadata": {},
   "outputs": [
    {
     "name": "stdout",
     "output_type": "stream",
     "text": [
      "Enter start of range:20\n",
      "Enter end of range:40\n",
      "23\n",
      "29\n",
      "31\n",
      "37\n"
     ]
    }
   ],
   "source": [
    "def is_prime(num):\n",
    "    if num<2:\n",
    "        return False\n",
    "    for i in range(2,int(num**1/2)+1):\n",
    "        if num%i==0:\n",
    "            return False\n",
    "    return True\n",
    "\n",
    "def prime_no(start,end):\n",
    "    for num in range(start,end+1):\n",
    "        if is_prime(num):\n",
    "            print(num)\n",
    "\n",
    "start=int(input(\"Enter start of range:\"))\n",
    "end=int(input(\"Enter end of range:\"))\n",
    "prime_no(start,end)"
   ]
  },
  {
   "cell_type": "code",
   "execution_count": 42,
   "id": "f8e5ffb8",
   "metadata": {},
   "outputs": [
    {
     "name": "stdout",
     "output_type": "stream",
     "text": [
      "Enter start of range:20\n",
      "Enter end of range:40\n"
     ]
    },
    {
     "data": {
      "text/plain": [
       "[23, 29, 31, 37]"
      ]
     },
     "execution_count": 42,
     "metadata": {},
     "output_type": "execute_result"
    }
   ],
   "source": [
    "def prime_no_lst(start,end):\n",
    "    prime_lst = []\n",
    "    for i in range(start,end+1):\n",
    "        prime = True\n",
    "        for j in range(2,i):\n",
    "            if i % j == 0:\n",
    "                prime = False\n",
    "        if prime:\n",
    "            prime_lst.append(i)\n",
    "    return prime_lst\n",
    "            \n",
    "\n",
    "start=int(input(\"Enter start of range:\"))\n",
    "end=int(input(\"Enter end of range:\"))\n",
    "prime_no_lst(start,end)"
   ]
  },
  {
   "cell_type": "code",
   "execution_count": 2,
   "id": "66185921",
   "metadata": {},
   "outputs": [],
   "source": [
    "#13. Develop a program that counts the number of vowels in a string using a `for` loop."
   ]
  },
  {
   "cell_type": "code",
   "execution_count": 43,
   "id": "c245e951",
   "metadata": {},
   "outputs": [
    {
     "name": "stdout",
     "output_type": "stream",
     "text": [
      "Enter a string:Yash Walunj\n",
      "number of vowels in a string using a `for` loop: 3\n"
     ]
    }
   ],
   "source": [
    "def count_vowel(vowel_str):\n",
    "    count=0\n",
    "    for i in vowel_str.lower():\n",
    "        if i in 'aeiou':\n",
    "            count+=1\n",
    "    print(\"number of vowels in a string using a `for` loop:\",count)\n",
    "            \n",
    "\n",
    "vowel_str=input(\"Enter a string:\")\n",
    "count_vowel(vowel_str)"
   ]
  },
  {
   "cell_type": "code",
   "execution_count": null,
   "id": "0cb9c587",
   "metadata": {},
   "outputs": [],
   "source": []
  },
  {
   "cell_type": "code",
   "execution_count": 44,
   "id": "54ab013a",
   "metadata": {},
   "outputs": [],
   "source": [
    "#14. Write a program to find the maximum element in a 2D list using a nested `for` loop."
   ]
  },
  {
   "cell_type": "code",
   "execution_count": 45,
   "id": "4a3bfbda",
   "metadata": {},
   "outputs": [
    {
     "name": "stdout",
     "output_type": "stream",
     "text": [
      "89\n"
     ]
    }
   ],
   "source": [
    "lst=[\n",
    "    [2,4,65,44],\n",
    "    [3,5,33,1],\n",
    "    [89,55,34]\n",
    "]\n",
    "max=float('-inf')\n",
    "for i in range(0,len(lst)):\n",
    "    for j in range(0,len(lst[i])):\n",
    "        if lst[i][j]>=max:\n",
    "            max=lst[i][j]\n",
    "print(max)\n",
    "    "
   ]
  },
  {
   "cell_type": "code",
   "execution_count": null,
   "id": "ec8b78b4",
   "metadata": {},
   "outputs": [],
   "source": []
  },
  {
   "cell_type": "code",
   "execution_count": 46,
   "id": "efe85367",
   "metadata": {},
   "outputs": [],
   "source": [
    "#15. Create a program that removes all occurrences of a specific element from a list using a `for` loop."
   ]
  },
  {
   "cell_type": "code",
   "execution_count": 47,
   "id": "893f94ef",
   "metadata": {},
   "outputs": [
    {
     "name": "stdout",
     "output_type": "stream",
     "text": [
      "removes all occurrences of a specific element from list: [2, 44, 6, 34, 60]\n"
     ]
    }
   ],
   "source": [
    "def remove(lst,specific):\n",
    "    new=[]\n",
    "    for num in lst:\n",
    "        if num!=specific:\n",
    "            new.append(num)\n",
    "    return new\n",
    "    \n",
    "specific_element=54\n",
    "lst=[2,44,54,6,34,54,60]\n",
    "result=remove(lst,specific_element)\n",
    "print(\"removes all occurrences of a specific element from list:\",result)"
   ]
  },
  {
   "cell_type": "code",
   "execution_count": 48,
   "id": "e1e5bce2",
   "metadata": {},
   "outputs": [
    {
     "name": "stdout",
     "output_type": "stream",
     "text": [
      "removes all occurrences of a specific element from list: [2, 44, 6, 34, 60]\n"
     ]
    }
   ],
   "source": [
    "def remove(lst,specific):\n",
    "    for num in lst:\n",
    "        if num == specific:\n",
    "            lst.remove(num)\n",
    "    return lst\n",
    "    \n",
    "specific_element=54\n",
    "lst=[2,44,54,6,34,54,60]\n",
    "result=remove(lst,specific_element)\n",
    "print(\"removes all occurrences of a specific element from list:\",result)"
   ]
  },
  {
   "cell_type": "code",
   "execution_count": null,
   "id": "8e632a2b",
   "metadata": {},
   "outputs": [],
   "source": []
  },
  {
   "cell_type": "code",
   "execution_count": 49,
   "id": "2a523320",
   "metadata": {},
   "outputs": [],
   "source": [
    "#16. Develop a program that generates a multiplication table for numbers from 1 to 5 using a nested `for` loop."
   ]
  },
  {
   "cell_type": "code",
   "execution_count": 19,
   "id": "0464eb84",
   "metadata": {},
   "outputs": [
    {
     "name": "stdout",
     "output_type": "stream",
     "text": [
      "1 x 1 =  1\n",
      "1 x 2 =  2\n",
      "1 x 3 =  3\n",
      "1 x 4 =  4\n",
      "1 x 5 =  5\n",
      "1 x 6 =  6\n",
      "1 x 7 =  7\n",
      "1 x 8 =  8\n",
      "1 x 9 =  9\n",
      "1 x 10 =  10\n",
      "\n",
      "2 x 1 =  2\n",
      "2 x 2 =  4\n",
      "2 x 3 =  6\n",
      "2 x 4 =  8\n",
      "2 x 5 =  10\n",
      "2 x 6 =  12\n",
      "2 x 7 =  14\n",
      "2 x 8 =  16\n",
      "2 x 9 =  18\n",
      "2 x 10 =  20\n",
      "\n",
      "3 x 1 =  3\n",
      "3 x 2 =  6\n",
      "3 x 3 =  9\n",
      "3 x 4 =  12\n",
      "3 x 5 =  15\n",
      "3 x 6 =  18\n",
      "3 x 7 =  21\n",
      "3 x 8 =  24\n",
      "3 x 9 =  27\n",
      "3 x 10 =  30\n",
      "\n",
      "4 x 1 =  4\n",
      "4 x 2 =  8\n",
      "4 x 3 =  12\n",
      "4 x 4 =  16\n",
      "4 x 5 =  20\n",
      "4 x 6 =  24\n",
      "4 x 7 =  28\n",
      "4 x 8 =  32\n",
      "4 x 9 =  36\n",
      "4 x 10 =  40\n",
      "\n",
      "5 x 1 =  5\n",
      "5 x 2 =  10\n",
      "5 x 3 =  15\n",
      "5 x 4 =  20\n",
      "5 x 5 =  25\n",
      "5 x 6 =  30\n",
      "5 x 7 =  35\n",
      "5 x 8 =  40\n",
      "5 x 9 =  45\n",
      "5 x 10 =  50\n",
      "\n"
     ]
    }
   ],
   "source": [
    "for i in range(1,6):\n",
    "    for j in range(1,11):\n",
    "        #print(i*j,end=\" \")\n",
    "        print(f\"{i} x {j} = \",i*j)\n",
    "    print()"
   ]
  },
  {
   "cell_type": "code",
   "execution_count": null,
   "id": "732cadbd",
   "metadata": {},
   "outputs": [],
   "source": []
  },
  {
   "cell_type": "code",
   "execution_count": 1,
   "id": "467899af",
   "metadata": {},
   "outputs": [],
   "source": [
    "#17. Write a program that converts a list of Fahrenheit temperatures to Celsius using a `for` loop."
   ]
  },
  {
   "cell_type": "code",
   "execution_count": 2,
   "id": "d19fe2c5",
   "metadata": {},
   "outputs": [
    {
     "name": "stdout",
     "output_type": "stream",
     "text": [
      "Temperatures in Farenheit:  [98.6, 100.0, 212.0, 68.0]\n",
      "Temperatures in celsius:  [37.0, 37.77777777777778, 100.0, 20.0]\n"
     ]
    }
   ],
   "source": [
    "def calculate(lst):\n",
    "    new=[]\n",
    "    for i in lst:\n",
    "        n=(i - 32) * 5.0/9.0\n",
    "        new.append(n)\n",
    "    return new\n",
    "\n",
    "Fahrenheit=[98.6, 100.0, 212.0, 68.0]\n",
    "celsius=calculate(Fahrenheit)\n",
    "print(\"Temperatures in Farenheit: \",Fahrenheit)\n",
    "print(\"Temperatures in celsius: \",celsius)"
   ]
  },
  {
   "cell_type": "code",
   "execution_count": null,
   "id": "c0f0aa44",
   "metadata": {},
   "outputs": [],
   "source": []
  },
  {
   "cell_type": "code",
   "execution_count": 3,
   "id": "3ecaf1a3",
   "metadata": {},
   "outputs": [],
   "source": [
    "#18. Create a program to print the common elements from two lists using a `for` loop."
   ]
  },
  {
   "cell_type": "code",
   "execution_count": 5,
   "id": "acd666fb",
   "metadata": {},
   "outputs": [
    {
     "name": "stdout",
     "output_type": "stream",
     "text": [
      "Common element:  {2, 44, 7}\n"
     ]
    }
   ],
   "source": [
    "lst1=[20,2,44,35,5,7,2]\n",
    "lst2=[22,44,7,2,8]\n",
    "output=set()\n",
    "for i in lst1:\n",
    "    if i in lst2:\n",
    "        output.add(i)\n",
    "print(\"Common element: \",output)"
   ]
  },
  {
   "cell_type": "code",
   "execution_count": null,
   "id": "dacd2659",
   "metadata": {},
   "outputs": [],
   "source": []
  },
  {
   "cell_type": "code",
   "execution_count": 6,
   "id": "aa23b273",
   "metadata": {},
   "outputs": [],
   "source": [
    "#19. Develop a program that prints the pattern of right-angled triangles using a `for` loop. Use ‘*’ to draw the pattern"
   ]
  },
  {
   "cell_type": "code",
   "execution_count": 23,
   "id": "62b6b9b2",
   "metadata": {},
   "outputs": [
    {
     "name": "stdout",
     "output_type": "stream",
     "text": [
      "* \n",
      "* * \n",
      "* * * \n",
      "* * * * \n",
      "* * * * * \n"
     ]
    }
   ],
   "source": [
    "for i in range(1,6):\n",
    "    for j in range(1,i+1):\n",
    "        print(\"*\",end = \" \")\n",
    "    print()"
   ]
  },
  {
   "cell_type": "code",
   "execution_count": null,
   "id": "a277ed32",
   "metadata": {},
   "outputs": [],
   "source": []
  },
  {
   "cell_type": "code",
   "execution_count": 24,
   "id": "afea6d7f",
   "metadata": {},
   "outputs": [],
   "source": [
    "#20. Write a program to find the greatest common divisor (GCD) of two numbers using a `for` loop."
   ]
  },
  {
   "cell_type": "code",
   "execution_count": 25,
   "id": "6d042e6b",
   "metadata": {},
   "outputs": [
    {
     "name": "stdout",
     "output_type": "stream",
     "text": [
      "greatest common divisor (GCD) of two numbers: 6\n"
     ]
    }
   ],
   "source": [
    "def gcd(a,b):\n",
    "    if b>a:\n",
    "        a,b=b,a\n",
    "    \n",
    "    for i in range(1,b+1):\n",
    "        if a%i==0 and b%i==0:\n",
    "            gretest=i\n",
    "    return gretest\n",
    "\n",
    "num1=48\n",
    "num2=18\n",
    "result=gcd(num1,num2)\n",
    "print(\"greatest common divisor (GCD) of two numbers:\",result)"
   ]
  },
  {
   "cell_type": "code",
   "execution_count": null,
   "id": "04693c4c",
   "metadata": {},
   "outputs": [],
   "source": []
  },
  {
   "cell_type": "code",
   "execution_count": 26,
   "id": "29bfa77d",
   "metadata": {},
   "outputs": [],
   "source": [
    "#Advanced Level:"
   ]
  },
  {
   "cell_type": "code",
   "execution_count": 27,
   "id": "6bc06494",
   "metadata": {},
   "outputs": [],
   "source": [
    "# 21. Create a program that calculates the sum of the digits of numbers in a list using a list comprehension."
   ]
  },
  {
   "cell_type": "code",
   "execution_count": 45,
   "id": "5e2c5f92",
   "metadata": {},
   "outputs": [
    {
     "name": "stdout",
     "output_type": "stream",
     "text": [
      "[6, 15, 24, 0, 11]\n"
     ]
    }
   ],
   "source": [
    "def sum_of_digits(numbers):\n",
    "    return [sum(int(digit) for digit in str(number)) for number in numbers]\n",
    "\n",
    "numbers = [123, 456, 789, 0, 56]\n",
    "sums = sum_of_digits(numbers)\n",
    "print(sums)"
   ]
  },
  {
   "cell_type": "code",
   "execution_count": null,
   "id": "8535c461",
   "metadata": {},
   "outputs": [],
   "source": []
  },
  {
   "cell_type": "code",
   "execution_count": 46,
   "id": "62db66d4",
   "metadata": {},
   "outputs": [],
   "source": [
    "# 22. Write a program to find the prime factors of a given number using a `for` loop and list comprehension."
   ]
  },
  {
   "cell_type": "code",
   "execution_count": 75,
   "id": "c4e6d2ab",
   "metadata": {},
   "outputs": [
    {
     "name": "stdout",
     "output_type": "stream",
     "text": [
      "Enter Number: 315\n"
     ]
    },
    {
     "data": {
      "text/plain": [
       "[3, 5, 7]"
      ]
     },
     "execution_count": 75,
     "metadata": {},
     "output_type": "execute_result"
    }
   ],
   "source": [
    "def is_prime(num):\n",
    "    prime = True\n",
    "    for i in range(2,num):\n",
    "        if num % i == 0:\n",
    "            prime = False\n",
    "    return prime\n",
    "\n",
    "def prime_factors(num):\n",
    "    prime = []\n",
    "    return [i for i in range(2,num) if num % i == 0 if is_prime(i)]\n",
    "\n",
    "num = int(input(\"Enter Number: \"))\n",
    "prime_factors(num)"
   ]
  },
  {
   "cell_type": "code",
   "execution_count": 60,
   "id": "cdc165e6",
   "metadata": {},
   "outputs": [
    {
     "name": "stdout",
     "output_type": "stream",
     "text": [
      "Enter Number: 315\n"
     ]
    },
    {
     "data": {
      "text/plain": [
       "[3, 5, 7]"
      ]
     },
     "execution_count": 60,
     "metadata": {},
     "output_type": "execute_result"
    }
   ],
   "source": [
    "def is_prime(num):\n",
    "    prime = True\n",
    "    for i in range(2,num):\n",
    "        if num % i == 0:\n",
    "            prime = False\n",
    "    return prime\n",
    "\n",
    "def prime_factors(num):\n",
    "    prime = []\n",
    "#     return [i for i in range(2,num) if is_prime(i) if num % i == 0]\n",
    "    for i in range(2,num):\n",
    "        if num % i == 0:\n",
    "            if is_prime(i):\n",
    "                prime.append(i)\n",
    "    return prime\n",
    "\n",
    "num = int(input(\"Enter Number: \"))\n",
    "prime_factors(num)"
   ]
  },
  {
   "cell_type": "code",
   "execution_count": 76,
   "id": "29cd036c",
   "metadata": {},
   "outputs": [],
   "source": [
    "# 23. Develop a program that extracts unique elements from a list and stores them in a new list using a list comprehension"
   ]
  },
  {
   "cell_type": "code",
   "execution_count": 88,
   "id": "cb3a777a",
   "metadata": {},
   "outputs": [
    {
     "data": {
      "text/plain": [
       "[3, 5, 6, 7, 8]"
      ]
     },
     "execution_count": 88,
     "metadata": {},
     "output_type": "execute_result"
    }
   ],
   "source": [
    "lst = [2,3,2,4,5,6,7,8,9,4,9]\n",
    "d = {}\n",
    "\n",
    "for i in lst:\n",
    "    if i not in d:\n",
    "        d[i] = 1\n",
    "    else:\n",
    "        d[i] += 1\n",
    "\n",
    "[i for i in d if d[i] == 1]"
   ]
  },
  {
   "cell_type": "code",
   "execution_count": 89,
   "id": "546a4828",
   "metadata": {},
   "outputs": [],
   "source": [
    "# 24. Create a program that generates a list of all palindromic numbers up to a specified limit using a list comprehension."
   ]
  },
  {
   "cell_type": "code",
   "execution_count": 97,
   "id": "1094681f",
   "metadata": {},
   "outputs": [
    {
     "name": "stdout",
     "output_type": "stream",
     "text": [
      " palindromic numbers up to a specified limit: 100\n"
     ]
    },
    {
     "data": {
      "text/plain": [
       "[0, 1, 2, 3, 4, 5, 6, 7, 8, 9, 11, 22, 33, 44, 55, 66, 77, 88, 99]"
      ]
     },
     "execution_count": 97,
     "metadata": {},
     "output_type": "execute_result"
    }
   ],
   "source": [
    "limit = int(input(\" palindromic numbers up to a specified limit: \"))\n",
    "[i for i in range(limit+1) if str(i) == str(str(i)[::-1])]"
   ]
  },
  {
   "cell_type": "code",
   "execution_count": 99,
   "id": "2bbe2085",
   "metadata": {},
   "outputs": [],
   "source": [
    "# 25. Write a program to flatten a nested list using list comprehension"
   ]
  },
  {
   "cell_type": "code",
   "execution_count": 117,
   "id": "e546b153",
   "metadata": {},
   "outputs": [
    {
     "data": {
      "text/plain": [
       "[1, 2, 'Yash', 1, 4, 5, 'PW', 'Skills', 'Walunj', True]"
      ]
     },
     "execution_count": 117,
     "metadata": {},
     "output_type": "execute_result"
    }
   ],
   "source": [
    "def flat_list(lst):\n",
    "    new_list = []\n",
    "    for i in lst:\n",
    "        if isinstance(i,list):\n",
    "            new_list.extend(flat_list(i))\n",
    "        else:\n",
    "            new_list.append(i)\n",
    "    return new_list\n",
    "\n",
    "lst = [1,2,\"Yash\",[1,4,5,[\"PW\",\"Skills\"],'Walunj'],True]\n",
    "flat_list(lst)"
   ]
  },
  {
   "cell_type": "code",
   "execution_count": null,
   "id": "28d6d286",
   "metadata": {},
   "outputs": [],
   "source": []
  },
  {
   "cell_type": "code",
   "execution_count": 118,
   "id": "4a92ff2c",
   "metadata": {},
   "outputs": [
    {
     "name": "stdout",
     "output_type": "stream",
     "text": [
      "[1, 2, 'Yash', 1, 4, 5, 'PW', 'Skills', 'Walunj', True]\n"
     ]
    }
   ],
   "source": [
    "def flatten_list(lst):\n",
    "    return [item for sublist in lst for item in (flatten_list(sublist) if isinstance(sublist, list) else [sublist])]\n",
    "\n",
    "nested_list = [1, 2, \"Yash\", [1, 4, 5, [\"PW\", \"Skills\"], 'Walunj'], True]\n",
    "flattened_list = flatten_list(nested_list)\n",
    "print(flattened_list)"
   ]
  },
  {
   "cell_type": "code",
   "execution_count": 119,
   "id": "5bd9b21b",
   "metadata": {},
   "outputs": [],
   "source": [
    "# 26. Develop a program that computes the sum of even and odd numbers in a list separately using list comprehension."
   ]
  },
  {
   "cell_type": "code",
   "execution_count": 136,
   "id": "3dcafda5",
   "metadata": {},
   "outputs": [
    {
     "name": "stdout",
     "output_type": "stream",
     "text": [
      "Sum of even numbers: 30\n",
      "Sum of odd numbers: 25\n"
     ]
    }
   ],
   "source": [
    "def sum_even_odd(lst):\n",
    "    even_sum = sum(x for x in lst if x % 2 == 0)\n",
    "    odd_sum = sum(x for x in lst if x % 2 != 0)\n",
    "    return even_sum, odd_sum\n",
    "\n",
    "lst = list(range(1, 11))\n",
    "even_sum, odd_sum = sum_even_odd(lst)\n",
    "print(f\"Sum of even numbers: {even_sum}\")\n",
    "print(f\"Sum of odd numbers: {odd_sum}\")"
   ]
  },
  {
   "cell_type": "code",
   "execution_count": null,
   "id": "9f199096",
   "metadata": {},
   "outputs": [],
   "source": []
  },
  {
   "cell_type": "code",
   "execution_count": 137,
   "id": "6bac7728",
   "metadata": {},
   "outputs": [],
   "source": [
    "# 27. Create a program that generates a list of squares of odd numbers between 1 and 10 using list comprehension"
   ]
  },
  {
   "cell_type": "code",
   "execution_count": 138,
   "id": "f809ba13",
   "metadata": {},
   "outputs": [
    {
     "data": {
      "text/plain": [
       "[1, 9, 25, 49, 81]"
      ]
     },
     "execution_count": 138,
     "metadata": {},
     "output_type": "execute_result"
    }
   ],
   "source": [
    "[pow(i,2) for i in range(1,11) if i % 2 != 0]"
   ]
  },
  {
   "cell_type": "code",
   "execution_count": 139,
   "id": "7daa0366",
   "metadata": {},
   "outputs": [],
   "source": [
    "# 28. Write a program that combines two lists into a dictionary using list comprehension."
   ]
  },
  {
   "cell_type": "code",
   "execution_count": 140,
   "id": "9e1ea584",
   "metadata": {},
   "outputs": [
    {
     "name": "stdout",
     "output_type": "stream",
     "text": [
      "{'a': 1, 'b': 2, 'c': 3, 'd': 4}\n"
     ]
    }
   ],
   "source": [
    "def combine_lists_to_dict(keys, values):\n",
    "    return {keys[i]: values[i] for i in range(min(len(keys), len(values)))}\n",
    "\n",
    "keys = ['a', 'b', 'c', 'd']\n",
    "values = [1, 2, 3, 4]\n",
    "combined_dict = combine_lists_to_dict(keys, values)\n",
    "print(combined_dict)"
   ]
  },
  {
   "cell_type": "code",
   "execution_count": 141,
   "id": "3042e81d",
   "metadata": {},
   "outputs": [],
   "source": [
    "# 29. Develop a program that extracts the vowels from a string and stores them in a list using list comprehension"
   ]
  },
  {
   "cell_type": "code",
   "execution_count": 142,
   "id": "a1db7e54",
   "metadata": {},
   "outputs": [
    {
     "data": {
      "text/plain": [
       "['a', 'a', 'u']"
      ]
     },
     "execution_count": 142,
     "metadata": {},
     "output_type": "execute_result"
    }
   ],
   "source": [
    "string = \"Yash Walunj\"\n",
    "[char for char in string if char in 'aeiou']"
   ]
  },
  {
   "cell_type": "code",
   "execution_count": 143,
   "id": "b98cdfe7",
   "metadata": {},
   "outputs": [],
   "source": [
    "# 30. Create a program that removes all non-numeric characters from a list of strings using list comprehension."
   ]
  },
  {
   "cell_type": "code",
   "execution_count": 152,
   "id": "e38bfa67",
   "metadata": {},
   "outputs": [
    {
     "data": {
      "text/plain": [
       "['1', '2', '3']"
      ]
     },
     "execution_count": 152,
     "metadata": {},
     "output_type": "execute_result"
    }
   ],
   "source": [
    "string =  [\"Welcome\",'to','pw']\n",
    "[char for char in string if  char.isdigit()]"
   ]
  },
  {
   "cell_type": "code",
   "execution_count": 156,
   "id": "822fa691",
   "metadata": {},
   "outputs": [
    {
     "name": "stdout",
     "output_type": "stream",
     "text": [
      "['123', '456', '789', '10']\n"
     ]
    }
   ],
   "source": [
    "def remove_non_numeric(input_list):\n",
    "    new=[]\n",
    "    for string in input_list:\n",
    "        lst=[]\n",
    "        for char in string:\n",
    "            if char.isdigit():\n",
    "                lst.append(char)\n",
    "        new.append(\"\".join(lst))   \n",
    "    return new\n",
    "\n",
    "input_list = [\"abc123\", \"def456\", \"ghi789\", \"xyz10\"]\n",
    "cleaned_list = remove_non_numeric(input_list)\n",
    "print(cleaned_list)"
   ]
  },
  {
   "cell_type": "code",
   "execution_count": 159,
   "id": "2a61259c",
   "metadata": {},
   "outputs": [
    {
     "name": "stdout",
     "output_type": "stream",
     "text": [
      "['123', '456', '789', '10']\n"
     ]
    }
   ],
   "source": [
    "def remove_non_numeric(input_list):\n",
    "    return [\"\".join(char for char in string if char.isdigit()) for string in input_list]\n",
    "\n",
    "input_list = [\"abc123\", \"def456\", \"ghi789\", \"xyz10\"]\n",
    "cleaned_list = remove_non_numeric(input_list)\n",
    "print(cleaned_list)"
   ]
  },
  {
   "cell_type": "code",
   "execution_count": null,
   "id": "e387463e",
   "metadata": {},
   "outputs": [],
   "source": []
  },
  {
   "cell_type": "code",
   "execution_count": 160,
   "id": "7fb1acbd",
   "metadata": {},
   "outputs": [],
   "source": [
    "# Challenge Level:"
   ]
  },
  {
   "cell_type": "code",
   "execution_count": 161,
   "id": "beb9192c",
   "metadata": {},
   "outputs": [],
   "source": [
    "# 31. Write a program to generate a list of prime numbers using the Sieve of Eratosthenes algorithm and list comprehension."
   ]
  },
  {
   "cell_type": "code",
   "execution_count": 22,
   "id": "c584c0e3",
   "metadata": {},
   "outputs": [
    {
     "name": "stdout",
     "output_type": "stream",
     "text": [
      "[2, 3, 5, 7, 11, 13, 17, 19, 23, 29, 31, 37, 41, 43, 47, 53, 59, 61, 67, 71, 73, 79, 83, 89, 97]\n"
     ]
    }
   ],
   "source": [
    "def sieve_of_eratosthenes(n):\n",
    "    if n < 2:\n",
    "        return []\n",
    "    \n",
    "    is_prime = [True] * (n+1)\n",
    "    is_prime[0],is_prime[1] = False,False\n",
    "    \n",
    "    for i in range(2,int(n**0.5)+1):\n",
    "        for j in range(i * i,n+1,i):\n",
    "            is_prime[j] = False\n",
    "            \n",
    "    return [i for i,prime in enumerate(is_prime) if prime]\n",
    "    \n",
    "    \n",
    "n = 100\n",
    "prime_numbers = sieve_of_eratosthenes(n)\n",
    "print(prime_numbers)"
   ]
  },
  {
   "cell_type": "code",
   "execution_count": 163,
   "id": "8c7bd1b5",
   "metadata": {},
   "outputs": [],
   "source": [
    "# 32. Create a program that generates a list of all Pythagorean triplets up to a specified limit using list comprehension."
   ]
  },
  {
   "cell_type": "code",
   "execution_count": 28,
   "id": "84f95724",
   "metadata": {},
   "outputs": [
    {
     "name": "stdout",
     "output_type": "stream",
     "text": [
      "[(3, 4, 5), (5, 12, 13), (6, 8, 10), (7, 24, 25), (8, 15, 17), (9, 12, 15), (10, 24, 26), (12, 16, 20), (15, 20, 25), (18, 24, 30), (20, 21, 29)]\n"
     ]
    }
   ],
   "source": [
    "def pythagorean_triplets(limit):\n",
    "    \"\"\"Return a list of all Pythagorean triplets (a, b, c) with a, b, c <= limit.\"\"\"\n",
    "    return [(a, b, c) for a in range(1, limit + 1)\n",
    "                     for b in range(a, limit + 1)\n",
    "                     for c in range(b, limit + 1)\n",
    "                     if a**2 + b**2 == c**2]\n",
    "\n",
    "limit = 30\n",
    "triplets = pythagorean_triplets(limit)\n",
    "print(triplets)"
   ]
  },
  {
   "cell_type": "code",
   "execution_count": 29,
   "id": "d5ed1db8",
   "metadata": {},
   "outputs": [],
   "source": [
    "# 33. Develop a program that generates a list of all possible combinations of two lists using list comprehension."
   ]
  },
  {
   "cell_type": "code",
   "execution_count": 30,
   "id": "d417f2f1",
   "metadata": {},
   "outputs": [
    {
     "name": "stdout",
     "output_type": "stream",
     "text": [
      "[(1, 'a'), (1, 'b'), (1, 'c'), (2, 'a'), (2, 'b'), (2, 'c'), (3, 'a'), (3, 'b'), (3, 'c')]\n"
     ]
    }
   ],
   "source": [
    "def combine_lists(list1, list2):\n",
    "    return [(a, b) for a in list1 for b in list2]\n",
    "\n",
    "list1 = [1, 2, 3]\n",
    "list2 = ['a', 'b', 'c']\n",
    "combinations = combine_lists(list1, list2)\n",
    "print(combinations)"
   ]
  },
  {
   "cell_type": "code",
   "execution_count": 31,
   "id": "d3f953d5",
   "metadata": {},
   "outputs": [],
   "source": [
    "# 34. Write a program that calculates the mean, median, and mode of a list of numbers using list comprehension."
   ]
  },
  {
   "cell_type": "code",
   "execution_count": 49,
   "id": "b7e61a23",
   "metadata": {},
   "outputs": [
    {
     "name": "stdout",
     "output_type": "stream",
     "text": [
      "Mean: 3.3333333333333335\n",
      "Median: 4.0\n",
      "Mode: [4]\n"
     ]
    }
   ],
   "source": [
    "import numpy as np\n",
    "\n",
    "def mean_median_mode(lst):\n",
    "    mean = np.mean(lst)\n",
    "    median = np.median(lst)\n",
    "    \n",
    "    d = {}\n",
    "    for num in lst:\n",
    "        if num not in d:\n",
    "            d[num] = 1\n",
    "        else:\n",
    "            d[num] += 1\n",
    "            \n",
    "    max_value = max(d.values())\n",
    "    mode = [key for key, value in d.items() if value == max_value]\n",
    "    \n",
    "    return mean, median, mode\n",
    "\n",
    "lst = [1, 2, 2, 3, 4, 4, 4, 5, 5]\n",
    "mean_val, median_val, mode_val = mean_median_mode(lst)\n",
    "print(f\"Mean: {mean_val}\")\n",
    "print(f\"Median: {median_val}\")\n",
    "print(f\"Mode: {mode_val}\")"
   ]
  },
  {
   "cell_type": "code",
   "execution_count": 54,
   "id": "c079c51c",
   "metadata": {},
   "outputs": [
    {
     "name": "stdout",
     "output_type": "stream",
     "text": [
      "Counter({4: 3, 2: 2, 5: 2, 1: 1, 3: 1})\n",
      "Mean: 3.3333333333333335\n",
      "Median: 4\n",
      "Mode: 4\n"
     ]
    }
   ],
   "source": [
    "from collections import Counter\n",
    "\n",
    "def mean(numbers):\n",
    "    return sum(numbers) / len(numbers)\n",
    "\n",
    "def median(numbers):\n",
    "    sorted_numbers = sorted(numbers)\n",
    "    n = len(sorted_numbers)\n",
    "    mid = n // 2\n",
    "    if n % 2 == 0:\n",
    "        return (sorted_numbers[mid - 1] + sorted_numbers[mid]) / 2\n",
    "    else:\n",
    "        return sorted_numbers[mid]\n",
    "\n",
    "def mode(numbers):\n",
    "    frequency = Counter(numbers)\n",
    "    print(frequency)\n",
    "    max_freq = max(frequency.values())\n",
    "    modes = [num for num, freq in frequency.items() if freq == max_freq]\n",
    "    if len(modes) == 1:\n",
    "        return modes[0]\n",
    "    return modes  \n",
    "\n",
    "numbers = [1, 2, 2, 3, 4, 4, 4, 5, 5]\n",
    "\n",
    "mean_value = mean(numbers)\n",
    "median_value = median(numbers)\n",
    "mode_value = mode(numbers)\n",
    "\n",
    "print(f\"Mean: {mean_value}\")\n",
    "print(f\"Median: {median_value}\")\n",
    "print(f\"Mode: {mode_value}\")"
   ]
  },
  {
   "cell_type": "code",
   "execution_count": 55,
   "id": "8eff6d90",
   "metadata": {},
   "outputs": [],
   "source": [
    "# 35. Create a program that generates Pascal's triangle up to a specified number of rows using list comprehension."
   ]
  },
  {
   "cell_type": "code",
   "execution_count": 72,
   "id": "f4051b97",
   "metadata": {},
   "outputs": [
    {
     "name": "stdout",
     "output_type": "stream",
     "text": [
      "[1]\n",
      "[1, 1]\n",
      "[1, 2, 1]\n",
      "[1, 3, 3, 1]\n",
      "[1, 4, 6, 4, 1]\n"
     ]
    }
   ],
   "source": [
    "def generate_pascals_triangle(n):\n",
    "    if n <= 0:\n",
    "        return []\n",
    "\n",
    "    triangle = [[1]]\n",
    "    for i in range(1, n):\n",
    "        row = [1] + [triangle[i-1][j-1] + triangle[i-1][j] for j in range(1, i)] + [1]\n",
    "        triangle.append(row)\n",
    "    \n",
    "    return triangle\n",
    "\n",
    "n = 5\n",
    "pascals_triangle = generate_pascals_triangle(n)\n",
    "for row in pascals_triangle:\n",
    "    print(row)"
   ]
  },
  {
   "cell_type": "code",
   "execution_count": 73,
   "id": "4b6017c5",
   "metadata": {},
   "outputs": [],
   "source": [
    "# 36. Develop a program that calculates the sum of the digits of a factorial of numbers from 1 to 5 using list comprehension."
   ]
  },
  {
   "cell_type": "code",
   "execution_count": 98,
   "id": "9bea5446",
   "metadata": {},
   "outputs": [
    {
     "data": {
      "text/plain": [
       "[1, 2, 6, 6, 3]"
      ]
     },
     "execution_count": 98,
     "metadata": {},
     "output_type": "execute_result"
    }
   ],
   "source": [
    "def factorial(num):\n",
    "    if num <= 1:\n",
    "        return 1\n",
    "    return num * factorial(num - 1)\n",
    "\n",
    "lst = list(range(1,6))\n",
    "fact_list = [factorial(num) for num in lst]\n",
    "sum_list = []\n",
    "\n",
    "for i in fact_list:\n",
    "    s = 0\n",
    "    while i != 0:\n",
    "        s += i % 10\n",
    "        i = i // 10\n",
    "    sum_list.append(s)\n",
    "sum_list"
   ]
  },
  {
   "cell_type": "code",
   "execution_count": 93,
   "id": "c7034afd",
   "metadata": {},
   "outputs": [
    {
     "name": "stdout",
     "output_type": "stream",
     "text": [
      "[1, 2, 6, 6, 3]\n"
     ]
    }
   ],
   "source": [
    "def factorial(num):\n",
    "    if num <= 1:\n",
    "        return 1\n",
    "    return num * factorial(num - 1)\n",
    "\n",
    "def sum_of_digits(n):\n",
    "    return sum(int(digit) for digit in str(n))\n",
    "\n",
    "lst = list(range(1, 6))\n",
    "\n",
    "sum_of_digits_list = [sum_of_digits(factorial(num)) for num in lst]\n",
    "\n",
    "print(sum_of_digits_list)"
   ]
  },
  {
   "cell_type": "code",
   "execution_count": 99,
   "id": "72cc7373",
   "metadata": {},
   "outputs": [],
   "source": [
    "# 37. Write a program that finds the longest word in a sentence using list comprehension"
   ]
  },
  {
   "cell_type": "code",
   "execution_count": 108,
   "id": "0fafb528",
   "metadata": {},
   "outputs": [
    {
     "data": {
      "text/plain": [
       "['Welcome']"
      ]
     },
     "execution_count": 108,
     "metadata": {},
     "output_type": "execute_result"
    }
   ],
   "source": [
    "sentence = \"Welcome to pw skills lab\"\n",
    "sentence_list = sentence.split()\n",
    "word_len = [len(word)for word in sentence_list] \n",
    "m = max(word_len)\n",
    "[sentence_list[index] for index,word in enumerate(sentence_list) if len(word) == m]"
   ]
  },
  {
   "cell_type": "code",
   "execution_count": 109,
   "id": "b4a98798",
   "metadata": {},
   "outputs": [
    {
     "name": "stdout",
     "output_type": "stream",
     "text": [
      "The longest word is: quick\n"
     ]
    }
   ],
   "source": [
    "def longest_word(sentence):\n",
    "    \"\"\"Find the longest word in a sentence.\"\"\"\n",
    "    words = sentence.split()\n",
    "    longest = max(words, key=len)    \n",
    "    return longest\n",
    "\n",
    "sentence = \"The quick brown fox jumps over the lazy dog\"\n",
    "longest = longest_word(sentence)\n",
    "print(f\"The longest word is: {longest}\")"
   ]
  },
  {
   "cell_type": "code",
   "execution_count": 110,
   "id": "28ffa48a",
   "metadata": {},
   "outputs": [],
   "source": [
    "# 38. Create a program that filters a list of strings to include only those with more than three vowels using list comprehension."
   ]
  },
  {
   "cell_type": "code",
   "execution_count": 120,
   "id": "aa1b3476",
   "metadata": {},
   "outputs": [
    {
     "data": {
      "text/plain": [
       "['beautiful', 'exquisite']"
      ]
     },
     "execution_count": 120,
     "metadata": {},
     "output_type": "execute_result"
    }
   ],
   "source": [
    "string_list =  [\"hello\", \"beautiful\", \"umbrella\", \"python\", \"programming\", \"exquisite\"]\n",
    "for word in string_list:\n",
    "    count = 0\n",
    "    for letter in word:\n",
    "        if letter in 'aeiou':\n",
    "            count += 1\n",
    "    if count > 3:\n",
    "        new_list.append(word)\n",
    "new_list"
   ]
  },
  {
   "cell_type": "code",
   "execution_count": 121,
   "id": "68999d8d",
   "metadata": {},
   "outputs": [
    {
     "name": "stdout",
     "output_type": "stream",
     "text": [
      "['beautiful', 'exquisite']\n"
     ]
    }
   ],
   "source": [
    "def vowel_count(word):\n",
    "    vowels = \"aeiouAEIOU\"\n",
    "    return sum(1 for letter in word if letter in vowels)\n",
    "\n",
    "def filter_words_with_vowels(words_list):\n",
    "    return [word for word in words_list if vowel_count(word) > 3]\n",
    "\n",
    "words_list = [\"hello\", \"beautiful\", \"umbrella\", \"python\", \"programming\", \"exquisite\"]\n",
    "filtered_words = filter_words_with_vowels(words_list)\n",
    "print(filtered_words)"
   ]
  },
  {
   "cell_type": "code",
   "execution_count": null,
   "id": "af085785",
   "metadata": {},
   "outputs": [],
   "source": []
  },
  {
   "cell_type": "code",
   "execution_count": 122,
   "id": "12245770",
   "metadata": {},
   "outputs": [],
   "source": [
    "# 39. Develop a program that calculates the sum of the digits of numbers from 1 to 1000 using list comprehension."
   ]
  },
  {
   "cell_type": "code",
   "execution_count": 133,
   "id": "61dc6d6a",
   "metadata": {},
   "outputs": [
    {
     "name": "stdout",
     "output_type": "stream",
     "text": [
      "[1, 2, 3, 4, 5, 6, 7, 8, 9, 1, 2, 3, 4, 5, 6, 7, 8, 9, 10, 2, 3, 4, 5, 6, 7, 8, 9, 10, 11, 3, 4, 5, 6, 7, 8, 9, 10, 11, 12, 4, 5, 6, 7, 8, 9, 10, 11, 12, 13, 5, 6, 7, 8, 9, 10, 11, 12, 13, 14, 6, 7, 8, 9, 10, 11, 12, 13, 14, 15, 7, 8, 9, 10, 11, 12, 13, 14, 15, 16, 8, 9, 10, 11, 12, 13, 14, 15, 16, 17, 9, 10, 11, 12, 13, 14, 15, 16, 17, 18, 1, 2, 3, 4, 5, 6, 7, 8, 9, 10, 2, 3, 4, 5, 6, 7, 8, 9, 10, 11, 3, 4, 5, 6, 7, 8, 9, 10, 11, 12, 4, 5, 6, 7, 8, 9, 10, 11, 12, 13, 5, 6, 7, 8, 9, 10, 11, 12, 13, 14, 6, 7, 8, 9, 10, 11, 12, 13, 14, 15, 7, 8, 9, 10, 11, 12, 13, 14, 15, 16, 8, 9, 10, 11, 12, 13, 14, 15, 16, 17, 9, 10, 11, 12, 13, 14, 15, 16, 17, 18, 10, 11, 12, 13, 14, 15, 16, 17, 18, 19, 2, 3, 4, 5, 6, 7, 8, 9, 10, 11, 3, 4, 5, 6, 7, 8, 9, 10, 11, 12, 4, 5, 6, 7, 8, 9, 10, 11, 12, 13, 5, 6, 7, 8, 9, 10, 11, 12, 13, 14, 6, 7, 8, 9, 10, 11, 12, 13, 14, 15, 7, 8, 9, 10, 11, 12, 13, 14, 15, 16, 8, 9, 10, 11, 12, 13, 14, 15, 16, 17, 9, 10, 11, 12, 13, 14, 15, 16, 17, 18, 10, 11, 12, 13, 14, 15, 16, 17, 18, 19, 11, 12, 13, 14, 15, 16, 17, 18, 19, 20, 3, 4, 5, 6, 7, 8, 9, 10, 11, 12, 4, 5, 6, 7, 8, 9, 10, 11, 12, 13, 5, 6, 7, 8, 9, 10, 11, 12, 13, 14, 6, 7, 8, 9, 10, 11, 12, 13, 14, 15, 7, 8, 9, 10, 11, 12, 13, 14, 15, 16, 8, 9, 10, 11, 12, 13, 14, 15, 16, 17, 9, 10, 11, 12, 13, 14, 15, 16, 17, 18, 10, 11, 12, 13, 14, 15, 16, 17, 18, 19, 11, 12, 13, 14, 15, 16, 17, 18, 19, 20, 12, 13, 14, 15, 16, 17, 18, 19, 20, 21, 4, 5, 6, 7, 8, 9, 10, 11, 12, 13, 5, 6, 7, 8, 9, 10, 11, 12, 13, 14, 6, 7, 8, 9, 10, 11, 12, 13, 14, 15, 7, 8, 9, 10, 11, 12, 13, 14, 15, 16, 8, 9, 10, 11, 12, 13, 14, 15, 16, 17, 9, 10, 11, 12, 13, 14, 15, 16, 17, 18, 10, 11, 12, 13, 14, 15, 16, 17, 18, 19, 11, 12, 13, 14, 15, 16, 17, 18, 19, 20, 12, 13, 14, 15, 16, 17, 18, 19, 20, 21, 13, 14, 15, 16, 17, 18, 19, 20, 21, 22, 5, 6, 7, 8, 9, 10, 11, 12, 13, 14, 6, 7, 8, 9, 10, 11, 12, 13, 14, 15, 7, 8, 9, 10, 11, 12, 13, 14, 15, 16, 8, 9, 10, 11, 12, 13, 14, 15, 16, 17, 9, 10, 11, 12, 13, 14, 15, 16, 17, 18, 10, 11, 12, 13, 14, 15, 16, 17, 18, 19, 11, 12, 13, 14, 15, 16, 17, 18, 19, 20, 12, 13, 14, 15, 16, 17, 18, 19, 20, 21, 13, 14, 15, 16, 17, 18, 19, 20, 21, 22, 14, 15, 16, 17, 18, 19, 20, 21, 22, 23, 6, 7, 8, 9, 10, 11, 12, 13, 14, 15, 7, 8, 9, 10, 11, 12, 13, 14, 15, 16, 8, 9, 10, 11, 12, 13, 14, 15, 16, 17, 9, 10, 11, 12, 13, 14, 15, 16, 17, 18, 10, 11, 12, 13, 14, 15, 16, 17, 18, 19, 11, 12, 13, 14, 15, 16, 17, 18, 19, 20, 12, 13, 14, 15, 16, 17, 18, 19, 20, 21, 13, 14, 15, 16, 17, 18, 19, 20, 21, 22, 14, 15, 16, 17, 18, 19, 20, 21, 22, 23, 15, 16, 17, 18, 19, 20, 21, 22, 23, 24, 7, 8, 9, 10, 11, 12, 13, 14, 15, 16, 8, 9, 10, 11, 12, 13, 14, 15, 16, 17, 9, 10, 11, 12, 13, 14, 15, 16, 17, 18, 10, 11, 12, 13, 14, 15, 16, 17, 18, 19, 11, 12, 13, 14, 15, 16, 17, 18, 19, 20, 12, 13, 14, 15, 16, 17, 18, 19, 20, 21, 13, 14, 15, 16, 17, 18, 19, 20, 21, 22, 14, 15, 16, 17, 18, 19, 20, 21, 22, 23, 15, 16, 17, 18, 19, 20, 21, 22, 23, 24, 16, 17, 18, 19, 20, 21, 22, 23, 24, 25, 8, 9, 10, 11, 12, 13, 14, 15, 16, 17, 9, 10, 11, 12, 13, 14, 15, 16, 17, 18, 10, 11, 12, 13, 14, 15, 16, 17, 18, 19, 11, 12, 13, 14, 15, 16, 17, 18, 19, 20, 12, 13, 14, 15, 16, 17, 18, 19, 20, 21, 13, 14, 15, 16, 17, 18, 19, 20, 21, 22, 14, 15, 16, 17, 18, 19, 20, 21, 22, 23, 15, 16, 17, 18, 19, 20, 21, 22, 23, 24, 16, 17, 18, 19, 20, 21, 22, 23, 24, 25, 17, 18, 19, 20, 21, 22, 23, 24, 25, 26, 9, 10, 11, 12, 13, 14, 15, 16, 17, 18, 10, 11, 12, 13, 14, 15, 16, 17, 18, 19, 11, 12, 13, 14, 15, 16, 17, 18, 19, 20, 12, 13, 14, 15, 16, 17, 18, 19, 20, 21, 13, 14, 15, 16, 17, 18, 19, 20, 21, 22, 14, 15, 16, 17, 18, 19, 20, 21, 22, 23, 15, 16, 17, 18, 19, 20, 21, 22, 23, 24, 16, 17, 18, 19, 20, 21, 22, 23, 24, 25, 17, 18, 19, 20, 21, 22, 23, 24, 25, 26, 18, 19, 20, 21, 22, 23, 24, 25, 26, 27, 1]\n"
     ]
    }
   ],
   "source": [
    "def sum_of_num(num):\n",
    "    return sum(int(digit) for digit in str(num))\n",
    "\n",
    "sum_of_digits_list = [sum_of_num(num) for num in range(1,1001)]\n",
    "print(sum_of_digits_list)"
   ]
  },
  {
   "cell_type": "code",
   "execution_count": 134,
   "id": "b63ab1ee",
   "metadata": {},
   "outputs": [],
   "source": [
    "# 40. Write a program that generates a list of prime palindromic numbers using list comprehension"
   ]
  },
  {
   "cell_type": "code",
   "execution_count": 139,
   "id": "9a6e6fd9",
   "metadata": {},
   "outputs": [
    {
     "name": "stdout",
     "output_type": "stream",
     "text": [
      "[2, 3, 5, 7, 11, 101, 131, 151, 181, 191, 313, 353, 373, 383, 727, 757, 787, 797, 919, 929]\n"
     ]
    }
   ],
   "source": [
    "def prime_no(n):\n",
    "    is_prime = [\"True\"] * (n+1)\n",
    "    is_prime[0],is_prime[1] = False,False\n",
    "    for i in range(2,int(n**0.5)+1):\n",
    "        for j in range(i * i,n+1,i):\n",
    "            is_prime[j] = False\n",
    "            \n",
    "    return [num for num,prime in enumerate(is_prime) if prime and str(num) == str(num)[::-1]]\n",
    "    \n",
    "n = 1000\n",
    "print(prime_no(n))"
   ]
  },
  {
   "cell_type": "code",
   "execution_count": null,
   "id": "39033146",
   "metadata": {},
   "outputs": [],
   "source": []
  }
 ],
 "metadata": {
  "kernelspec": {
   "display_name": "Python 3 (ipykernel)",
   "language": "python",
   "name": "python3"
  },
  "language_info": {
   "codemirror_mode": {
    "name": "ipython",
    "version": 3
   },
   "file_extension": ".py",
   "mimetype": "text/x-python",
   "name": "python",
   "nbconvert_exporter": "python",
   "pygments_lexer": "ipython3",
   "version": "3.9.13"
  }
 },
 "nbformat": 4,
 "nbformat_minor": 5
}
