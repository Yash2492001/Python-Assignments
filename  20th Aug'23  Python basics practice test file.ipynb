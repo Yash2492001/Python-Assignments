{
 "cells": [
  {
   "cell_type": "code",
   "execution_count": 1,
   "id": "24bac6f0",
   "metadata": {},
   "outputs": [],
   "source": [
    "#TOPIC: String Based Assignment Problem"
   ]
  },
  {
   "cell_type": "code",
   "execution_count": 2,
   "id": "723b759c",
   "metadata": {},
   "outputs": [],
   "source": [
    "#1. Write a program to reverse a string."
   ]
  },
  {
   "cell_type": "code",
   "execution_count": 4,
   "id": "2a0856f8",
   "metadata": {},
   "outputs": [
    {
     "name": "stdout",
     "output_type": "stream",
     "text": [
      "Enter string to reverse:madam\n",
      "madam\n"
     ]
    }
   ],
   "source": [
    "user_input=input(\"Enter string to reverse:\")\n",
    "\n",
    "reverse_string=user_input[::-1]\n",
    "print(reverse_string)"
   ]
  },
  {
   "cell_type": "code",
   "execution_count": null,
   "id": "5e96e67d",
   "metadata": {},
   "outputs": [],
   "source": []
  },
  {
   "cell_type": "code",
   "execution_count": 5,
   "id": "5506eb71",
   "metadata": {},
   "outputs": [],
   "source": [
    "#2. Check if a string is a palindrome."
   ]
  },
  {
   "cell_type": "code",
   "execution_count": 6,
   "id": "43329222",
   "metadata": {},
   "outputs": [
    {
     "name": "stdout",
     "output_type": "stream",
     "text": [
      "Enter string to check if it is palindrom:Madam\n",
      "string is a palindrome\n"
     ]
    }
   ],
   "source": [
    "user_input=input(\"Enter string to check if it is palindrom:\")\n",
    "\n",
    "def is_palindrom(o_input):\n",
    "    o_input=o_input.lower()\n",
    "    return o_input==o_input[::-1]\n",
    "\n",
    "if is_palindrom(user_input):\n",
    "    print(\"string is a palindrome\")\n",
    "else:\n",
    "    print(\"string is not a palindrome\")"
   ]
  },
  {
   "cell_type": "code",
   "execution_count": null,
   "id": "7dbc93c5",
   "metadata": {},
   "outputs": [],
   "source": []
  },
  {
   "cell_type": "code",
   "execution_count": 7,
   "id": "0e24e674",
   "metadata": {},
   "outputs": [],
   "source": [
    "#3. Convert a string to uppercase."
   ]
  },
  {
   "cell_type": "code",
   "execution_count": 8,
   "id": "e563f401",
   "metadata": {},
   "outputs": [
    {
     "data": {
      "text/plain": [
       "'HELLO'"
      ]
     },
     "execution_count": 8,
     "metadata": {},
     "output_type": "execute_result"
    }
   ],
   "source": [
    "u_case=\"hello\"\n",
    "\n",
    "u_case.upper()"
   ]
  },
  {
   "cell_type": "code",
   "execution_count": null,
   "id": "a917b877",
   "metadata": {},
   "outputs": [],
   "source": []
  },
  {
   "cell_type": "code",
   "execution_count": 9,
   "id": "b40069e5",
   "metadata": {},
   "outputs": [],
   "source": [
    "#4. Convert a string to lowercase."
   ]
  },
  {
   "cell_type": "code",
   "execution_count": 10,
   "id": "25de5129",
   "metadata": {},
   "outputs": [
    {
     "data": {
      "text/plain": [
       "'hello'"
      ]
     },
     "execution_count": 10,
     "metadata": {},
     "output_type": "execute_result"
    }
   ],
   "source": [
    "l_case=\"HELLO\"\n",
    "l_case.lower()"
   ]
  },
  {
   "cell_type": "code",
   "execution_count": null,
   "id": "418277ba",
   "metadata": {},
   "outputs": [],
   "source": []
  },
  {
   "cell_type": "code",
   "execution_count": 10,
   "id": "1ff97e76",
   "metadata": {},
   "outputs": [],
   "source": [
    "#5. Count the number of vowels in a string."
   ]
  },
  {
   "cell_type": "code",
   "execution_count": 11,
   "id": "9767f65b",
   "metadata": {},
   "outputs": [
    {
     "name": "stdout",
     "output_type": "stream",
     "text": [
      "Enter string:Welcome to pw\n",
      "Vowels in string: 4\n"
     ]
    }
   ],
   "source": [
    "user_input=input(\"Enter string:\")\n",
    "\n",
    "count=0\n",
    "for vowels in user_input:\n",
    "    vowels.lower()\n",
    "    if vowels in \"aeiou\":\n",
    "        count+=1\n",
    "print(f\"Vowels in string: {count}\")        "
   ]
  },
  {
   "cell_type": "code",
   "execution_count": null,
   "id": "770046a6",
   "metadata": {},
   "outputs": [],
   "source": []
  },
  {
   "cell_type": "code",
   "execution_count": 12,
   "id": "1ebc8c31",
   "metadata": {},
   "outputs": [],
   "source": [
    "#6. Count the number of consonants in a string."
   ]
  },
  {
   "cell_type": "code",
   "execution_count": 13,
   "id": "0712ed72",
   "metadata": {},
   "outputs": [
    {
     "name": "stdout",
     "output_type": "stream",
     "text": [
      "Enter string: Welcome\n",
      "consonants in given strings: 4\n"
     ]
    }
   ],
   "source": [
    "user_input=input(\"Enter string: \")\n",
    "\n",
    "count=0\n",
    "for consonants in user_input:\n",
    "    consonants=consonants.lower()\n",
    "    if consonants not in 'aeiou':\n",
    "        count+=1\n",
    "print('consonants in given strings:',count)"
   ]
  },
  {
   "cell_type": "code",
   "execution_count": null,
   "id": "c90fca33",
   "metadata": {},
   "outputs": [],
   "source": []
  },
  {
   "cell_type": "code",
   "execution_count": 14,
   "id": "1f4d044c",
   "metadata": {},
   "outputs": [],
   "source": [
    "#7. Remove all whitespaces from a string."
   ]
  },
  {
   "cell_type": "code",
   "execution_count": 15,
   "id": "6d919cf8",
   "metadata": {},
   "outputs": [
    {
     "name": "stdout",
     "output_type": "stream",
     "text": [
      "Enter string:Yash Walunj\n",
      "YashWalunj\n"
     ]
    }
   ],
   "source": [
    "user_input=input(\"Enter string:\")\n",
    "user_input=user_input.replace(\" \",'')\n",
    "print(user_input)"
   ]
  },
  {
   "cell_type": "code",
   "execution_count": null,
   "id": "5059f41e",
   "metadata": {},
   "outputs": [],
   "source": []
  },
  {
   "cell_type": "code",
   "execution_count": 16,
   "id": "4b7ffaae",
   "metadata": {},
   "outputs": [],
   "source": [
    "#8. Find the length of a string without using the `len()` function."
   ]
  },
  {
   "cell_type": "code",
   "execution_count": 17,
   "id": "7a1040bb",
   "metadata": {},
   "outputs": [
    {
     "name": "stdout",
     "output_type": "stream",
     "text": [
      "Enter string:Yash Walunj\n",
      "Length of string:  11\n"
     ]
    }
   ],
   "source": [
    "#convert string to array\n",
    "user_input=input('Enter string:')\n",
    "\n",
    "count=0\n",
    "for i in user_input:\n",
    "    count+=1\n",
    "print(\"Length of string: \",count)"
   ]
  },
  {
   "cell_type": "code",
   "execution_count": null,
   "id": "257ee05a",
   "metadata": {},
   "outputs": [],
   "source": []
  },
  {
   "cell_type": "code",
   "execution_count": 18,
   "id": "38009696",
   "metadata": {},
   "outputs": [],
   "source": [
    "#9. Check if a string contains a specific word."
   ]
  },
  {
   "cell_type": "code",
   "execution_count": 29,
   "id": "41190400",
   "metadata": {},
   "outputs": [
    {
     "name": "stdout",
     "output_type": "stream",
     "text": [
      "Enter string: Yash Walunj\n",
      "string contains a specific word\n"
     ]
    }
   ],
   "source": [
    "user_input=input(\"Enter string: \")\n",
    "\n",
    "specific_word=\"yash\"\n",
    "\n",
    "user_input=user_input.lower()\n",
    "user_input=user_input.split()\n",
    "\n",
    "def check_word(original_input):\n",
    "    if specific_word in original_input:\n",
    "            return True\n",
    "\n",
    "        \n",
    "if check_word(user_input):\n",
    "    print('string contains a specific word')\n",
    "else:\n",
    "    print('string not contains a specific word')\n",
    "        "
   ]
  },
  {
   "cell_type": "code",
   "execution_count": null,
   "id": "62713451",
   "metadata": {},
   "outputs": [],
   "source": []
  },
  {
   "cell_type": "code",
   "execution_count": 30,
   "id": "5a9d9c33",
   "metadata": {},
   "outputs": [],
   "source": [
    "#10. Replace a word in a string with another word."
   ]
  },
  {
   "cell_type": "code",
   "execution_count": 31,
   "id": "e5792096",
   "metadata": {},
   "outputs": [
    {
     "name": "stdout",
     "output_type": "stream",
     "text": [
      "data science master\n"
     ]
    }
   ],
   "source": [
    "user_input='Data Science Pro'\n",
    "user_input=user_input.lower()\n",
    "print(user_input.replace('pro','master'))"
   ]
  },
  {
   "cell_type": "code",
   "execution_count": null,
   "id": "f54f5d36",
   "metadata": {},
   "outputs": [],
   "source": []
  },
  {
   "cell_type": "code",
   "execution_count": 33,
   "id": "cd8b1a05",
   "metadata": {},
   "outputs": [],
   "source": [
    "#11. Count the occurrences of a word in a string."
   ]
  },
  {
   "cell_type": "code",
   "execution_count": 33,
   "id": "49b491ca",
   "metadata": {},
   "outputs": [
    {
     "name": "stdout",
     "output_type": "stream",
     "text": [
      "Enter string:Welcome to data science class! welcome students\n",
      "the occurrences of a word in a string: 2\n",
      "the occurrences of a word in a string: 2\n"
     ]
    }
   ],
   "source": [
    "user_input=input(\"Enter string:\")\n",
    "\n",
    "user_input=user_input.lower()\n",
    "target_word='welcome'\n",
    "user_input=user_input.split()\n",
    "\n",
    "print(\"the occurrences of a word in a string:\",user_input.count(target_word))\n",
    "count=0\n",
    "for i in user_input:\n",
    "    if i == target_word:\n",
    "        count+=1\n",
    "print(\"the occurrences of a word in a string:\",count)"
   ]
  },
  {
   "cell_type": "code",
   "execution_count": null,
   "id": "a35defba",
   "metadata": {},
   "outputs": [],
   "source": []
  },
  {
   "cell_type": "code",
   "execution_count": 34,
   "id": "1553ef57",
   "metadata": {},
   "outputs": [],
   "source": [
    "#12. Find the first occurrence of a word in a string."
   ]
  },
  {
   "cell_type": "code",
   "execution_count": 35,
   "id": "52715e2c",
   "metadata": {},
   "outputs": [
    {
     "name": "stdout",
     "output_type": "stream",
     "text": [
      "Enter string: Welcome to data science class! welcome students\n",
      "the first occurrence of a word in a string: 11\n"
     ]
    }
   ],
   "source": [
    "user_input=input(\"Enter string: \")\n",
    "\n",
    "first_occurrence='data'\n",
    "index=user_input.find(first_occurrence)\n",
    "print('the first occurrence of a word in a string:',index)"
   ]
  },
  {
   "cell_type": "code",
   "execution_count": null,
   "id": "a919b6be",
   "metadata": {},
   "outputs": [],
   "source": []
  },
  {
   "cell_type": "code",
   "execution_count": 4,
   "id": "ee53c056",
   "metadata": {},
   "outputs": [],
   "source": [
    "#13. Find the last occurrence of a word in a string."
   ]
  },
  {
   "cell_type": "code",
   "execution_count": 36,
   "id": "403f52d8",
   "metadata": {},
   "outputs": [
    {
     "name": "stdout",
     "output_type": "stream",
     "text": [
      "the last occurrence of a word in a string: 61\n"
     ]
    }
   ],
   "source": [
    "def last_index_of(sentence,word):\n",
    "    index=sentence.rfind(word)\n",
    "    \n",
    "    if index==-1:\n",
    "        return none\n",
    "    else:\n",
    "        return index\n",
    "\n",
    "sentence='Welcome to data science class! welcome students collect your data'\n",
    "word='data'\n",
    "print('the last occurrence of a word in a string:',last_index_of(sentence,word))"
   ]
  },
  {
   "cell_type": "code",
   "execution_count": null,
   "id": "deacf9ad",
   "metadata": {},
   "outputs": [],
   "source": []
  },
  {
   "cell_type": "code",
   "execution_count": 37,
   "id": "8d22325c",
   "metadata": {},
   "outputs": [],
   "source": [
    "#14. Split a string into a list of words."
   ]
  },
  {
   "cell_type": "code",
   "execution_count": 38,
   "id": "77662599",
   "metadata": {},
   "outputs": [
    {
     "name": "stdout",
     "output_type": "stream",
     "text": [
      "plit  string into a list of words: ['Hello', 'welcome', 'to', 'pw', 'data', 'science', 'pro', 'class']\n"
     ]
    }
   ],
   "source": [
    "user_input=\"Hello welcome to pw data science pro class\"\n",
    "\n",
    "print('plit  string into a list of words:',user_input.split())"
   ]
  },
  {
   "cell_type": "code",
   "execution_count": null,
   "id": "8dc8121f",
   "metadata": {},
   "outputs": [],
   "source": []
  },
  {
   "cell_type": "code",
   "execution_count": 39,
   "id": "2016d7fd",
   "metadata": {},
   "outputs": [],
   "source": [
    "#15. Join a list of words into a string."
   ]
  },
  {
   "cell_type": "code",
   "execution_count": 40,
   "id": "9e560d26",
   "metadata": {},
   "outputs": [
    {
     "name": "stdout",
     "output_type": "stream",
     "text": [
      "Join list of words into a string: Hello welcome to pw data science pro class\n"
     ]
    }
   ],
   "source": [
    "def join_words_to_string(words):\n",
    "    joined_string=' '.join(words)\n",
    "    return joined_string\n",
    "\n",
    "word_list=['Hello', 'welcome', 'to', 'pw', 'data', 'science', 'pro', 'class']\n",
    "text=join_words_to_string(word_list)\n",
    "print('Join list of words into a string:',text)"
   ]
  },
  {
   "cell_type": "code",
   "execution_count": null,
   "id": "35d7fddf",
   "metadata": {},
   "outputs": [],
   "source": []
  },
  {
   "cell_type": "code",
   "execution_count": 41,
   "id": "bbf8c90d",
   "metadata": {},
   "outputs": [],
   "source": [
    "#16. Convert a string where words are separated by spaces to one where words are separated by underscores."
   ]
  },
  {
   "cell_type": "code",
   "execution_count": 42,
   "id": "3eb5a6af",
   "metadata": {},
   "outputs": [
    {
     "name": "stdout",
     "output_type": "stream",
     "text": [
      "words seprated by underscore string:  Hello_welcome_to_pw_data_science_pro_class\n"
     ]
    }
   ],
   "source": [
    "normal_string='Hello welcome to pw data science pro class'\n",
    "\n",
    "new_string=normal_string.replace(' ','_')\n",
    "print('words seprated by underscore string: ',new_string)"
   ]
  },
  {
   "cell_type": "code",
   "execution_count": null,
   "id": "94fe62c7",
   "metadata": {},
   "outputs": [],
   "source": []
  },
  {
   "cell_type": "code",
   "execution_count": 43,
   "id": "5d080e98",
   "metadata": {},
   "outputs": [],
   "source": [
    "#17. Check if a string starts with a specific word or phrase."
   ]
  },
  {
   "cell_type": "code",
   "execution_count": 44,
   "id": "8e913f2c",
   "metadata": {},
   "outputs": [
    {
     "name": "stdout",
     "output_type": "stream",
     "text": [
      " string starts with a specific word or phrase\n"
     ]
    }
   ],
   "source": [
    "def starts_with(text,word):\n",
    "    result=text.startswith(word)\n",
    "    \n",
    "    return result\n",
    "\n",
    "text=\"Hello!, yash\"\n",
    "word=\"Hello!\"\n",
    "if starts_with(text,word):\n",
    "    print(' string starts with a specific word or phrase')\n",
    "else:\n",
    "    print(' string not starts with a specific word or phrase')"
   ]
  },
  {
   "cell_type": "code",
   "execution_count": null,
   "id": "d3a92037",
   "metadata": {},
   "outputs": [],
   "source": []
  },
  {
   "cell_type": "code",
   "execution_count": 45,
   "id": "6cfeae69",
   "metadata": {},
   "outputs": [],
   "source": [
    "#18. Check if a string ends with a specific word or phrase."
   ]
  },
  {
   "cell_type": "code",
   "execution_count": 46,
   "id": "cc7e6e6a",
   "metadata": {},
   "outputs": [
    {
     "name": "stdout",
     "output_type": "stream",
     "text": [
      " string ends with a specific word or phrase\n"
     ]
    }
   ],
   "source": [
    "def ends_with(text,word):\n",
    "    result=text.endswith(word)\n",
    "    \n",
    "    return result\n",
    "\n",
    "text=\"Hello!, yash\"\n",
    "word=\"ash\"\n",
    "if ends_with(text,word):\n",
    "    print(' string ends with a specific word or phrase')\n",
    "else:\n",
    "    print(' string not ends with a specific word or phrase')"
   ]
  },
  {
   "cell_type": "code",
   "execution_count": null,
   "id": "75abaa3e",
   "metadata": {},
   "outputs": [],
   "source": []
  },
  {
   "cell_type": "code",
   "execution_count": 48,
   "id": "b928d293",
   "metadata": {},
   "outputs": [],
   "source": [
    "#19. Convert a string to title case (e.g., \"hello world\" to \"Hello World\")."
   ]
  },
  {
   "cell_type": "code",
   "execution_count": 49,
   "id": "197edba6",
   "metadata": {},
   "outputs": [
    {
     "name": "stdout",
     "output_type": "stream",
     "text": [
      "Converted string to title case: Hello World\n"
     ]
    }
   ],
   "source": [
    "user_input=\"hello world\"\n",
    "\n",
    "new_string=user_input.title()\n",
    "print('Converted string to title case:',new_string)"
   ]
  },
  {
   "cell_type": "code",
   "execution_count": null,
   "id": "ff20a44e",
   "metadata": {},
   "outputs": [],
   "source": []
  },
  {
   "cell_type": "code",
   "execution_count": 50,
   "id": "1c567743",
   "metadata": {},
   "outputs": [],
   "source": [
    "#20. Find the longest word in a string."
   ]
  },
  {
   "cell_type": "code",
   "execution_count": 51,
   "id": "fdb6041b",
   "metadata": {},
   "outputs": [
    {
     "name": "stdout",
     "output_type": "stream",
     "text": [
      "longest word in a string: welcome\n"
     ]
    }
   ],
   "source": [
    "def find_longest_word(text):\n",
    "    text=text.split()\n",
    "    longest_len=0\n",
    "    longest_word=''\n",
    "    \n",
    "    for word in text:\n",
    "        if len(word) > longest_len:\n",
    "            longest_len=len(word)\n",
    "            longest_word=word\n",
    "    return longest_word\n",
    "\n",
    "text=' Hello welcome to pw data science pro class'\n",
    "longest=find_longest_word(text)\n",
    "print('longest word in a string:',longest)"
   ]
  },
  {
   "cell_type": "code",
   "execution_count": null,
   "id": "e1db5aa0",
   "metadata": {},
   "outputs": [],
   "source": []
  },
  {
   "cell_type": "code",
   "execution_count": 52,
   "id": "27cb93bc",
   "metadata": {},
   "outputs": [],
   "source": [
    "#21. Find the shortest word in a string."
   ]
  },
  {
   "cell_type": "code",
   "execution_count": 53,
   "id": "42ca9e87",
   "metadata": {},
   "outputs": [
    {
     "name": "stdout",
     "output_type": "stream",
     "text": [
      "shortest word in a string: to\n"
     ]
    }
   ],
   "source": [
    "def find_shortest_word(text):\n",
    "    text=text.split()\n",
    "    max_len=100\n",
    "    shortest_word=''\n",
    "    \n",
    "    for word in text:\n",
    "        if len(word) < max_len:\n",
    "            max_len=len(word)\n",
    "            shortest_word=word\n",
    "    return shortest_word\n",
    "\n",
    "text=' Hello welcome to pw data science pro class'\n",
    "shortest=find_shortest_word(text)\n",
    "print('shortest word in a string:',shortest)"
   ]
  },
  {
   "cell_type": "code",
   "execution_count": null,
   "id": "cdabbaff",
   "metadata": {},
   "outputs": [],
   "source": []
  },
  {
   "cell_type": "code",
   "execution_count": 23,
   "id": "8a2121be",
   "metadata": {},
   "outputs": [],
   "source": [
    "#22. Reverse the order of words in a string."
   ]
  },
  {
   "cell_type": "code",
   "execution_count": 15,
   "id": "bbee7b70",
   "metadata": {},
   "outputs": [
    {
     "name": "stdout",
     "output_type": "stream",
     "text": [
      "Reverse the order of words in a string:  class pro science data pw to welcome Hello\n"
     ]
    }
   ],
   "source": [
    "def reverse_order_string(text):\n",
    "    new_text=text.split()\n",
    "    new_text.reverse()\n",
    "    reverse_string=' '.join(new_text)\n",
    "    return reverse_string\n",
    "    \n",
    "\n",
    "text='Hello welcome to pw data science pro class'\n",
    "reverse_order=reverse_order_string(text)\n",
    "print('Reverse the order of words in a string: ',reverse_order)"
   ]
  },
  {
   "cell_type": "code",
   "execution_count": null,
   "id": "d5f82316",
   "metadata": {},
   "outputs": [],
   "source": []
  },
  {
   "cell_type": "code",
   "execution_count": 60,
   "id": "b321ecb4",
   "metadata": {},
   "outputs": [],
   "source": [
    "#23. Check if a string is alphanumeric."
   ]
  },
  {
   "cell_type": "code",
   "execution_count": 61,
   "id": "1d9edd20",
   "metadata": {},
   "outputs": [
    {
     "name": "stdout",
     "output_type": "stream",
     "text": [
      "True\n",
      "False\n"
     ]
    }
   ],
   "source": [
    "def is_alphanumeric(s):\n",
    "    return s.isalnum()\n",
    "\n",
    "\n",
    "print(is_alphanumeric(\"Hello123\"))  \n",
    "print(is_alphanumeric(\"Hello 123\"))"
   ]
  },
  {
   "cell_type": "markdown",
   "id": "c2b0b8d0",
   "metadata": {},
   "source": []
  },
  {
   "cell_type": "code",
   "execution_count": 62,
   "id": "46d7e187",
   "metadata": {},
   "outputs": [],
   "source": [
    "#24. Extract all digits from a string."
   ]
  },
  {
   "cell_type": "code",
   "execution_count": 64,
   "id": "afc984f8",
   "metadata": {},
   "outputs": [
    {
     "name": "stdout",
     "output_type": "stream",
     "text": [
      "333321\n"
     ]
    }
   ],
   "source": [
    "def extract_digits(s):\n",
    "#     digits = []\n",
    "    new=\"\"\n",
    "    for char in s:\n",
    "        if char.isdigit():\n",
    "            new+=char\n",
    "#             digits.append(char)\n",
    "#     return ''.join(digits)\n",
    "    return new\n",
    "\n",
    "# Example usage\n",
    "input_string = \"Hello333YashRaj321\"\n",
    "extracted_digits = extract_digits(input_string)\n",
    "print(extracted_digits)  \n"
   ]
  },
  {
   "cell_type": "code",
   "execution_count": null,
   "id": "04bc384e",
   "metadata": {},
   "outputs": [],
   "source": []
  },
  {
   "cell_type": "code",
   "execution_count": 65,
   "id": "33e06559",
   "metadata": {},
   "outputs": [],
   "source": [
    "#25. Extract all alphabets from a string."
   ]
  },
  {
   "cell_type": "code",
   "execution_count": 66,
   "id": "fe040e90",
   "metadata": {},
   "outputs": [
    {
     "name": "stdout",
     "output_type": "stream",
     "text": [
      "Alphabets Only:  YashHello\n"
     ]
    }
   ],
   "source": [
    "import re\n",
    "\n",
    "def extract_alphabets(text):\n",
    "    output=re.findall(r'[a-zA-Z]',text)\n",
    "    alphabets=''.join(output)\n",
    "    return alphabets\n",
    "\n",
    "text='123Yash23Hello'\n",
    "alphabets=extract_alphabets(text)\n",
    "print('Alphabets Only: ',alphabets)"
   ]
  },
  {
   "cell_type": "code",
   "execution_count": null,
   "id": "f4ae8499",
   "metadata": {},
   "outputs": [],
   "source": []
  },
  {
   "cell_type": "code",
   "execution_count": 67,
   "id": "7251b4a0",
   "metadata": {},
   "outputs": [],
   "source": [
    "#26. Count the number of uppercase letters in a string."
   ]
  },
  {
   "cell_type": "code",
   "execution_count": 68,
   "id": "a5c3a1e8",
   "metadata": {},
   "outputs": [
    {
     "name": "stdout",
     "output_type": "stream",
     "text": [
      "number of uppercase letters in a string:  4\n"
     ]
    }
   ],
   "source": [
    "def uppercase_letters(input_string):\n",
    "    count=0\n",
    "    for ch in input_string:\n",
    "        if ch==ch.upper():\n",
    "            count+=1\n",
    "    return count\n",
    "\n",
    "input_string='YAshTI'\n",
    "letters_count=uppercase_letters(input_string)\n",
    "print('number of uppercase letters in a string: ',letters_count)"
   ]
  },
  {
   "cell_type": "code",
   "execution_count": null,
   "id": "83fdbb60",
   "metadata": {},
   "outputs": [],
   "source": []
  },
  {
   "cell_type": "code",
   "execution_count": 69,
   "id": "b849fc6a",
   "metadata": {},
   "outputs": [],
   "source": [
    "#27. Count the number of lowercase letters in a string."
   ]
  },
  {
   "cell_type": "code",
   "execution_count": 70,
   "id": "c83a9061",
   "metadata": {},
   "outputs": [
    {
     "name": "stdout",
     "output_type": "stream",
     "text": [
      "number of owercase letters in a string:  2\n"
     ]
    }
   ],
   "source": [
    "def lowercase_letters(input_string):\n",
    "    count=0\n",
    "    for ch in input_string:\n",
    "        if ch.islower():\n",
    "            count+=1\n",
    "    return count\n",
    "\n",
    "input_string='YAshTI'\n",
    "letters_count=lowercase_letters(input_string)\n",
    "print('number of owercase letters in a string: ',letters_count)"
   ]
  },
  {
   "cell_type": "code",
   "execution_count": null,
   "id": "2ecb8501",
   "metadata": {},
   "outputs": [],
   "source": []
  },
  {
   "cell_type": "code",
   "execution_count": 71,
   "id": "f2e124be",
   "metadata": {},
   "outputs": [],
   "source": [
    "#28. Swap the case of each character in a string."
   ]
  },
  {
   "cell_type": "code",
   "execution_count": 72,
   "id": "1a3cf44d",
   "metadata": {},
   "outputs": [
    {
     "name": "stdout",
     "output_type": "stream",
     "text": [
      "Swapped case string: hELLO wORLD! hOW aRE yOU?\n"
     ]
    }
   ],
   "source": [
    "def swap_case(input_string):\n",
    "    return input_string.swapcase()\n",
    "\n",
    "input_string = \"Hello World! How Are You?\"\n",
    "swapped_string = swap_case(input_string)\n",
    "print(\"Swapped case string:\", swapped_string)"
   ]
  },
  {
   "cell_type": "code",
   "execution_count": null,
   "id": "d80da252",
   "metadata": {},
   "outputs": [],
   "source": []
  },
  {
   "cell_type": "code",
   "execution_count": 73,
   "id": "ed395ae1",
   "metadata": {},
   "outputs": [],
   "source": [
    "#29. Remove a specific word from a string."
   ]
  },
  {
   "cell_type": "code",
   "execution_count": 79,
   "id": "54c3a635",
   "metadata": {},
   "outputs": [
    {
     "name": "stdout",
     "output_type": "stream",
     "text": [
      "specific word removed string: Hello How Are You?\n"
     ]
    }
   ],
   "source": [
    "def word_remove(user_input,specific_word):\n",
    "    user_list=user_input.split()\n",
    "    o=[]\n",
    "    for ch in user_list:\n",
    "        if ch not in specific_word:\n",
    "            o.append(ch)\n",
    "    return ' '.join(o)\n",
    "\n",
    "user_input=\"Hello World How Are You?\"\n",
    "specific_word='World'\n",
    "remove_string=word_remove(user_input,specific_word)\n",
    "print('specific word removed string:',remove_string)"
   ]
  },
  {
   "cell_type": "code",
   "execution_count": 80,
   "id": "c0e9da58",
   "metadata": {},
   "outputs": [],
   "source": [
    "#29. Remove a specific word from a string."
   ]
  },
  {
   "cell_type": "code",
   "execution_count": 81,
   "id": "56c93437",
   "metadata": {},
   "outputs": [
    {
     "name": "stdout",
     "output_type": "stream",
     "text": [
      "specific word removed string: Hello  How Are You?\n"
     ]
    }
   ],
   "source": [
    "def word_remove(user_input,specific_word):\n",
    "    output=user_input.replace(specific_word,'')\n",
    "    return output\n",
    "\n",
    "\n",
    "user_input=\"Hello World How Are You?\"\n",
    "specific_word='World'\n",
    "remove_string=word_remove(user_input,specific_word)\n",
    "print('specific word removed string:',remove_string)"
   ]
  },
  {
   "cell_type": "code",
   "execution_count": null,
   "id": "f71bfd4d",
   "metadata": {},
   "outputs": [],
   "source": []
  },
  {
   "cell_type": "code",
   "execution_count": 10,
   "id": "7ae55fe8",
   "metadata": {},
   "outputs": [],
   "source": [
    "#30. Check if a string is a valid email address."
   ]
  },
  {
   "cell_type": "code",
   "execution_count": 31,
   "id": "bc4f99e3",
   "metadata": {},
   "outputs": [
    {
     "name": "stdout",
     "output_type": "stream",
     "text": [
      "string is a valid email address\n"
     ]
    }
   ],
   "source": [
    "import re\n",
    "def check(address):\n",
    "    pattern=r\"[a-zA-Z]+@[a-zA-Z]+\\.[a-zA-Z]+\"\n",
    "    \n",
    "    if re.match(pattern,address):\n",
    "        return True\n",
    "    else:\n",
    "        return False\n",
    "\n",
    "address=\"yash@email.com\"\n",
    "output=check(address)\n",
    "\n",
    "if output:\n",
    "    print(\"string is a valid email address\")\n",
    "else:\n",
    "    print(\"string is not a valid email address\")\n"
   ]
  },
  {
   "cell_type": "code",
   "execution_count": null,
   "id": "32c1e401",
   "metadata": {},
   "outputs": [],
   "source": []
  },
  {
   "cell_type": "code",
   "execution_count": 82,
   "id": "3f813941",
   "metadata": {},
   "outputs": [],
   "source": [
    "#31. Extract the username from an email address string."
   ]
  },
  {
   "cell_type": "code",
   "execution_count": 84,
   "id": "a3d9944e",
   "metadata": {},
   "outputs": [
    {
     "data": {
      "text/plain": [
       "['sai', 'yash']"
      ]
     },
     "execution_count": 84,
     "metadata": {},
     "output_type": "execute_result"
    }
   ],
   "source": [
    "import re\n",
    "def check(address):\n",
    "    pattern=r\"([a-zA-Z]+)@[a-zA-Z]+\\.[a-zA-Z]+\"\n",
    "    output=re.findall(pattern,address)\n",
    "    return output\n",
    "\n",
    "address=\"sai@outlook.com and i like to thanks yash@email.com\"\n",
    "output=check(address)\n",
    "output\n"
   ]
  },
  {
   "cell_type": "code",
   "execution_count": null,
   "id": "1640287c",
   "metadata": {},
   "outputs": [],
   "source": []
  },
  {
   "cell_type": "code",
   "execution_count": 85,
   "id": "10a02192",
   "metadata": {},
   "outputs": [],
   "source": [
    "#32. Extract the domain name from an email address string."
   ]
  },
  {
   "cell_type": "code",
   "execution_count": 86,
   "id": "c133291b",
   "metadata": {},
   "outputs": [
    {
     "data": {
      "text/plain": [
       "['outlook.com', 'email.com']"
      ]
     },
     "execution_count": 86,
     "metadata": {},
     "output_type": "execute_result"
    }
   ],
   "source": [
    "import re\n",
    "def extract(address):\n",
    "    pattern=r\"[a-zA-Z]+@([a-zA-Z]+\\.[a-zA-Z]+)\"\n",
    "    result=re.findall(pattern,address)\n",
    "    return result\n",
    "\n",
    "address=\"sai@outlook.com and i like to thanks yash@email.com\"\n",
    "output=extract(address)\n",
    "output"
   ]
  },
  {
   "cell_type": "code",
   "execution_count": null,
   "id": "333d8a88",
   "metadata": {},
   "outputs": [],
   "source": []
  },
  {
   "cell_type": "code",
   "execution_count": 87,
   "id": "5a92b5a3",
   "metadata": {},
   "outputs": [],
   "source": [
    "#33. Replace multiple spaces in a string with a single space."
   ]
  },
  {
   "cell_type": "code",
   "execution_count": 89,
   "id": "0837365f",
   "metadata": {},
   "outputs": [
    {
     "data": {
      "text/plain": [
       "'Welcome to PW skills Lab'"
      ]
     },
     "execution_count": 89,
     "metadata": {},
     "output_type": "execute_result"
    }
   ],
   "source": [
    "import re\n",
    "def modify(text):\n",
    "    result=re.sub(r\"\\s+\",\" \",text)\n",
    "    return result\n",
    "\n",
    "text=\"Welcome  to PW             skills    Lab\"\n",
    "output=modify(text)\n",
    "output"
   ]
  },
  {
   "cell_type": "code",
   "execution_count": null,
   "id": "8524b082",
   "metadata": {},
   "outputs": [],
   "source": []
  },
  {
   "cell_type": "code",
   "execution_count": 1,
   "id": "1bdabfc6",
   "metadata": {},
   "outputs": [],
   "source": [
    "#34. Check if a string is a valid URL."
   ]
  },
  {
   "cell_type": "code",
   "execution_count": 17,
   "id": "44df6125",
   "metadata": {},
   "outputs": [
    {
     "name": "stdout",
     "output_type": "stream",
     "text": [
      "True\n",
      "False\n"
     ]
    }
   ],
   "source": [
    "import re\n",
    "def valid(url1):\n",
    "    pattern=r\"https://[a-zA-Z]+\\.[a-zA-Z]+\\.com\"\n",
    "    result=re.compile(pattern) \n",
    "    if result.search(url1):\n",
    "        return True\n",
    "    else:\n",
    "        return False\n",
    "#     return result \n",
    "\n",
    "url1 = \"https://www.example.com\"\n",
    "url2 = \"not_a_valid_url\"\n",
    "output1=valid(url1)\n",
    "output2=valid(url2)\n",
    "print(output1)\n",
    "print(output2)"
   ]
  },
  {
   "cell_type": "code",
   "execution_count": null,
   "id": "719a619f",
   "metadata": {},
   "outputs": [],
   "source": []
  },
  {
   "cell_type": "code",
   "execution_count": 9,
   "id": "34cbac83",
   "metadata": {},
   "outputs": [],
   "source": [
    "#35. Extract the protocol (http or https) from a URL string."
   ]
  },
  {
   "cell_type": "code",
   "execution_count": 92,
   "id": "972b134f",
   "metadata": {},
   "outputs": [
    {
     "name": "stdout",
     "output_type": "stream",
     "text": [
      "['http']\n",
      "['https']\n"
     ]
    }
   ],
   "source": [
    "import re\n",
    "def extract(url):\n",
    "    pattern=r\"([a-zA-Z]+)://[a-zA-Z]+\\.[a-zA-Z]+\\.com\"\n",
    "    result=re.findall(pattern,url)\n",
    "    return result\n",
    "    \n",
    "\n",
    "url1=\"http://www.example.com\"\n",
    "url2=\"https://www.amazon.com\"\n",
    "output1=extract(url1)\n",
    "output2=extract(url2)\n",
    "print(output1)\n",
    "print(output2)"
   ]
  },
  {
   "cell_type": "code",
   "execution_count": null,
   "id": "2ca8c48e",
   "metadata": {},
   "outputs": [],
   "source": []
  },
  {
   "cell_type": "code",
   "execution_count": 20,
   "id": "5a254731",
   "metadata": {},
   "outputs": [],
   "source": [
    "#36. Find the frequency of each character in a string."
   ]
  },
  {
   "cell_type": "code",
   "execution_count": 35,
   "id": "6177daef",
   "metadata": {},
   "outputs": [
    {
     "name": "stdout",
     "output_type": "stream",
     "text": [
      "H-1\n",
      "e-1\n",
      "l-3\n",
      "o-2\n",
      "W-1\n",
      "r-1\n",
      "d-1\n"
     ]
    }
   ],
   "source": [
    "def frequency(str1):\n",
    "    lst=[0] * len(str1)\n",
    "    for i in range(0,len(str1)):\n",
    "        lst[i]=1\n",
    "        for j in range(i+1,len(str1)):\n",
    "            if(str1[i]==str1[j]):\n",
    "                lst[i]+=1\n",
    "                str1=str1[:j] + \"0\" + str1[j+1:]\n",
    "    \n",
    "    for i in range(len(str1)):\n",
    "        if str1[i] != \" \" and str1[i] != \"0\":\n",
    "            print(str1[i] + \"-\" + str(lst[i]))\n",
    "            \n",
    "\n",
    "str1=\"Hello World\"\n",
    "frequency(str1)"
   ]
  },
  {
   "cell_type": "code",
   "execution_count": 2,
   "id": "3758f152",
   "metadata": {},
   "outputs": [
    {
     "name": "stdout",
     "output_type": "stream",
     "text": [
      "{'h': 1, 'e': 1, 'l': 3, 'o': 2, ' ': 1, 'w': 1, 'r': 1, 'd': 1}\n"
     ]
    }
   ],
   "source": [
    "def character_frequency(string):\n",
    "    frequency = {}\n",
    "    for char in string:\n",
    "        if char in frequency:\n",
    "            frequency[char] += 1\n",
    "        else:\n",
    "            frequency[char] = 1\n",
    "    return frequency\n",
    "\n",
    "# Example usage:\n",
    "input_string = \"hello world\"\n",
    "frequency = character_frequency(input_string)\n",
    "print(frequency)"
   ]
  },
  {
   "cell_type": "code",
   "execution_count": 37,
   "id": "39348adb",
   "metadata": {},
   "outputs": [],
   "source": [
    "#37. Remove all punctuation from a string."
   ]
  },
  {
   "cell_type": "code",
   "execution_count": 3,
   "id": "ea87f417",
   "metadata": {},
   "outputs": [
    {
     "data": {
      "text/plain": [
       "'Hello there How are you doing'"
      ]
     },
     "execution_count": 3,
     "metadata": {},
     "output_type": "execute_result"
    }
   ],
   "source": [
    "def pun_remove(string):\n",
    "    punctuation_marks = '''!()-[]{};:'\"\\,<>./?@#$%^&*_~'''\n",
    "    new_str=\"\"\n",
    "    for i in string:\n",
    "        if i not in punctuation_marks:\n",
    "            new_str+=i\n",
    "    return new_str\n",
    "\n",
    "string=\"Hello, there! How are you doing?\"\n",
    "output=pun_remove(string)\n",
    "output"
   ]
  },
  {
   "cell_type": "code",
   "execution_count": 4,
   "id": "b3987754",
   "metadata": {},
   "outputs": [
    {
     "data": {
      "text/plain": [
       "'Hello there How are you doing'"
      ]
     },
     "execution_count": 4,
     "metadata": {},
     "output_type": "execute_result"
    }
   ],
   "source": [
    "string=\"Hello, there! How are you doing?\"\n",
    "punctuation_marks = '''!()-[]{};:'\"\\,<>./?@#$%^&*_~'''\n",
    "for char in punctuation_marks:\n",
    "    string=string.replace(char,'')\n",
    "\n",
    "string"
   ]
  },
  {
   "cell_type": "code",
   "execution_count": null,
   "id": "bcffa055",
   "metadata": {},
   "outputs": [],
   "source": []
  },
  {
   "cell_type": "code",
   "execution_count": 5,
   "id": "0a8ef751",
   "metadata": {},
   "outputs": [],
   "source": [
    "#38. Check if a string contains only digits."
   ]
  },
  {
   "cell_type": "code",
   "execution_count": 6,
   "id": "ed6b974c",
   "metadata": {},
   "outputs": [
    {
     "data": {
      "text/plain": [
       "True"
      ]
     },
     "execution_count": 6,
     "metadata": {},
     "output_type": "execute_result"
    }
   ],
   "source": [
    "def show(string):\n",
    "    result=string.isdigit()\n",
    "    return result\n",
    "\n",
    "string=\"12323\"\n",
    "output=show(string)\n",
    "output"
   ]
  },
  {
   "cell_type": "code",
   "execution_count": null,
   "id": "e91e904c",
   "metadata": {},
   "outputs": [],
   "source": []
  },
  {
   "cell_type": "code",
   "execution_count": 7,
   "id": "2ca453e3",
   "metadata": {},
   "outputs": [],
   "source": [
    "#39. Check if a string contains only alphabets."
   ]
  },
  {
   "cell_type": "code",
   "execution_count": 10,
   "id": "0193bc73",
   "metadata": {},
   "outputs": [
    {
     "data": {
      "text/plain": [
       "False"
      ]
     },
     "execution_count": 10,
     "metadata": {},
     "output_type": "execute_result"
    }
   ],
   "source": [
    "def show(string):\n",
    "    result=string.isalpha()\n",
    "    return result\n",
    "\n",
    "string=\"acbE1\"\n",
    "output=show(string)\n",
    "output"
   ]
  },
  {
   "cell_type": "code",
   "execution_count": null,
   "id": "906bd543",
   "metadata": {},
   "outputs": [],
   "source": []
  },
  {
   "cell_type": "code",
   "execution_count": 59,
   "id": "e88bbb06",
   "metadata": {},
   "outputs": [],
   "source": [
    "#40. Convert a string to a list of characters."
   ]
  },
  {
   "cell_type": "code",
   "execution_count": 13,
   "id": "fda9c820",
   "metadata": {},
   "outputs": [
    {
     "data": {
      "text/plain": [
       "['H', 'e', 'l', 'l', 'o', ',', ' ', 'W', 'o', 'r', 'l', 'd', '!']"
      ]
     },
     "execution_count": 13,
     "metadata": {},
     "output_type": "execute_result"
    }
   ],
   "source": [
    "def str_to_list(string):\n",
    "    #return [char for char in string]\n",
    "    return list(string)\n",
    "\n",
    "string=\"Hello, World!\"\n",
    "output=str_to_list(string)\n",
    "output"
   ]
  },
  {
   "cell_type": "code",
   "execution_count": null,
   "id": "9f90bdee",
   "metadata": {},
   "outputs": [],
   "source": []
  },
  {
   "cell_type": "code",
   "execution_count": 63,
   "id": "771f3503",
   "metadata": {},
   "outputs": [],
   "source": [
    "#41. Check if two strings are anagrams."
   ]
  },
  {
   "cell_type": "code",
   "execution_count": 16,
   "id": "7447f034",
   "metadata": {},
   "outputs": [
    {
     "data": {
      "text/plain": [
       "True"
      ]
     },
     "execution_count": 16,
     "metadata": {},
     "output_type": "execute_result"
    }
   ],
   "source": [
    "def is_anagram(str1,str2):\n",
    "    if len(str1) != len(str2):\n",
    "        return False\n",
    "    \n",
    "    for i in str1:\n",
    "        if i not in str2:\n",
    "            return False\n",
    "    return True\n",
    "\n",
    "str1=\"car\"\n",
    "str2=\"rac\"\n",
    "output=is_anagram(str1,str2)\n",
    "output"
   ]
  },
  {
   "cell_type": "code",
   "execution_count": null,
   "id": "15f31555",
   "metadata": {},
   "outputs": [],
   "source": []
  },
  {
   "cell_type": "code",
   "execution_count": 17,
   "id": "f1fc2cef",
   "metadata": {},
   "outputs": [],
   "source": [
    "#42. Encode a string using a Caesar cipher."
   ]
  },
  {
   "cell_type": "code",
   "execution_count": 19,
   "id": "0bf89247",
   "metadata": {},
   "outputs": [
    {
     "name": "stdout",
     "output_type": "stream",
     "text": [
      "Original text: Hello, World!\n",
      "Encrypted text: Khoor, Zruog!\n"
     ]
    }
   ],
   "source": [
    "def caesar_cipher_encrypt(text, shift):\n",
    "    encrypted_text = \"\"\n",
    "    for char in text:\n",
    "        if char.isalpha():  \n",
    "            shifted = ord(char) + shift\n",
    "            if char.islower():  \n",
    "                if shifted > ord('z'):\n",
    "                    shifted -= 26\n",
    "                elif shifted < ord('a'):\n",
    "                    shifted += 26\n",
    "            elif char.isupper():  \n",
    "                if shifted > ord('Z'):\n",
    "                    shifted -= 26\n",
    "                elif shifted < ord('A'):\n",
    "                    shifted += 26\n",
    "            encrypted_text += chr(shifted)\n",
    "        else:\n",
    "            encrypted_text += char  \n",
    "    return encrypted_text\n",
    "\n",
    "# Example usage\n",
    "text = \"Hello, World!\"\n",
    "shift = 3\n",
    "encrypted_text = caesar_cipher_encrypt(text, shift)\n",
    "print(\"Original text:\", text)\n",
    "print(\"Encrypted text:\", encrypted_text)"
   ]
  },
  {
   "cell_type": "code",
   "execution_count": null,
   "id": "6aad4905",
   "metadata": {},
   "outputs": [],
   "source": []
  },
  {
   "cell_type": "code",
   "execution_count": 35,
   "id": "9a3a98c4",
   "metadata": {},
   "outputs": [
    {
     "name": "stdout",
     "output_type": "stream",
     "text": [
      "Original text: Hello, World!\n",
      "Encrypted text: khoor, zruog!\n"
     ]
    }
   ],
   "source": [
    "def caesar_cipher_encrypt(text, shift,alphabet_dict):\n",
    "    text = text.lower()\n",
    "    encrypted_text = \"\"\n",
    "    for char in text:\n",
    "        if char.isalpha():\n",
    "            shifted = (alphabet_dict_key[char] + shift) % 26\n",
    "            encrypted_text += alphabet_dict_value[shifted]\n",
    "        else:\n",
    "            encrypted_text += char\n",
    "    return encrypted_text\n",
    "        \n",
    "\n",
    "alphabet_dict_key = {\n",
    "    'a': 0,\n",
    "    'b': 1,\n",
    "    'c': 2,\n",
    "    'd': 3,\n",
    "    'e': 4,\n",
    "    'f': 5,\n",
    "    'g': 6,\n",
    "    'h': 7,\n",
    "    'i': 8,\n",
    "    'j': 9,\n",
    "    'k': 10,\n",
    "    'l': 11,\n",
    "    'm': 12,\n",
    "    'n': 13,\n",
    "    'o': 14,\n",
    "    'p': 15,\n",
    "    'q': 16,\n",
    "    'r': 17,\n",
    "    's': 18,\n",
    "    't': 19,\n",
    "    'u': 20,\n",
    "    'v': 21,\n",
    "    'w': 22,\n",
    "    'x': 23,\n",
    "    'y': 24,\n",
    "    'z': 25\n",
    "}\n",
    "\n",
    "alphabet_dict_value = {\n",
    "    0: 'a',1: 'b',2: 'c',3: 'd',4: 'e',5: 'f',6: 'g',7: 'h',8: 'i',9: 'j',10: 'k',11: 'l',12: 'm',13: 'n',14: 'o',15: 'p',\n",
    "    16: 'q',17: 'r',18: 's',19: 't',20: 'u',21: 'v',22: 'w',23: 'x',24: 'y',25: 'z'\n",
    "}\n",
    "\n",
    "# Example usage\n",
    "text = \"Hello, World!\"\n",
    "shift = 3\n",
    "encrypted_text = caesar_cipher_encrypt(text, shift,alphabet_dict)\n",
    "print(\"Original text:\", text)\n",
    "print(\"Encrypted text:\", encrypted_text)"
   ]
  },
  {
   "cell_type": "code",
   "execution_count": null,
   "id": "f2e503e5",
   "metadata": {},
   "outputs": [],
   "source": []
  },
  {
   "cell_type": "code",
   "execution_count": null,
   "id": "3d735a79",
   "metadata": {},
   "outputs": [],
   "source": [
    "#43. Decode a Caesar cipher encoded string."
   ]
  },
  {
   "cell_type": "code",
   "execution_count": 28,
   "id": "27c84282",
   "metadata": {},
   "outputs": [
    {
     "name": "stdout",
     "output_type": "stream",
     "text": [
      "Encrypted text: Khoor, Zruog!\n",
      "Decrypted text: Hello, World!\n"
     ]
    }
   ],
   "source": [
    "def caesar_cipher_decrypt(text, shift):\n",
    "    decrypted_text = \"\"\n",
    "    for char in text:\n",
    "        if char.isalpha():  \n",
    "            shifted = ord(char) - shift\n",
    "            if char.islower():  \n",
    "                if shifted > ord('z'):\n",
    "                    shifted -= 26\n",
    "                elif shifted < ord('a'):\n",
    "                    shifted += 26\n",
    "            elif char.isupper():  \n",
    "                if shifted > ord('Z'):\n",
    "                    shifted -= 26\n",
    "                elif shifted < ord('A'):\n",
    "                    shifted += 26\n",
    "            decrypted_text += chr(shifted)\n",
    "        else:\n",
    "            decrypted_text += char  \n",
    "    return decrypted_text\n",
    "\n",
    "# Example usage\n",
    "encrypted_text = \"Khoor, Zruog!\"\n",
    "shift = 3\n",
    "decrypted_text = caesar_cipher_decrypt(encrypted_text, shift)\n",
    "print(\"Encrypted text:\", encrypted_text)\n",
    "print(\"Decrypted text:\", decrypted_text)"
   ]
  },
  {
   "cell_type": "code",
   "execution_count": null,
   "id": "aa475995",
   "metadata": {},
   "outputs": [],
   "source": []
  },
  {
   "cell_type": "code",
   "execution_count": 37,
   "id": "03750f9f",
   "metadata": {},
   "outputs": [
    {
     "name": "stdout",
     "output_type": "stream",
     "text": [
      "Original text: Khoor, Zruog!\n",
      "Encrypted text: hello, world!\n"
     ]
    }
   ],
   "source": [
    "def caesar_cipher_decrypt(text, shift,alphabet_dict):\n",
    "    text = text.lower()\n",
    "    decrypted_text = \"\"\n",
    "    for char in text:\n",
    "        if char.isalpha():\n",
    "            shifted = (alphabet_dict_key[char] - shift) % 26\n",
    "            decrypted_text += alphabet_dict_value[shifted]\n",
    "        else:\n",
    "            decrypted_text += char\n",
    "    return decrypted_text\n",
    "        \n",
    "\n",
    "alphabet_dict_key = {\n",
    "    'a': 0,\n",
    "    'b': 1,\n",
    "    'c': 2,\n",
    "    'd': 3,\n",
    "    'e': 4,\n",
    "    'f': 5,\n",
    "    'g': 6,\n",
    "    'h': 7,\n",
    "    'i': 8,\n",
    "    'j': 9,\n",
    "    'k': 10,\n",
    "    'l': 11,\n",
    "    'm': 12,\n",
    "    'n': 13,\n",
    "    'o': 14,\n",
    "    'p': 15,\n",
    "    'q': 16,\n",
    "    'r': 17,\n",
    "    's': 18,\n",
    "    't': 19,\n",
    "    'u': 20,\n",
    "    'v': 21,\n",
    "    'w': 22,\n",
    "    'x': 23,\n",
    "    'y': 24,\n",
    "    'z': 25\n",
    "}\n",
    "\n",
    "alphabet_dict_value = {\n",
    "    0: 'a',1: 'b',2: 'c',3: 'd',4: 'e',5: 'f',6: 'g',7: 'h',8: 'i',9: 'j',10: 'k',11: 'l',12: 'm',13: 'n',14: 'o',15: 'p',\n",
    "    16: 'q',17: 'r',18: 's',19: 't',20: 'u',21: 'v',22: 'w',23: 'x',24: 'y',25: 'z'\n",
    "}\n",
    "\n",
    "# Example usage\n",
    "text = \"Khoor, Zruog!\"\n",
    "shift = 3\n",
    "decrypted_text = caesar_cipher_decrypt(text, shift,alphabet_dict)\n",
    "print(\"Original text:\", text)\n",
    "print(\"Encrypted text:\", decrypted_text)"
   ]
  },
  {
   "cell_type": "code",
   "execution_count": null,
   "id": "db642991",
   "metadata": {},
   "outputs": [],
   "source": []
  },
  {
   "cell_type": "code",
   "execution_count": 21,
   "id": "36718116",
   "metadata": {},
   "outputs": [],
   "source": [
    "#44. Find the most frequent word in a string."
   ]
  },
  {
   "cell_type": "code",
   "execution_count": 44,
   "id": "36420256",
   "metadata": {},
   "outputs": [
    {
     "name": "stdout",
     "output_type": "stream",
     "text": [
      "most frequent word in a string: you\n"
     ]
    }
   ],
   "source": [
    "def index(frq):\n",
    "    maximum=frq[0]\n",
    "    ind=0\n",
    "    for i in range(len(frq)):\n",
    "        if frq[i] > maximum:\n",
    "            maximum=frq[i]\n",
    "            ind=i\n",
    "    return ind\n",
    "\n",
    "def frq_count(string):\n",
    "    new=string.split()\n",
    "    frq=[0] * len(new)\n",
    "    for i in range(len(new)):\n",
    "        frq[i]=1\n",
    "        for j in range(i+1,len(new)):\n",
    "            if new[i]==new[j]:\n",
    "                frq[i]+=1\n",
    "                new[j]=\"0\"\n",
    "                \n",
    "    max_index=index(frq)\n",
    "    return new[max_index]\n",
    "\n",
    "\n",
    "string=\"Hay Hi Yash Hay how are you you you\"\n",
    "output=frq_count(string)\n",
    "print(\"most frequent word in a string: \"+ output)"
   ]
  },
  {
   "cell_type": "code",
   "execution_count": null,
   "id": "bcc3f308",
   "metadata": {},
   "outputs": [],
   "source": []
  },
  {
   "cell_type": "code",
   "execution_count": 45,
   "id": "e5241f08",
   "metadata": {},
   "outputs": [],
   "source": [
    "#45. Find all unique words in a string."
   ]
  },
  {
   "cell_type": "code",
   "execution_count": 54,
   "id": "a5f9604e",
   "metadata": {},
   "outputs": [
    {
     "name": "stdout",
     "output_type": "stream",
     "text": [
      "unique word in a string: Hi Yash how are \n"
     ]
    }
   ],
   "source": [
    "def index(frq):\n",
    "    maximum=frq[0]\n",
    "    ind=0\n",
    "    for i in range(len(frq)):\n",
    "        if frq[i] > maximum:\n",
    "            maximum=frq[i]\n",
    "            ind=i\n",
    "    return ind\n",
    "\n",
    "def frq_count(string):\n",
    "    new=string.split()\n",
    "    frq=[0] * len(new)\n",
    "    for i in range(len(new)):\n",
    "        frq[i]=1\n",
    "        for j in range(i+1,len(new)):\n",
    "            if new[i]==new[j]:\n",
    "                frq[i]+=1\n",
    "                new[j]=\"0\"\n",
    "                \n",
    "    unique_word=\"\"\n",
    "    for i in range(len(new)):\n",
    "        if new[i] != \"0\" and frq[i] == 1:\n",
    "            unique_word+=new[i] + \" \"\n",
    "    return unique_word\n",
    "\n",
    "\n",
    "string=\"Hay Hi Yash Hay how are you you you\"\n",
    "output=frq_count(string)\n",
    "print(\"unique word in a string: \"+ output)"
   ]
  },
  {
   "cell_type": "code",
   "execution_count": null,
   "id": "7fa5c739",
   "metadata": {},
   "outputs": [],
   "source": []
  },
  {
   "cell_type": "code",
   "execution_count": 55,
   "id": "c3b10d91",
   "metadata": {},
   "outputs": [],
   "source": [
    "# 46. Count the number of syllables in a string."
   ]
  },
  {
   "cell_type": "code",
   "execution_count": 58,
   "id": "d4fbc126",
   "metadata": {},
   "outputs": [
    {
     "name": "stdout",
     "output_type": "stream",
     "text": [
      "Total syllables: 11\n"
     ]
    }
   ],
   "source": [
    "def count_syllables(word):\n",
    "    vowels = \"aeiouyAEIOUY\"\n",
    "    syllables = 0\n",
    "    previous_char_was_vowel = False\n",
    "\n",
    "    for char in word:\n",
    "        if char in vowels:\n",
    "            if not previous_char_was_vowel:\n",
    "                syllables += 1\n",
    "            previous_char_was_vowel = True\n",
    "        else:\n",
    "            previous_char_was_vowel = False\n",
    "\n",
    "    \n",
    "    if word.endswith(\"e\"):\n",
    "        syllables -= 1\n",
    "    if word.endswith(\"le\") and len(word) > 2 and word[-3] not in vowels:\n",
    "        syllables += 1\n",
    "    if syllables == 0:\n",
    "        syllables += 1  \n",
    "\n",
    "    return syllables\n",
    "\n",
    "def count_syllables_in_text(text):\n",
    "    words = text.split()\n",
    "    syllable_count = 0\n",
    "\n",
    "    for word in words:\n",
    "        syllable_count += count_syllables(word)\n",
    "\n",
    "    return syllable_count\n",
    "\n",
    "text = \"Count the number of syllables in a string\"\n",
    "syllable_count = count_syllables_in_text(text)\n",
    "print(f\"Total syllables: {syllable_count}\")"
   ]
  },
  {
   "cell_type": "code",
   "execution_count": null,
   "id": "8c2d7ae8",
   "metadata": {},
   "outputs": [],
   "source": []
  },
  {
   "cell_type": "code",
   "execution_count": 59,
   "id": "a049a45c",
   "metadata": {},
   "outputs": [],
   "source": [
    "# 47. Check if a string contains any special characters."
   ]
  },
  {
   "cell_type": "code",
   "execution_count": 20,
   "id": "4e34808b",
   "metadata": {},
   "outputs": [
    {
     "data": {
      "text/plain": [
       "False"
      ]
     },
     "execution_count": 20,
     "metadata": {},
     "output_type": "execute_result"
    }
   ],
   "source": [
    "import re\n",
    "def check(string):\n",
    "    pattern = re.compile(r'[^a-zA-Z0-9\\s]')\n",
    "    if pattern.search(string):\n",
    "        return True\n",
    "    else:\n",
    "        return False\n",
    "    \n",
    "\n",
    "string= \"Hello World\"\n",
    "check(string)"
   ]
  },
  {
   "cell_type": "code",
   "execution_count": 40,
   "id": "ac774383",
   "metadata": {},
   "outputs": [
    {
     "data": {
      "text/plain": [
       "True"
      ]
     },
     "execution_count": 40,
     "metadata": {},
     "output_type": "execute_result"
    }
   ],
   "source": [
    "import re\n",
    "def check(string):\n",
    "    pattern = r'[^a-zA-Z0-9\\s]'\n",
    "    match = re.search(pattern,string)\n",
    "    if match:\n",
    "         return True\n",
    "    else:\n",
    "        return False\n",
    "    \n",
    "\n",
    "string= \"Hello<! World\"\n",
    "check(string)"
   ]
  },
  {
   "cell_type": "code",
   "execution_count": 52,
   "id": "22fdca2e",
   "metadata": {},
   "outputs": [
    {
     "data": {
      "text/plain": [
       "True"
      ]
     },
     "execution_count": 52,
     "metadata": {},
     "output_type": "execute_result"
    }
   ],
   "source": [
    "def contain_special_character(string):\n",
    "    special_characters = set(\"!@#$%^&*()-_=+[]{}|;:'\\\",.<>?/`~\\\\\")\n",
    "    for char in string:\n",
    "        if char in special_characters:\n",
    "            return True\n",
    "    else:\n",
    "        return False\n",
    "\n",
    "string= \"Hello<< World\"\n",
    "contain_special_character(string)"
   ]
  },
  {
   "cell_type": "code",
   "execution_count": null,
   "id": "8aa0bd43",
   "metadata": {},
   "outputs": [],
   "source": []
  },
  {
   "cell_type": "code",
   "execution_count": 55,
   "id": "61f84206",
   "metadata": {},
   "outputs": [],
   "source": [
    "# 48. Remove the nth word from a string."
   ]
  },
  {
   "cell_type": "code",
   "execution_count": 58,
   "id": "1ef15dcf",
   "metadata": {},
   "outputs": [
    {
     "data": {
      "text/plain": [
       "'Hello Welcome pw Skills Lab!'"
      ]
     },
     "execution_count": 58,
     "metadata": {},
     "output_type": "execute_result"
    }
   ],
   "source": [
    "def remove_nth_word(string,n):\n",
    "    lst=string.split()\n",
    "    lst.pop(n-1)\n",
    "    new_str= \" \".join(lst)\n",
    "    return new_str\n",
    "\n",
    "string= \"Hello Welcome to pw Skills Lab!\"\n",
    "n= 3\n",
    "remove_nth_word(string,n)"
   ]
  },
  {
   "cell_type": "code",
   "execution_count": null,
   "id": "bd5e55f8",
   "metadata": {},
   "outputs": [],
   "source": []
  },
  {
   "cell_type": "code",
   "execution_count": 59,
   "id": "16a8b099",
   "metadata": {},
   "outputs": [],
   "source": [
    "# 49. Insert a word at the nth position in a string."
   ]
  },
  {
   "cell_type": "code",
   "execution_count": 60,
   "id": "203f1d7c",
   "metadata": {},
   "outputs": [
    {
     "data": {
      "text/plain": [
       "'Hello Welcome to pw Skills Lab!'"
      ]
     },
     "execution_count": 60,
     "metadata": {},
     "output_type": "execute_result"
    }
   ],
   "source": [
    "def insert_at_nth_position(string,word,n):\n",
    "    lst=string.split()\n",
    "    lst.insert(n-1,word)\n",
    "    new_str= \" \".join(lst)\n",
    "    return new_str\n",
    "\n",
    "string= \"Hello Welcome to Skills Lab!\"\n",
    "word= \"pw\"\n",
    "n=4\n",
    "insert_at_nth_position(string,word,n)"
   ]
  },
  {
   "cell_type": "code",
   "execution_count": null,
   "id": "10e2434e",
   "metadata": {},
   "outputs": [],
   "source": []
  },
  {
   "cell_type": "code",
   "execution_count": 61,
   "id": "d189040b",
   "metadata": {},
   "outputs": [],
   "source": [
    "# 50. Convert a CSV string to a list of lists."
   ]
  },
  {
   "cell_type": "code",
   "execution_count": 62,
   "id": "bcb9bd5d",
   "metadata": {},
   "outputs": [
    {
     "name": "stdout",
     "output_type": "stream",
     "text": [
      "[['Name', 'Age', 'Occupation'], ['Alice', '30', 'Engineer'], ['Bob', '25', 'Designer'], ['Charlie', '35', 'Teacher']]\n"
     ]
    }
   ],
   "source": [
    "import csv\n",
    "from io import StringIO\n",
    "\n",
    "csv_string = \"\"\"Name,Age,Occupation\n",
    "Alice,30,Engineer\n",
    "Bob,25,Designer\n",
    "Charlie,35,Teacher\"\"\"\n",
    "\n",
    "def csv_to_list_of_lists(csv_str):\n",
    "    f = StringIO(csv_str)\n",
    "    reader = csv.reader(f, delimiter=',')\n",
    "    list_of_lists = list(reader)\n",
    "    return list_of_lists\n",
    "\n",
    "list_of_lists = csv_to_list_of_lists(csv_string)\n",
    "print(list_of_lists)"
   ]
  },
  {
   "cell_type": "code",
   "execution_count": null,
   "id": "586234e2",
   "metadata": {},
   "outputs": [],
   "source": []
  },
  {
   "cell_type": "code",
   "execution_count": null,
   "id": "dc9922d2",
   "metadata": {},
   "outputs": [],
   "source": []
  },
  {
   "cell_type": "code",
   "execution_count": 53,
   "id": "dd807243",
   "metadata": {},
   "outputs": [],
   "source": [
    "#List Based Practice Problem :"
   ]
  },
  {
   "cell_type": "code",
   "execution_count": 54,
   "id": "bcebb996",
   "metadata": {},
   "outputs": [
    {
     "name": "stdout",
     "output_type": "stream",
     "text": [
      "[1, 2, 3, 4, 5, 6, 7, 8, 9, 10]\n"
     ]
    }
   ],
   "source": [
    "#1. Create a list with integers from 1 to 10.\n",
    "integers_list = list(range(1, 11))\n",
    "print(integers_list)"
   ]
  },
  {
   "cell_type": "code",
   "execution_count": 63,
   "id": "d696c8fa",
   "metadata": {},
   "outputs": [
    {
     "data": {
      "text/plain": [
       "[1, 2, 3, 4, 5, 6, 7, 8, 9, 10]"
      ]
     },
     "execution_count": 63,
     "metadata": {},
     "output_type": "execute_result"
    }
   ],
   "source": [
    "[x for x in range(1,11)]"
   ]
  },
  {
   "cell_type": "code",
   "execution_count": null,
   "id": "4c6a330b",
   "metadata": {},
   "outputs": [],
   "source": []
  },
  {
   "cell_type": "code",
   "execution_count": 25,
   "id": "16676d6b",
   "metadata": {},
   "outputs": [],
   "source": [
    "#2. Find the length of a list without using the `len()` function."
   ]
  },
  {
   "cell_type": "code",
   "execution_count": 3,
   "id": "99b3b54e",
   "metadata": {},
   "outputs": [
    {
     "name": "stdout",
     "output_type": "stream",
     "text": [
      " length of a list:  5\n"
     ]
    }
   ],
   "source": [
    "user_list=[2,4,6,8,10]\n",
    "def list_len(user_list):\n",
    "    count=0\n",
    "    for i in user_list:\n",
    "        count+=1\n",
    "    return count\n",
    "\n",
    "print(' length of a list: ',list_len(user_list))"
   ]
  },
  {
   "cell_type": "code",
   "execution_count": null,
   "id": "b7bd1728",
   "metadata": {},
   "outputs": [],
   "source": []
  },
  {
   "cell_type": "code",
   "execution_count": 5,
   "id": "734e29b0",
   "metadata": {},
   "outputs": [],
   "source": [
    "#3. Append an element to the end of a list."
   ]
  },
  {
   "cell_type": "code",
   "execution_count": 6,
   "id": "e3e58961",
   "metadata": {},
   "outputs": [
    {
     "name": "stdout",
     "output_type": "stream",
     "text": [
      "[2, 4, 6, 8, 10, 30]\n"
     ]
    }
   ],
   "source": [
    "user_list=[2,4,6,8,10]\n",
    "\n",
    "user_list.append(30)\n",
    "print(user_list)"
   ]
  },
  {
   "cell_type": "code",
   "execution_count": null,
   "id": "48adc496",
   "metadata": {},
   "outputs": [],
   "source": []
  },
  {
   "cell_type": "code",
   "execution_count": 7,
   "id": "4b7d7203",
   "metadata": {},
   "outputs": [],
   "source": [
    "#4. Insert an element at a specific index in a list."
   ]
  },
  {
   "cell_type": "code",
   "execution_count": 10,
   "id": "7f2fc0d7",
   "metadata": {},
   "outputs": [
    {
     "name": "stdout",
     "output_type": "stream",
     "text": [
      "[2, 4, 6, 80, 8, 10]\n"
     ]
    }
   ],
   "source": [
    "user_list=[2,4,6,8,10]\n",
    "user_list.insert(3,80)\n",
    "print(user_list)"
   ]
  },
  {
   "cell_type": "code",
   "execution_count": null,
   "id": "ea55305a",
   "metadata": {},
   "outputs": [],
   "source": []
  },
  {
   "cell_type": "code",
   "execution_count": 11,
   "id": "40bda2b8",
   "metadata": {},
   "outputs": [],
   "source": [
    "#5. Remove an element from a list by its value."
   ]
  },
  {
   "cell_type": "code",
   "execution_count": 67,
   "id": "8889602a",
   "metadata": {},
   "outputs": [
    {
     "name": "stdout",
     "output_type": "stream",
     "text": [
      "Remove an element from a list by its value: [2, 4, 8, 10]\n"
     ]
    }
   ],
   "source": [
    "user_list=[2,4,6,8,10]\n",
    "\n",
    "def remove_element(element):\n",
    "    new=[]\n",
    "    for i in user_list:\n",
    "        if i !=element:\n",
    "            new.append(i)\n",
    "    return new\n",
    "\n",
    "element=6\n",
    "print('Remove an element from a list by its value:',remove_element(element))"
   ]
  },
  {
   "cell_type": "code",
   "execution_count": null,
   "id": "bd740d6c",
   "metadata": {},
   "outputs": [],
   "source": []
  },
  {
   "cell_type": "code",
   "execution_count": 68,
   "id": "82601b6f",
   "metadata": {},
   "outputs": [
    {
     "name": "stdout",
     "output_type": "stream",
     "text": [
      "[2, 4, 8, 10]\n"
     ]
    }
   ],
   "source": [
    "user_list=[2,4,6,8,10]\n",
    "\n",
    "element=6\n",
    "user_list.remove(element)\n",
    "print(user_list)"
   ]
  },
  {
   "cell_type": "code",
   "execution_count": null,
   "id": "bbfcfd02",
   "metadata": {},
   "outputs": [],
   "source": []
  },
  {
   "cell_type": "code",
   "execution_count": 69,
   "id": "866efec2",
   "metadata": {},
   "outputs": [],
   "source": [
    "#6. Remove an element from a list by its index."
   ]
  },
  {
   "cell_type": "code",
   "execution_count": 70,
   "id": "cacfd774",
   "metadata": {},
   "outputs": [
    {
     "name": "stdout",
     "output_type": "stream",
     "text": [
      "[2, 4, 6, 10]\n"
     ]
    }
   ],
   "source": [
    "user_list=[2,4,6,8,10]\n",
    "index=3\n",
    "user_list.pop(index)\n",
    "print(user_list)"
   ]
  },
  {
   "cell_type": "code",
   "execution_count": null,
   "id": "61ab522e",
   "metadata": {},
   "outputs": [],
   "source": []
  },
  {
   "cell_type": "code",
   "execution_count": 71,
   "id": "e3ae180a",
   "metadata": {},
   "outputs": [],
   "source": [
    "#7. Check if an element exists in a list."
   ]
  },
  {
   "cell_type": "code",
   "execution_count": 72,
   "id": "bfc17d97",
   "metadata": {},
   "outputs": [
    {
     "name": "stdout",
     "output_type": "stream",
     "text": [
      "element exist in list:  False\n"
     ]
    }
   ],
   "source": [
    "user_list=[2,4,6,8,10]\n",
    "element=11\n",
    "print('element exist in list: ',element in user_list)"
   ]
  },
  {
   "cell_type": "code",
   "execution_count": null,
   "id": "0dcf437e",
   "metadata": {},
   "outputs": [],
   "source": []
  },
  {
   "cell_type": "code",
   "execution_count": 73,
   "id": "11690937",
   "metadata": {},
   "outputs": [],
   "source": [
    "#8. Find the index of the first occurrence of an element in a list."
   ]
  },
  {
   "cell_type": "code",
   "execution_count": 74,
   "id": "31289468",
   "metadata": {},
   "outputs": [
    {
     "name": "stdout",
     "output_type": "stream",
     "text": [
      "index of the first occurrence of an element in a list: 3\n"
     ]
    }
   ],
   "source": [
    "user_list=[2,4,6,8,10,8,4]\n",
    "element=8\n",
    "print('index of the first occurrence of an element in a list:',user_list.index(element))"
   ]
  },
  {
   "cell_type": "code",
   "execution_count": null,
   "id": "a1f224bc",
   "metadata": {},
   "outputs": [],
   "source": []
  },
  {
   "cell_type": "code",
   "execution_count": 75,
   "id": "91ee51a4",
   "metadata": {},
   "outputs": [],
   "source": [
    "#9. Count the occurrences of an element in a list."
   ]
  },
  {
   "cell_type": "code",
   "execution_count": 76,
   "id": "484d27f4",
   "metadata": {},
   "outputs": [
    {
     "name": "stdout",
     "output_type": "stream",
     "text": [
      "Count the occurrences of an element in a list:  2\n"
     ]
    }
   ],
   "source": [
    "user_list=[2,4,6,8,10,8,4]\n",
    "element=8\n",
    "print('Count the occurrences of an element in a list: ',user_list.count(element))"
   ]
  },
  {
   "cell_type": "code",
   "execution_count": null,
   "id": "e3bc29be",
   "metadata": {},
   "outputs": [],
   "source": []
  },
  {
   "cell_type": "code",
   "execution_count": 77,
   "id": "e70bae2a",
   "metadata": {},
   "outputs": [],
   "source": [
    "#10. Reverse the order of elements in a list."
   ]
  },
  {
   "cell_type": "code",
   "execution_count": 78,
   "id": "b8fd318a",
   "metadata": {},
   "outputs": [
    {
     "name": "stdout",
     "output_type": "stream",
     "text": [
      " Reverse order of elements in a list: [10, 8, 6, 4, 2]\n"
     ]
    }
   ],
   "source": [
    "user_list=[2,4,6,8,10]\n",
    "new_list=user_list[::-1]\n",
    "print(' Reverse order of elements in a list:',new_list)"
   ]
  },
  {
   "cell_type": "code",
   "execution_count": 81,
   "id": "96174cdf",
   "metadata": {},
   "outputs": [
    {
     "data": {
      "text/plain": [
       "[10, 8, 6, 4, 2]"
      ]
     },
     "execution_count": 81,
     "metadata": {},
     "output_type": "execute_result"
    }
   ],
   "source": [
    "user_list=[2,4,6,8,10]\n",
    "user_list.reverse()\n",
    "user_list"
   ]
  },
  {
   "cell_type": "code",
   "execution_count": null,
   "id": "cbe4fd0f",
   "metadata": {},
   "outputs": [],
   "source": []
  },
  {
   "cell_type": "code",
   "execution_count": 82,
   "id": "42bb0f40",
   "metadata": {},
   "outputs": [],
   "source": [
    "#11. Sort a list in ascending order."
   ]
  },
  {
   "cell_type": "code",
   "execution_count": 83,
   "id": "5f607c68",
   "metadata": {},
   "outputs": [
    {
     "name": "stdout",
     "output_type": "stream",
     "text": [
      "Sorted list in ascending order: [2, 4, 10, 18, 60]\n"
     ]
    }
   ],
   "source": [
    "user_list=[2,4,60,18,10]\n",
    "user_list.sort()\n",
    "print('Sorted list in ascending order:',user_list)"
   ]
  },
  {
   "cell_type": "code",
   "execution_count": null,
   "id": "8ec81ca3",
   "metadata": {},
   "outputs": [],
   "source": []
  },
  {
   "cell_type": "code",
   "execution_count": 84,
   "id": "855513b6",
   "metadata": {},
   "outputs": [],
   "source": [
    "#12. Sort a list in descending order."
   ]
  },
  {
   "cell_type": "code",
   "execution_count": 85,
   "id": "fa39874d",
   "metadata": {},
   "outputs": [
    {
     "name": "stdout",
     "output_type": "stream",
     "text": [
      "Sorted list in descending order: [60, 18, 10, 4, 2]\n"
     ]
    }
   ],
   "source": [
    "user_list=[2,4,60,18,10]\n",
    "user_list.sort(reverse=True)\n",
    "print(f'Sorted list in descending order:',user_list)"
   ]
  },
  {
   "cell_type": "code",
   "execution_count": null,
   "id": "ef969f0a",
   "metadata": {},
   "outputs": [],
   "source": []
  },
  {
   "cell_type": "code",
   "execution_count": 86,
   "id": "b436229d",
   "metadata": {},
   "outputs": [],
   "source": [
    "#13. Create a list of even numbers from 1 to 20."
   ]
  },
  {
   "cell_type": "code",
   "execution_count": 87,
   "id": "da1f34fd",
   "metadata": {},
   "outputs": [
    {
     "name": "stdout",
     "output_type": "stream",
     "text": [
      "list of even numbers from 1 to 20: [2, 4, 6, 8, 10, 12, 14, 16, 18, 20]\n"
     ]
    }
   ],
   "source": [
    "user_list=list(range(1,21))\n",
    "even_list=[]\n",
    "for i in user_list:\n",
    "    if i%2==0:\n",
    "        even_list.append(i)\n",
    "print('list of even numbers from 1 to 20:',even_list)"
   ]
  },
  {
   "cell_type": "code",
   "execution_count": null,
   "id": "21f988c9",
   "metadata": {},
   "outputs": [],
   "source": []
  },
  {
   "cell_type": "code",
   "execution_count": 88,
   "id": "58fcd3f0",
   "metadata": {},
   "outputs": [],
   "source": [
    "#14. Create a list of odd numbers from 1 to 20."
   ]
  },
  {
   "cell_type": "code",
   "execution_count": 89,
   "id": "e5f5f9a0",
   "metadata": {},
   "outputs": [
    {
     "name": "stdout",
     "output_type": "stream",
     "text": [
      "list of odd numbers from 1 to 20: [1, 3, 5, 7, 9, 11, 13, 15, 17, 19]\n"
     ]
    }
   ],
   "source": [
    "user_list=list(range(1,21))\n",
    "odd_list=[]\n",
    "for i in user_list:\n",
    "    if i%2!=0:\n",
    "        odd_list.append(i)\n",
    "print('list of odd numbers from 1 to 20:',odd_list)"
   ]
  },
  {
   "cell_type": "code",
   "execution_count": null,
   "id": "961151ec",
   "metadata": {},
   "outputs": [],
   "source": []
  },
  {
   "cell_type": "code",
   "execution_count": 90,
   "id": "3d9c8e5b",
   "metadata": {},
   "outputs": [],
   "source": [
    "#15. Find the sum of all elements in a list."
   ]
  },
  {
   "cell_type": "code",
   "execution_count": 107,
   "id": "82509b1c",
   "metadata": {},
   "outputs": [
    {
     "name": "stdout",
     "output_type": "stream",
     "text": [
      "Find the sum of all elements in a list: 150\n"
     ]
    }
   ],
   "source": [
    "user_list=[10,20,30,40,50]\n",
    "s=0\n",
    "for i in user_list:\n",
    "    s+=i\n",
    "print('Find the sum of all elements in a list:',s)"
   ]
  },
  {
   "cell_type": "code",
   "execution_count": null,
   "id": "b695058a",
   "metadata": {},
   "outputs": [],
   "source": []
  },
  {
   "cell_type": "code",
   "execution_count": 108,
   "id": "15d9f576",
   "metadata": {},
   "outputs": [],
   "source": [
    "#16. Find the maximum value in a list."
   ]
  },
  {
   "cell_type": "code",
   "execution_count": 110,
   "id": "e0a39d86",
   "metadata": {},
   "outputs": [
    {
     "name": "stdout",
     "output_type": "stream",
     "text": [
      "maximum value in a list: 50\n"
     ]
    }
   ],
   "source": [
    "user_list=[10,20,30,40,50]\n",
    "m=user_list[0]\n",
    "for i in user_list:\n",
    "    if i>m:\n",
    "        m=i\n",
    "print('maximum value in a list:',m)\n"
   ]
  },
  {
   "cell_type": "code",
   "execution_count": null,
   "id": "0505bf4b",
   "metadata": {},
   "outputs": [],
   "source": []
  },
  {
   "cell_type": "code",
   "execution_count": 111,
   "id": "ce59d5e9",
   "metadata": {},
   "outputs": [],
   "source": [
    "#17. Find the minimum value in a list."
   ]
  },
  {
   "cell_type": "code",
   "execution_count": 112,
   "id": "139deaff",
   "metadata": {},
   "outputs": [
    {
     "name": "stdout",
     "output_type": "stream",
     "text": [
      "minimum value in a list: 10\n"
     ]
    }
   ],
   "source": [
    "user_list=[10,20,30,40,50]\n",
    "m=user_list[0]\n",
    "for i in user_list:\n",
    "    if i<m:\n",
    "        m=i\n",
    "print('minimum value in a list:',m)"
   ]
  },
  {
   "cell_type": "code",
   "execution_count": 113,
   "id": "770be875",
   "metadata": {},
   "outputs": [
    {
     "name": "stdout",
     "output_type": "stream",
     "text": [
      "minimum value in a list: 10\n"
     ]
    }
   ],
   "source": [
    "user_list=[10,20,30,40,50]\n",
    "m=min(user_list)\n",
    "print('minimum value in a list:',m)"
   ]
  },
  {
   "cell_type": "code",
   "execution_count": null,
   "id": "ae7ec598",
   "metadata": {},
   "outputs": [],
   "source": []
  },
  {
   "cell_type": "code",
   "execution_count": 3,
   "id": "ca7157ce",
   "metadata": {},
   "outputs": [],
   "source": [
    "#18. Create a list of squares of numbers from 1 to 10."
   ]
  },
  {
   "cell_type": "code",
   "execution_count": 114,
   "id": "96635b13",
   "metadata": {},
   "outputs": [
    {
     "name": "stdout",
     "output_type": "stream",
     "text": [
      "list of squares of numbers from 1 to 10:  [1, 4, 9, 16, 25, 36, 49, 64, 81, 100]\n"
     ]
    }
   ],
   "source": [
    "numbers=list(range(1,11))\n",
    "squares=[]\n",
    "for i in numbers:\n",
    "    sq=pow(i,2)\n",
    "    squares.append(sq)\n",
    "print('list of squares of numbers from 1 to 10: ',squares)"
   ]
  },
  {
   "cell_type": "code",
   "execution_count": null,
   "id": "0be0ebcf",
   "metadata": {},
   "outputs": [],
   "source": []
  },
  {
   "cell_type": "code",
   "execution_count": 115,
   "id": "2e5f8a1c",
   "metadata": {},
   "outputs": [],
   "source": [
    "#19. Create a list of random numbers."
   ]
  },
  {
   "cell_type": "code",
   "execution_count": 116,
   "id": "e7db8bef",
   "metadata": {},
   "outputs": [
    {
     "name": "stdout",
     "output_type": "stream",
     "text": [
      "list of random numbers:  [45, 98, 76, 62, 17, 50, 49, 21, 45, 15, 79]\n"
     ]
    }
   ],
   "source": [
    "import random\n",
    "random_list=[]\n",
    "for i in range(11):\n",
    "    r=random.randint(1,100)\n",
    "    random_list.append(r)\n",
    "print('list of random numbers: ',random_list)"
   ]
  },
  {
   "cell_type": "code",
   "execution_count": null,
   "id": "15c52b79",
   "metadata": {},
   "outputs": [],
   "source": []
  },
  {
   "cell_type": "code",
   "execution_count": 14,
   "id": "6f84a8fc",
   "metadata": {},
   "outputs": [],
   "source": [
    "#20. Remove duplicates from a list."
   ]
  },
  {
   "cell_type": "code",
   "execution_count": 120,
   "id": "092942cc",
   "metadata": {},
   "outputs": [
    {
     "name": "stdout",
     "output_type": "stream",
     "text": [
      "unique_list:  [2, 4, 3, 5, 10]\n"
     ]
    }
   ],
   "source": [
    "duplicate_list=[2,4,3,5,4,2,10,5]\n",
    "unique_list=[]\n",
    "for item in duplicate_list:\n",
    "      if item not in unique_list:\n",
    "            unique_list.append(item)\n",
    "\n",
    "print('unique_list: ',unique_list)"
   ]
  },
  {
   "cell_type": "code",
   "execution_count": 121,
   "id": "6924b16b",
   "metadata": {},
   "outputs": [
    {
     "name": "stdout",
     "output_type": "stream",
     "text": [
      "[1, 2, 3, 4, 5]\n"
     ]
    }
   ],
   "source": [
    "original_list = [1, 2, 3, 2, 1, 4, 5]\n",
    "unique_list = list(set(original_list))\n",
    "print(unique_list)\n"
   ]
  },
  {
   "cell_type": "code",
   "execution_count": null,
   "id": "fbe4de9d",
   "metadata": {},
   "outputs": [],
   "source": []
  },
  {
   "cell_type": "code",
   "execution_count": 122,
   "id": "cafaf4e3",
   "metadata": {},
   "outputs": [],
   "source": [
    "#21. Find the common elements between two lists."
   ]
  },
  {
   "cell_type": "code",
   "execution_count": 123,
   "id": "6c5794b0",
   "metadata": {},
   "outputs": [
    {
     "name": "stdout",
     "output_type": "stream",
     "text": [
      "common elements between two lists:  [1, 2, 4]\n"
     ]
    }
   ],
   "source": [
    "original_list1 = [1, 2, 3, 2, 1, 4, 5]\n",
    "original_list2=[2,1,4,10,50]\n",
    "common_list=[]\n",
    "\n",
    "original_list1=list(set(original_list1))\n",
    "for item in original_list1:\n",
    "    if item in original_list2:\n",
    "        common_list.append(item)\n",
    "\n",
    "print('common elements between two lists: ',common_list)"
   ]
  },
  {
   "cell_type": "code",
   "execution_count": null,
   "id": "7c977c1d",
   "metadata": {},
   "outputs": [],
   "source": []
  },
  {
   "cell_type": "code",
   "execution_count": 27,
   "id": "0a797be5",
   "metadata": {},
   "outputs": [],
   "source": [
    "#22. Find the difference between two lists."
   ]
  },
  {
   "cell_type": "code",
   "execution_count": 124,
   "id": "4a7a56fd",
   "metadata": {},
   "outputs": [
    {
     "name": "stdout",
     "output_type": "stream",
     "text": [
      "Elements in list1 but not in list2: [1, 2]\n",
      "Elements in list2 but not in list1: [6, 7]\n"
     ]
    }
   ],
   "source": [
    "list1 = [1, 2, 3, 4, 5]\n",
    "list2 = [3, 4, 5, 6, 7]\n",
    "\n",
    "difference1 = list(set(list1) - set(list2))\n",
    "difference2 = list(set(list2) - set(list1))\n",
    "print(\"Elements in list1 but not in list2:\", difference1)\n",
    "print(\"Elements in list2 but not in list1:\", difference2)\n"
   ]
  },
  {
   "cell_type": "code",
   "execution_count": null,
   "id": "106a725a",
   "metadata": {},
   "outputs": [],
   "source": []
  },
  {
   "cell_type": "code",
   "execution_count": 125,
   "id": "495a0953",
   "metadata": {},
   "outputs": [],
   "source": [
    "#23. Merge two lists."
   ]
  },
  {
   "cell_type": "code",
   "execution_count": 126,
   "id": "3ea5e46d",
   "metadata": {},
   "outputs": [
    {
     "name": "stdout",
     "output_type": "stream",
     "text": [
      "Merged_list:  [2, 4, 6, 3, 9, 13]\n"
     ]
    }
   ],
   "source": [
    "list1=[2,4,6]\n",
    "list2=[3,9,13]\n",
    "\n",
    "list1.extend(list2)\n",
    "\n",
    "print('Merged_list: ',list1)"
   ]
  },
  {
   "cell_type": "code",
   "execution_count": null,
   "id": "3c8b8dae",
   "metadata": {},
   "outputs": [],
   "source": []
  },
  {
   "cell_type": "code",
   "execution_count": 127,
   "id": "182786ee",
   "metadata": {},
   "outputs": [],
   "source": [
    "#24. Multiply all elements in a list by 2."
   ]
  },
  {
   "cell_type": "code",
   "execution_count": 128,
   "id": "cbead1ff",
   "metadata": {},
   "outputs": [
    {
     "name": "stdout",
     "output_type": "stream",
     "text": [
      "Multiply all elements in a list by 2: [4, 6, 8, 10]\n"
     ]
    }
   ],
   "source": [
    "list1=[2,3,4,5]\n",
    "multiply_list=[]\n",
    "\n",
    "for item in list1:\n",
    "    multiply_list.append(item*2)\n",
    "    \n",
    "print('Multiply all elements in a list by 2:',multiply_list)\n",
    "    "
   ]
  },
  {
   "cell_type": "code",
   "execution_count": null,
   "id": "e2981972",
   "metadata": {},
   "outputs": [],
   "source": []
  },
  {
   "cell_type": "code",
   "execution_count": 129,
   "id": "316163c5",
   "metadata": {},
   "outputs": [],
   "source": [
    "#25. Filter out all even numbers from a list."
   ]
  },
  {
   "cell_type": "code",
   "execution_count": 130,
   "id": "430db4d7",
   "metadata": {},
   "outputs": [
    {
     "name": "stdout",
     "output_type": "stream",
     "text": [
      " even numbers from a list: [2, 4, 4, 2, 10]\n"
     ]
    }
   ],
   "source": [
    "list1=[2,4,3,5,4,2,10,5]\n",
    "even_number=[]\n",
    "for i in list1:\n",
    "    if i%2==0:\n",
    "        even_number.append(i)\n",
    "\n",
    "print(' even numbers from a list:',even_number)"
   ]
  },
  {
   "cell_type": "code",
   "execution_count": null,
   "id": "97268504",
   "metadata": {},
   "outputs": [],
   "source": []
  },
  {
   "cell_type": "code",
   "execution_count": 131,
   "id": "04318638",
   "metadata": {},
   "outputs": [],
   "source": [
    "#26. Convert a list of strings to a list of integers."
   ]
  },
  {
   "cell_type": "code",
   "execution_count": 132,
   "id": "52f256fe",
   "metadata": {},
   "outputs": [
    {
     "name": "stdout",
     "output_type": "stream",
     "text": [
      "number_list: [2, 3, 5, 7, 35, 22]\n"
     ]
    }
   ],
   "source": [
    "string_list=['2','3','5','7','35','22']\n",
    "number_list=[]\n",
    "for i in string_list:\n",
    "    number_list.append(int(i))\n",
    "\n",
    "print('number_list:',number_list)"
   ]
  },
  {
   "cell_type": "code",
   "execution_count": null,
   "id": "5e74195f",
   "metadata": {},
   "outputs": [],
   "source": []
  },
  {
   "cell_type": "code",
   "execution_count": 133,
   "id": "de5e7f40",
   "metadata": {},
   "outputs": [],
   "source": [
    "#27. Convert a list of integers to a list of strings."
   ]
  },
  {
   "cell_type": "code",
   "execution_count": 134,
   "id": "cce9c911",
   "metadata": {},
   "outputs": [
    {
     "name": "stdout",
     "output_type": "stream",
     "text": [
      "list of integers to a list of strings: ['2', '3', '5', '7', '35', '22']\n"
     ]
    }
   ],
   "source": [
    "number_list= [2, 3, 5, 7, 35, 22]\n",
    "string_list=[]\n",
    "\n",
    "for item in number_list:\n",
    "    string_list.append(str(item))\n",
    "    \n",
    "print('list of integers to a list of strings:',string_list)"
   ]
  },
  {
   "cell_type": "code",
   "execution_count": null,
   "id": "996e149f",
   "metadata": {},
   "outputs": [],
   "source": []
  },
  {
   "cell_type": "code",
   "execution_count": 135,
   "id": "498484e7",
   "metadata": {},
   "outputs": [],
   "source": [
    "#28. Flatten a nested list."
   ]
  },
  {
   "cell_type": "code",
   "execution_count": 136,
   "id": "a68df880",
   "metadata": {},
   "outputs": [
    {
     "name": "stdout",
     "output_type": "stream",
     "text": [
      "Flattened list: [1, 2, 3, 4, 5, 6]\n"
     ]
    }
   ],
   "source": [
    "def flatten(lst):\n",
    "    flattened_list = []\n",
    "    for item in lst:\n",
    "        if isinstance(item, list):\n",
    "            \n",
    "            flattened_list.extend(flatten(item))\n",
    "        else:\n",
    "            flattened_list.append(item)\n",
    "    return flattened_list\n",
    "\n",
    "\n",
    "nested_list = [[1, 2, [3]], 4, [5, 6]]\n",
    "\n",
    "\n",
    "flattened_list = flatten(nested_list)\n",
    "\n",
    "\n",
    "print(\"Flattened list:\", flattened_list)\n"
   ]
  },
  {
   "cell_type": "code",
   "execution_count": null,
   "id": "78f96390",
   "metadata": {},
   "outputs": [],
   "source": []
  },
  {
   "cell_type": "code",
   "execution_count": 22,
   "id": "fe8d6deb",
   "metadata": {},
   "outputs": [],
   "source": [
    "#29. Create a list of the first 10 Fibonacci numbers."
   ]
  },
  {
   "cell_type": "code",
   "execution_count": 1,
   "id": "3e4e21a6",
   "metadata": {},
   "outputs": [
    {
     "name": "stdout",
     "output_type": "stream",
     "text": [
      "Fibonacci numbers: [0, 1, 1, 2, 3, 5, 8, 13, 21, 34]\n"
     ]
    }
   ],
   "source": [
    "def fibonnacci(n):\n",
    "    fib_list=[0,1]\n",
    "    for i in range(2,n):\n",
    "        next_fib=fib_list[i-1]+fib_list[i-2]\n",
    "        fib_list.append(next_fib)\n",
    "    return fib_list\n",
    "\n",
    "n=10\n",
    "fib_num=fibonnacci(n)\n",
    "print('Fibonacci numbers:',fib_num)"
   ]
  },
  {
   "cell_type": "code",
   "execution_count": null,
   "id": "81c9acb0",
   "metadata": {},
   "outputs": [],
   "source": []
  },
  {
   "cell_type": "code",
   "execution_count": 5,
   "id": "92006f0b",
   "metadata": {},
   "outputs": [],
   "source": [
    "#30. Check if a list is sorted."
   ]
  },
  {
   "cell_type": "code",
   "execution_count": 137,
   "id": "7ff0d848",
   "metadata": {},
   "outputs": [
    {
     "name": "stdout",
     "output_type": "stream",
     "text": [
      "List is sorted in ascending order: True\n"
     ]
    }
   ],
   "source": [
    "def is_sorted(lst):\n",
    "    k=0\n",
    "    for i in range(len(lst)-1):\n",
    "        if lst[i]<=lst[i+1]:\n",
    "            pass\n",
    "        else:\n",
    "            k=1\n",
    "    return k==0\n",
    "\n",
    "lst=[1,2,3,3,4,56]\n",
    "print('List is sorted in ascending order:',is_sorted(lst))"
   ]
  },
  {
   "cell_type": "code",
   "execution_count": null,
   "id": "f6a8dc1f",
   "metadata": {},
   "outputs": [],
   "source": []
  },
  {
   "cell_type": "code",
   "execution_count": 42,
   "id": "f7a061a0",
   "metadata": {},
   "outputs": [],
   "source": [
    "#31. Rotate a list to the left by `n` positions."
   ]
  },
  {
   "cell_type": "code",
   "execution_count": 138,
   "id": "dbdcd831",
   "metadata": {},
   "outputs": [
    {
     "name": "stdout",
     "output_type": "stream",
     "text": [
      "Before rotation: [1, 2, 3, 4, 5]\n",
      "After rotation: [3, 4, 5, 1, 2]\n"
     ]
    }
   ],
   "source": [
    "def l_rotate(lst,n):\n",
    "    after_list=[]\n",
    "    safe_rotation=n%len(lst)\n",
    "    after_list=lst[safe_rotation:]+lst[:safe_rotation]\n",
    "    return after_list\n",
    "\n",
    "original_list=[1,2,3,4,5]\n",
    "rotation_amount=2\n",
    "left_rotate=l_rotate(original_list,rotation_amount)\n",
    "print('Before rotation:',original_list)\n",
    "print('After rotation:',left_rotate)"
   ]
  },
  {
   "cell_type": "code",
   "execution_count": null,
   "id": "d3fcb5d4",
   "metadata": {},
   "outputs": [],
   "source": []
  },
  {
   "cell_type": "code",
   "execution_count": 44,
   "id": "a1aafda4",
   "metadata": {},
   "outputs": [],
   "source": [
    "#32. Rotate a list to the right by `n` positions."
   ]
  },
  {
   "cell_type": "code",
   "execution_count": 139,
   "id": "fd51b606",
   "metadata": {},
   "outputs": [
    {
     "name": "stdout",
     "output_type": "stream",
     "text": [
      "Before rotation: [1, 2, 3, 4, 5]\n",
      "After rotation: [4, 5, 1, 2, 3]\n"
     ]
    }
   ],
   "source": [
    "def r_rotate(lst,n):\n",
    "    after_list=[]\n",
    "    safe_rotation=n%len(lst)\n",
    "    after_list=lst[safe_rotation+1:]+lst[:safe_rotation+1]\n",
    "    return after_list\n",
    "\n",
    "original_list=[1,2,3,4,5]\n",
    "rotation_amount=2\n",
    "right_rotate=r_rotate(original_list,rotation_amount)\n",
    "print('Before rotation:',original_list)\n",
    "print('After rotation:',right_rotate)"
   ]
  },
  {
   "cell_type": "code",
   "execution_count": null,
   "id": "656ce15b",
   "metadata": {},
   "outputs": [],
   "source": []
  },
  {
   "cell_type": "code",
   "execution_count": 51,
   "id": "01129110",
   "metadata": {},
   "outputs": [],
   "source": [
    "#33. Create a list of prime numbers up to 50."
   ]
  },
  {
   "cell_type": "code",
   "execution_count": 8,
   "id": "6b86a0b8",
   "metadata": {},
   "outputs": [
    {
     "name": "stdout",
     "output_type": "stream",
     "text": [
      "Prime no upto 50:  [2, 3, 5, 7, 11, 13, 17, 19, 23, 29, 31, 37, 41, 43, 47]\n"
     ]
    }
   ],
   "source": [
    "def is_prime(num):\n",
    "    if num<2:\n",
    "        return False\n",
    "    if num==2:\n",
    "        return True\n",
    "    if num%2==0:\n",
    "        return False\n",
    "    \n",
    "    divisor=int(num**0.5)+1\n",
    "    for i in range(3,divisor,2):\n",
    "        if num%i==0:\n",
    "            return False\n",
    "    return True\n",
    "        \n",
    "\n",
    "prime_no_upto_50=[num for num in range(2,51) if is_prime(num)]\n",
    "print('Prime no upto 50: ',prime_no_upto_50)"
   ]
  },
  {
   "cell_type": "code",
   "execution_count": 145,
   "id": "476a7de7",
   "metadata": {},
   "outputs": [
    {
     "data": {
      "text/plain": [
       "[2, 3, 5, 7, 11, 13, 17, 19, 23, 29, 31, 37, 41, 43, 47]"
      ]
     },
     "execution_count": 145,
     "metadata": {},
     "output_type": "execute_result"
    }
   ],
   "source": [
    "def prime_no(n):\n",
    "    prime_no=[]\n",
    "    for i in range(2,n+1):\n",
    "        is_prime=True\n",
    "        for j in range(2,i):\n",
    "            if i%j == 0:\n",
    "                is_prime = False\n",
    "        if is_prime:\n",
    "            prime_no.append(i)\n",
    "    return prime_no\n",
    "\n",
    "n=50\n",
    "prime_no(n)"
   ]
  },
  {
   "cell_type": "code",
   "execution_count": null,
   "id": "78fc5b02",
   "metadata": {},
   "outputs": [],
   "source": []
  },
  {
   "cell_type": "code",
   "execution_count": 12,
   "id": "2783f0eb",
   "metadata": {},
   "outputs": [],
   "source": [
    "#34. Split a list into chunks of size `n`."
   ]
  },
  {
   "cell_type": "code",
   "execution_count": 144,
   "id": "ffac6f67",
   "metadata": {},
   "outputs": [
    {
     "name": "stdout",
     "output_type": "stream",
     "text": [
      "Split a list into chunks of size `n`: [[1, 2, 3], [4, 5, 6], [7, 8, 9]]\n"
     ]
    }
   ],
   "source": [
    "def split_into_chunk(lst,chunk_size):\n",
    "    for i in range(0,len(lst),chunk_size):\n",
    "        yield lst[i:i+chunk_size]\n",
    "\n",
    "lst=[1,2,3,4,5,6,7,8,9]\n",
    "chunk_size=3\n",
    "output=list(split_into_chunk(lst,chunk_size))\n",
    "print('Split a list into chunks of size `n`:',output)"
   ]
  },
  {
   "cell_type": "code",
   "execution_count": null,
   "id": "b0d146c6",
   "metadata": {},
   "outputs": [],
   "source": []
  },
  {
   "cell_type": "code",
   "execution_count": 15,
   "id": "d0d92549",
   "metadata": {},
   "outputs": [],
   "source": [
    "#35. Find the second largest number in a list."
   ]
  },
  {
   "cell_type": "code",
   "execution_count": 148,
   "id": "f5792255",
   "metadata": {},
   "outputs": [
    {
     "name": "stdout",
     "output_type": "stream",
     "text": [
      "second largest: 90\n"
     ]
    }
   ],
   "source": [
    "def second_largest(num):\n",
    "    \n",
    "    largest=float('-inf')\n",
    "    second_largest=float('-inf')\n",
    "    \n",
    "    for i in num:\n",
    "        if i>largest:\n",
    "            second_largest=largest\n",
    "            largest=i\n",
    "        elif i>second_largest and i != largest:\n",
    "            second_largest=i\n",
    "    return second_largest\n",
    "\n",
    "num_list=[34,56,87,78,90,100,23]\n",
    "output=second_largest(num_list)\n",
    "print('second largest:',output)"
   ]
  },
  {
   "cell_type": "code",
   "execution_count": null,
   "id": "ca91b246",
   "metadata": {},
   "outputs": [],
   "source": []
  },
  {
   "cell_type": "code",
   "execution_count": 149,
   "id": "3f4dfa4d",
   "metadata": {},
   "outputs": [],
   "source": [
    "# 36. Replace every element in a list with its square."
   ]
  },
  {
   "cell_type": "code",
   "execution_count": 155,
   "id": "1c2fc046",
   "metadata": {},
   "outputs": [
    {
     "data": {
      "text/plain": [
       "[4, 9, 25, 49]"
      ]
     },
     "execution_count": 155,
     "metadata": {},
     "output_type": "execute_result"
    }
   ],
   "source": [
    "def square_list(num_list):\n",
    "    sq_lst=[]\n",
    "    for num in num_list:\n",
    "        sq_num = pow(num,2)\n",
    "        sq_lst.append(sq_num)\n",
    "    return sq_lst\n",
    "\n",
    "num_list=[2,3,5,7]\n",
    "square_list(num_list)"
   ]
  },
  {
   "cell_type": "code",
   "execution_count": null,
   "id": "d08beaaf",
   "metadata": {},
   "outputs": [],
   "source": []
  },
  {
   "cell_type": "code",
   "execution_count": 156,
   "id": "b0e1d4eb",
   "metadata": {},
   "outputs": [],
   "source": [
    "# 37. Convert a list to a dictionary where list elements become keys and their indices become values."
   ]
  },
  {
   "cell_type": "code",
   "execution_count": 158,
   "id": "b1ab28f1",
   "metadata": {},
   "outputs": [
    {
     "data": {
      "text/plain": [
       "{2: 0, 3: 1, 5: 2, 7: 3, 11: 4, 13: 5, 17: 6, 19: 7}"
      ]
     },
     "execution_count": 158,
     "metadata": {},
     "output_type": "execute_result"
    }
   ],
   "source": [
    "def lst_to_dict(lst):\n",
    "    dic={}\n",
    "    for num in lst:\n",
    "        dic[num]=lst.index(num)\n",
    "    return dic\n",
    "\n",
    "lst=[2,3,5,7,11,13,17,19]\n",
    "lst_to_dict(lst)"
   ]
  },
  {
   "cell_type": "code",
   "execution_count": 160,
   "id": "e55f1b33",
   "metadata": {},
   "outputs": [
    {
     "name": "stdout",
     "output_type": "stream",
     "text": [
      "{'a': 0, 'b': 1, 'c': 2, 'd': 3}\n"
     ]
    }
   ],
   "source": [
    "my_list = ['a', 'b', 'c', 'd']\n",
    "my_dict = {element: index for index, element in enumerate(my_list)}\n",
    "print(my_dict)"
   ]
  },
  {
   "cell_type": "code",
   "execution_count": null,
   "id": "8d35ed06",
   "metadata": {},
   "outputs": [],
   "source": []
  },
  {
   "cell_type": "code",
   "execution_count": 161,
   "id": "7626025a",
   "metadata": {},
   "outputs": [],
   "source": [
    "# 38. Shuffle the elements of a list randomly."
   ]
  },
  {
   "cell_type": "code",
   "execution_count": 163,
   "id": "4fa0fc68",
   "metadata": {},
   "outputs": [
    {
     "name": "stdout",
     "output_type": "stream",
     "text": [
      "['e', 'a', 'c', 'd', 'b']\n"
     ]
    }
   ],
   "source": [
    "import random\n",
    "my_list = ['a', 'b', 'c', 'd', 'e']\n",
    "random.shuffle(my_list)\n",
    "print(my_list)"
   ]
  },
  {
   "cell_type": "code",
   "execution_count": null,
   "id": "ad6294b0",
   "metadata": {},
   "outputs": [],
   "source": []
  },
  {
   "cell_type": "code",
   "execution_count": 164,
   "id": "49415a67",
   "metadata": {},
   "outputs": [],
   "source": [
    "#39. Create a list of the first 10 factorial numbers."
   ]
  },
  {
   "cell_type": "code",
   "execution_count": 166,
   "id": "8c27ccf4",
   "metadata": {},
   "outputs": [
    {
     "name": "stdout",
     "output_type": "stream",
     "text": [
      "[1, 1, 2, 6, 24, 120, 720, 5040, 40320, 362880]\n"
     ]
    }
   ],
   "source": [
    "def factorial(n):\n",
    "    if n == 0:\n",
    "        return 1\n",
    "    else:\n",
    "        return n * factorial(n - 1)\n",
    "    \n",
    "factorial_list = [factorial(i) for i in range(10)]\n",
    "\n",
    "\n",
    "print(factorial_list)"
   ]
  },
  {
   "cell_type": "code",
   "execution_count": null,
   "id": "7491ee70",
   "metadata": {},
   "outputs": [],
   "source": []
  },
  {
   "cell_type": "code",
   "execution_count": 167,
   "id": "0a33a174",
   "metadata": {},
   "outputs": [],
   "source": [
    "# 40. Check if two lists have at least one element in common."
   ]
  },
  {
   "cell_type": "code",
   "execution_count": 171,
   "id": "13fe8820",
   "metadata": {},
   "outputs": [
    {
     "data": {
      "text/plain": [
       "True"
      ]
     },
     "execution_count": 171,
     "metadata": {},
     "output_type": "execute_result"
    }
   ],
   "source": [
    "def check_common(lst1,lst2):\n",
    "    for num in lst1:\n",
    "        if num in lst2:\n",
    "            return True\n",
    "    return False\n",
    "\n",
    "lst1=[2,3,5]\n",
    "lst2=[2,6,9]\n",
    "check_common(lst1,lst2)"
   ]
  },
  {
   "cell_type": "code",
   "execution_count": null,
   "id": "fee71123",
   "metadata": {},
   "outputs": [],
   "source": []
  },
  {
   "cell_type": "code",
   "execution_count": 172,
   "id": "4e344adb",
   "metadata": {},
   "outputs": [],
   "source": [
    "# 41. Remove all elements from a list."
   ]
  },
  {
   "cell_type": "code",
   "execution_count": 173,
   "id": "9c8c8204",
   "metadata": {},
   "outputs": [
    {
     "data": {
      "text/plain": [
       "[]"
      ]
     },
     "execution_count": 173,
     "metadata": {},
     "output_type": "execute_result"
    }
   ],
   "source": [
    "def remove_all_ele(lst):\n",
    "    lst.clear()\n",
    "    return lst\n",
    "\n",
    "lst=[2,3,5,7,9]\n",
    "remove_all_ele(lst)"
   ]
  },
  {
   "cell_type": "code",
   "execution_count": null,
   "id": "4911d676",
   "metadata": {},
   "outputs": [],
   "source": []
  },
  {
   "cell_type": "code",
   "execution_count": 174,
   "id": "6ae38276",
   "metadata": {},
   "outputs": [],
   "source": [
    "# 42. Replace negative numbers in a list with 0."
   ]
  },
  {
   "cell_type": "code",
   "execution_count": 176,
   "id": "be366634",
   "metadata": {},
   "outputs": [
    {
     "data": {
      "text/plain": [
       "[2, 0, 3, 0, 5, 6, 0]"
      ]
     },
     "execution_count": 176,
     "metadata": {},
     "output_type": "execute_result"
    }
   ],
   "source": [
    "def replace_negative(lst):\n",
    "    for i in range(len(lst)):\n",
    "        if lst[i] < 0:\n",
    "            lst[i] = 0\n",
    "    return lst\n",
    "            \n",
    "lst=[2,-11,3,-4,5,6,-7]\n",
    "replace_negative(lst)"
   ]
  },
  {
   "cell_type": "code",
   "execution_count": null,
   "id": "52b825a8",
   "metadata": {},
   "outputs": [],
   "source": []
  },
  {
   "cell_type": "code",
   "execution_count": 177,
   "id": "9b3de0ab",
   "metadata": {},
   "outputs": [],
   "source": [
    "# 43. Convert a string into a list of words."
   ]
  },
  {
   "cell_type": "code",
   "execution_count": 178,
   "id": "56a40c35",
   "metadata": {},
   "outputs": [
    {
     "data": {
      "text/plain": [
       "['Welcome', 'to', 'Data', 'Science', 'Cource']"
      ]
     },
     "execution_count": 178,
     "metadata": {},
     "output_type": "execute_result"
    }
   ],
   "source": [
    "def convert_str_to_word(string):\n",
    "    return string.split()\n",
    "\n",
    "string = \"Welcome to Data Science Cource\"\n",
    "convert_str_to_word(string)"
   ]
  },
  {
   "cell_type": "code",
   "execution_count": null,
   "id": "4221af6d",
   "metadata": {},
   "outputs": [],
   "source": []
  },
  {
   "cell_type": "code",
   "execution_count": 179,
   "id": "418d3186",
   "metadata": {},
   "outputs": [],
   "source": [
    "# 44. Convert a list of words into a string."
   ]
  },
  {
   "cell_type": "code",
   "execution_count": 180,
   "id": "8766be5a",
   "metadata": {},
   "outputs": [
    {
     "data": {
      "text/plain": [
       "'Welcome to Data Science Cource'"
      ]
     },
     "execution_count": 180,
     "metadata": {},
     "output_type": "execute_result"
    }
   ],
   "source": [
    "def list_to_string(lst_of_word):\n",
    "    return \" \".join(lst_of_word) \n",
    "\n",
    "lst_of_word = ['Welcome', 'to', 'Data', 'Science', 'Cource']\n",
    "list_to_string(lst_of_word )"
   ]
  },
  {
   "cell_type": "code",
   "execution_count": null,
   "id": "0eb4a816",
   "metadata": {},
   "outputs": [],
   "source": []
  },
  {
   "cell_type": "code",
   "execution_count": 181,
   "id": "0bac462e",
   "metadata": {},
   "outputs": [],
   "source": [
    "# 45. Create a list of the first `n` powers of 2."
   ]
  },
  {
   "cell_type": "code",
   "execution_count": 182,
   "id": "7a1e7040",
   "metadata": {},
   "outputs": [
    {
     "name": "stdout",
     "output_type": "stream",
     "text": [
      "[1, 2, 4, 8, 16]\n"
     ]
    }
   ],
   "source": [
    "def powers_of_2(n):\n",
    "    return [2**i for i in range(n)]\n",
    "\n",
    "\n",
    "n = 5\n",
    "powers_list = powers_of_2(n)\n",
    "print(powers_list)"
   ]
  },
  {
   "cell_type": "code",
   "execution_count": null,
   "id": "a4a7d119",
   "metadata": {},
   "outputs": [],
   "source": []
  },
  {
   "cell_type": "code",
   "execution_count": 183,
   "id": "9891b2fd",
   "metadata": {},
   "outputs": [],
   "source": [
    "#46. Find the longest string in a list of strings."
   ]
  },
  {
   "cell_type": "code",
   "execution_count": 184,
   "id": "0f86512a",
   "metadata": {},
   "outputs": [
    {
     "data": {
      "text/plain": [
       "'Welcome'"
      ]
     },
     "execution_count": 184,
     "metadata": {},
     "output_type": "execute_result"
    }
   ],
   "source": [
    "def longest_string(string_lst):\n",
    "    long_str_len=0\n",
    "    long_str=None\n",
    "    for string in string_lst:\n",
    "        if len(string) > long_str_len:\n",
    "            long_str=string\n",
    "            long_str_len = len(string)\n",
    "    return long_str\n",
    "\n",
    "string_lst=[\"Hello\",\"Welcome\",\"Yash\",\"Hi\"]\n",
    "longest_string(string_lst)"
   ]
  },
  {
   "cell_type": "code",
   "execution_count": null,
   "id": "470408bc",
   "metadata": {},
   "outputs": [],
   "source": []
  },
  {
   "cell_type": "code",
   "execution_count": 185,
   "id": "840f6250",
   "metadata": {},
   "outputs": [],
   "source": [
    "# 47. Find the shortest string in a list of strings."
   ]
  },
  {
   "cell_type": "code",
   "execution_count": 188,
   "id": "7a8b6830",
   "metadata": {},
   "outputs": [
    {
     "data": {
      "text/plain": [
       "'Hi'"
      ]
     },
     "execution_count": 188,
     "metadata": {},
     "output_type": "execute_result"
    }
   ],
   "source": [
    "def shortest_string(string_lst):\n",
    "    short_str_len=float(\"inf\")\n",
    "    short_str=None\n",
    "    for string in string_lst:\n",
    "        if len(string) < short_str_len:\n",
    "            short_str=string\n",
    "            short_str_len = len(string)\n",
    "    return short_str\n",
    "\n",
    "string_lst=[\"Hello\",\"Welcome\",\"Yash\",\"Hi\"]\n",
    "shortest_string(string_lst)"
   ]
  },
  {
   "cell_type": "code",
   "execution_count": null,
   "id": "41a0e077",
   "metadata": {},
   "outputs": [],
   "source": []
  },
  {
   "cell_type": "code",
   "execution_count": 193,
   "id": "88c58c19",
   "metadata": {},
   "outputs": [],
   "source": [
    "# 48. Create a list of the first `n` triangular numbers."
   ]
  },
  {
   "cell_type": "code",
   "execution_count": 196,
   "id": "ac913aca",
   "metadata": {},
   "outputs": [
    {
     "name": "stdout",
     "output_type": "stream",
     "text": [
      "[1, 3, 6, 10, 15, 21, 28]\n"
     ]
    }
   ],
   "source": [
    "def triangular_numbers(n):\n",
    "    return [i * (i + 1) // 2 for i in range(1, n + 1)]\n",
    "\n",
    "n = 7\n",
    "triangular_list = triangular_numbers(n)\n",
    "print(triangular_list)"
   ]
  },
  {
   "cell_type": "code",
   "execution_count": null,
   "id": "48ca5486",
   "metadata": {},
   "outputs": [],
   "source": []
  },
  {
   "cell_type": "code",
   "execution_count": 197,
   "id": "3a54e5ba",
   "metadata": {},
   "outputs": [],
   "source": [
    "# 49. Check if a list contains another list as a subsequence."
   ]
  },
  {
   "cell_type": "code",
   "execution_count": 200,
   "id": "a3a683a2",
   "metadata": {},
   "outputs": [
    {
     "name": "stdout",
     "output_type": "stream",
     "text": [
      "True\n",
      "False\n"
     ]
    }
   ],
   "source": [
    "def is_subsequence(main_list, subsequence_list):\n",
    "    # Convert lists to sets\n",
    "    main_set = set(main_list)\n",
    "    subsequence_set = set(subsequence_list)\n",
    "    \n",
    "    return subsequence_set.issubset(main_set)\n",
    "\n",
    "\n",
    "main_list = [1, 2, 3, 4, 5, 6, 7]\n",
    "subsequence_list1 = [2, 4, 6]   \n",
    "subsequence_list2 = [2, 5, 8]  \n",
    "\n",
    "print(is_subsequence(main_list, subsequence_list1))  \n",
    "print(is_subsequence(main_list, subsequence_list2)) "
   ]
  },
  {
   "cell_type": "code",
   "execution_count": null,
   "id": "543fe122",
   "metadata": {},
   "outputs": [],
   "source": []
  },
  {
   "cell_type": "code",
   "execution_count": 201,
   "id": "a6148a86",
   "metadata": {},
   "outputs": [],
   "source": [
    "# 50. Swap two elements in a list by their indices."
   ]
  },
  {
   "cell_type": "code",
   "execution_count": 203,
   "id": "76edfbbe",
   "metadata": {},
   "outputs": [
    {
     "data": {
      "text/plain": [
       "[2, 4, 10, 8, 9, 6]"
      ]
     },
     "execution_count": 203,
     "metadata": {},
     "output_type": "execute_result"
    }
   ],
   "source": [
    "def swap_indices(lst,index1,index2):\n",
    "    lst[index1],lst[index2] = lst[index2],lst[index1]\n",
    "    return lst\n",
    "    \n",
    "lst=[2,4,6,8,9,10]\n",
    "index1=2\n",
    "index2=5\n",
    "swap_indices(lst,index1,index2)"
   ]
  },
  {
   "cell_type": "code",
   "execution_count": null,
   "id": "f4025e37",
   "metadata": {},
   "outputs": [],
   "source": []
  },
  {
   "cell_type": "code",
   "execution_count": 1,
   "id": "8b7ea0fe",
   "metadata": {},
   "outputs": [],
   "source": [
    "# Tuple Based Practice Problem :"
   ]
  },
  {
   "cell_type": "code",
   "execution_count": 2,
   "id": "1a7253d1",
   "metadata": {},
   "outputs": [],
   "source": [
    "# 1. Create a tuple with integers from 1 to 5"
   ]
  },
  {
   "cell_type": "code",
   "execution_count": 7,
   "id": "ea056ba7",
   "metadata": {},
   "outputs": [
    {
     "name": "stdout",
     "output_type": "stream",
     "text": [
      "(1, 2, 3, 4, 5)\n"
     ]
    }
   ],
   "source": [
    "print(tuple(i for i in range(1,6)))"
   ]
  },
  {
   "cell_type": "code",
   "execution_count": null,
   "id": "009b9929",
   "metadata": {},
   "outputs": [],
   "source": []
  },
  {
   "cell_type": "code",
   "execution_count": 9,
   "id": "1f0c6615",
   "metadata": {},
   "outputs": [],
   "source": [
    "# 2. Access the third element of a tuple."
   ]
  },
  {
   "cell_type": "code",
   "execution_count": 10,
   "id": "99141e82",
   "metadata": {},
   "outputs": [
    {
     "data": {
      "text/plain": [
       "3"
      ]
     },
     "execution_count": 10,
     "metadata": {},
     "output_type": "execute_result"
    }
   ],
   "source": [
    "t=(1, 2, 3, 4, 5)\n",
    "t[2]"
   ]
  },
  {
   "cell_type": "code",
   "execution_count": null,
   "id": "17f8010b",
   "metadata": {},
   "outputs": [],
   "source": []
  },
  {
   "cell_type": "code",
   "execution_count": 11,
   "id": "5a265621",
   "metadata": {},
   "outputs": [],
   "source": [
    "# 3. Find the length of a tuple without using the `len()` function"
   ]
  },
  {
   "cell_type": "code",
   "execution_count": 12,
   "id": "30a30785",
   "metadata": {},
   "outputs": [
    {
     "name": "stdout",
     "output_type": "stream",
     "text": [
      "Length of tuple: 5\n"
     ]
    }
   ],
   "source": [
    "t=(1,2,3,4,5)\n",
    "l=0\n",
    "for i in t:\n",
    "    l+=1\n",
    "print(f\"Length of tuple: {l}\")"
   ]
  },
  {
   "cell_type": "code",
   "execution_count": null,
   "id": "79372cf6",
   "metadata": {},
   "outputs": [],
   "source": []
  },
  {
   "cell_type": "code",
   "execution_count": 13,
   "id": "7931ddbb",
   "metadata": {},
   "outputs": [],
   "source": [
    "#4. Count the occurrences of an element in a tuple."
   ]
  },
  {
   "cell_type": "code",
   "execution_count": 17,
   "id": "db793d11",
   "metadata": {},
   "outputs": [
    {
     "data": {
      "text/plain": [
       "3"
      ]
     },
     "execution_count": 17,
     "metadata": {},
     "output_type": "execute_result"
    }
   ],
   "source": [
    "t=(1,2,2,3,4,5,3,2,7,5)\n",
    "ele=2\n",
    "t.count(ele)"
   ]
  },
  {
   "cell_type": "code",
   "execution_count": null,
   "id": "82af1205",
   "metadata": {},
   "outputs": [],
   "source": []
  },
  {
   "cell_type": "code",
   "execution_count": 19,
   "id": "34a711e5",
   "metadata": {},
   "outputs": [],
   "source": [
    "# 5. Find the index of the first occurrence of an element in a tuple."
   ]
  },
  {
   "cell_type": "code",
   "execution_count": 21,
   "id": "f874e95a",
   "metadata": {},
   "outputs": [
    {
     "data": {
      "text/plain": [
       "3"
      ]
     },
     "execution_count": 21,
     "metadata": {},
     "output_type": "execute_result"
    }
   ],
   "source": [
    "t=(1,2,2,3,4,5,3,2,7,5)\n",
    "t.index(3)"
   ]
  },
  {
   "cell_type": "code",
   "execution_count": null,
   "id": "b1d49cc5",
   "metadata": {},
   "outputs": [],
   "source": []
  },
  {
   "cell_type": "code",
   "execution_count": 22,
   "id": "6b6471c3",
   "metadata": {},
   "outputs": [],
   "source": [
    "# 6. Check if an element exists in a tuple"
   ]
  },
  {
   "cell_type": "code",
   "execution_count": 26,
   "id": "c2a7e8d5",
   "metadata": {},
   "outputs": [
    {
     "name": "stdout",
     "output_type": "stream",
     "text": [
      "element '14' not exists in a tuple\n"
     ]
    }
   ],
   "source": [
    "t=(1,2,2,3,4,5,3,2,7,5)\n",
    "ele = 14\n",
    "if ele in t:\n",
    "    print(f\"element '{ele}' exists in a tuple\")\n",
    "else:\n",
    "    print(f\"element '{ele}' not exists in a tuple\")"
   ]
  },
  {
   "cell_type": "code",
   "execution_count": null,
   "id": "c535f443",
   "metadata": {},
   "outputs": [],
   "source": []
  },
  {
   "cell_type": "code",
   "execution_count": 25,
   "id": "d55b9440",
   "metadata": {},
   "outputs": [],
   "source": [
    "# 7. Convert a tuple to a list."
   ]
  },
  {
   "cell_type": "code",
   "execution_count": 28,
   "id": "0e4c95d9",
   "metadata": {},
   "outputs": [
    {
     "data": {
      "text/plain": [
       "[1, 2, 2, 3, 4, 5, 3, 2, 7, 5]"
      ]
     },
     "execution_count": 28,
     "metadata": {},
     "output_type": "execute_result"
    }
   ],
   "source": [
    "t=(1,2,2,3,4,5,3,2,7,5)\n",
    "list(t)"
   ]
  },
  {
   "cell_type": "code",
   "execution_count": null,
   "id": "8b657d08",
   "metadata": {},
   "outputs": [],
   "source": []
  },
  {
   "cell_type": "code",
   "execution_count": 29,
   "id": "c488b51b",
   "metadata": {},
   "outputs": [],
   "source": [
    "# 8. Convert a list to a tuple."
   ]
  },
  {
   "cell_type": "code",
   "execution_count": 30,
   "id": "ee692e67",
   "metadata": {},
   "outputs": [
    {
     "data": {
      "text/plain": [
       "(1, 2, 2, 3, 4, 5, 3, 2, 7, 5)"
      ]
     },
     "execution_count": 30,
     "metadata": {},
     "output_type": "execute_result"
    }
   ],
   "source": [
    "l=[1,2,2,3,4,5,3,2,7,5]\n",
    "tuple(t)"
   ]
  },
  {
   "cell_type": "code",
   "execution_count": null,
   "id": "8f5abc7e",
   "metadata": {},
   "outputs": [],
   "source": []
  },
  {
   "cell_type": "code",
   "execution_count": 31,
   "id": "6699b003",
   "metadata": {},
   "outputs": [],
   "source": [
    "# 9. Unpack the elements of a tuple into variables"
   ]
  },
  {
   "cell_type": "code",
   "execution_count": 33,
   "id": "9e0ac8d0",
   "metadata": {},
   "outputs": [
    {
     "name": "stdout",
     "output_type": "stream",
     "text": [
      "PW\n",
      "Skills\n",
      "Lab\n"
     ]
    }
   ],
   "source": [
    "t=(\"PW\",\"Skills\",\"Lab\")\n",
    "x,y,z = t\n",
    "print(x)\n",
    "print(y)\n",
    "print(z)"
   ]
  },
  {
   "cell_type": "code",
   "execution_count": null,
   "id": "ab05104b",
   "metadata": {},
   "outputs": [],
   "source": []
  },
  {
   "cell_type": "code",
   "execution_count": 34,
   "id": "eec62a42",
   "metadata": {},
   "outputs": [],
   "source": [
    "# 10. Create a tuple of even numbers from 1 to 10."
   ]
  },
  {
   "cell_type": "code",
   "execution_count": 36,
   "id": "cf6c38ae",
   "metadata": {},
   "outputs": [
    {
     "data": {
      "text/plain": [
       "(2, 4, 6, 8, 10)"
      ]
     },
     "execution_count": 36,
     "metadata": {},
     "output_type": "execute_result"
    }
   ],
   "source": [
    "t=tuple([i for i in range(1,11) if i % 2 == 0])\n",
    "t"
   ]
  },
  {
   "cell_type": "code",
   "execution_count": null,
   "id": "f97ee9e4",
   "metadata": {},
   "outputs": [],
   "source": []
  },
  {
   "cell_type": "code",
   "execution_count": 37,
   "id": "10f37b53",
   "metadata": {},
   "outputs": [],
   "source": [
    "# 11. Create a tuple of odd numbers from 1 to 10."
   ]
  },
  {
   "cell_type": "code",
   "execution_count": 38,
   "id": "9c8cf8ea",
   "metadata": {},
   "outputs": [
    {
     "data": {
      "text/plain": [
       "(1, 3, 5, 7, 9)"
      ]
     },
     "execution_count": 38,
     "metadata": {},
     "output_type": "execute_result"
    }
   ],
   "source": [
    "t=tuple([i for i in range(1,11) if i % 2 != 0])\n",
    "t"
   ]
  },
  {
   "cell_type": "code",
   "execution_count": null,
   "id": "886989a2",
   "metadata": {},
   "outputs": [],
   "source": []
  },
  {
   "cell_type": "code",
   "execution_count": 39,
   "id": "6089cb43",
   "metadata": {},
   "outputs": [],
   "source": [
    "# 12. Concatenate two tuples."
   ]
  },
  {
   "cell_type": "code",
   "execution_count": 40,
   "id": "249ee33d",
   "metadata": {},
   "outputs": [
    {
     "data": {
      "text/plain": [
       "(1, 2, 3, 5, 6, 7)"
      ]
     },
     "execution_count": 40,
     "metadata": {},
     "output_type": "execute_result"
    }
   ],
   "source": [
    "t1=(1,2,3)\n",
    "t2=(5,6,7)\n",
    "t1 + t2"
   ]
  },
  {
   "cell_type": "code",
   "execution_count": null,
   "id": "1d038bdd",
   "metadata": {},
   "outputs": [],
   "source": []
  },
  {
   "cell_type": "code",
   "execution_count": 41,
   "id": "47cb54df",
   "metadata": {},
   "outputs": [],
   "source": [
    "# 13. Repeat a tuple three times."
   ]
  },
  {
   "cell_type": "code",
   "execution_count": 42,
   "id": "eec225cf",
   "metadata": {},
   "outputs": [
    {
     "data": {
      "text/plain": [
       "(1, 2, 3, 1, 2, 3, 1, 2, 3)"
      ]
     },
     "execution_count": 42,
     "metadata": {},
     "output_type": "execute_result"
    }
   ],
   "source": [
    "t= (1,2,3)\n",
    "t * 3"
   ]
  },
  {
   "cell_type": "code",
   "execution_count": null,
   "id": "dbbbebd3",
   "metadata": {},
   "outputs": [],
   "source": []
  },
  {
   "cell_type": "code",
   "execution_count": 43,
   "id": "91f8af75",
   "metadata": {},
   "outputs": [],
   "source": [
    "# 14. Check if a tuple is empty."
   ]
  },
  {
   "cell_type": "code",
   "execution_count": 47,
   "id": "35e02d2a",
   "metadata": {},
   "outputs": [
    {
     "name": "stdout",
     "output_type": "stream",
     "text": [
      "Tuple is empty\n"
     ]
    }
   ],
   "source": [
    "t=()\n",
    "if t:\n",
    "    print(\"Tuple is not empty\")\n",
    "else:\n",
    "    print(\"Tuple is empty\")"
   ]
  },
  {
   "cell_type": "code",
   "execution_count": null,
   "id": "bd08a12a",
   "metadata": {},
   "outputs": [],
   "source": []
  },
  {
   "cell_type": "code",
   "execution_count": 48,
   "id": "185fd2b7",
   "metadata": {},
   "outputs": [],
   "source": [
    "# 15. Create a nested tuple."
   ]
  },
  {
   "cell_type": "code",
   "execution_count": 66,
   "id": "0f660cee",
   "metadata": {},
   "outputs": [
    {
     "data": {
      "text/plain": [
       "((1, 2, 3), (4, 5, 6), (7, 8))"
      ]
     },
     "execution_count": 66,
     "metadata": {},
     "output_type": "execute_result"
    }
   ],
   "source": [
    "t=((1,2,3),(4,5,6),(7,8))\n",
    "t"
   ]
  },
  {
   "cell_type": "code",
   "execution_count": null,
   "id": "8e49b09b",
   "metadata": {},
   "outputs": [],
   "source": []
  },
  {
   "cell_type": "code",
   "execution_count": 67,
   "id": "4f5ddfa0",
   "metadata": {},
   "outputs": [],
   "source": [
    "# 16. Access the first element of a nested tuple."
   ]
  },
  {
   "cell_type": "code",
   "execution_count": 68,
   "id": "22adc4da",
   "metadata": {},
   "outputs": [
    {
     "data": {
      "text/plain": [
       "(1, 2, 3)"
      ]
     },
     "execution_count": 68,
     "metadata": {},
     "output_type": "execute_result"
    }
   ],
   "source": [
    "t[0]"
   ]
  },
  {
   "cell_type": "code",
   "execution_count": null,
   "id": "c08c0869",
   "metadata": {},
   "outputs": [],
   "source": []
  },
  {
   "cell_type": "code",
   "execution_count": 69,
   "id": "d60eabff",
   "metadata": {},
   "outputs": [],
   "source": [
    "# 17. Create a tuple with a single element"
   ]
  },
  {
   "cell_type": "code",
   "execution_count": 70,
   "id": "6f584416",
   "metadata": {},
   "outputs": [
    {
     "name": "stdout",
     "output_type": "stream",
     "text": [
      "tuple with a single element ('Yash',)\n"
     ]
    }
   ],
   "source": [
    "t=(\"Yash\",)\n",
    "print(f\"tuple with a single element {t}\")"
   ]
  },
  {
   "cell_type": "code",
   "execution_count": null,
   "id": "48e2caf3",
   "metadata": {},
   "outputs": [],
   "source": []
  },
  {
   "cell_type": "code",
   "execution_count": 71,
   "id": "0a3bb6d9",
   "metadata": {},
   "outputs": [],
   "source": [
    "# 18. Compare two tuples."
   ]
  },
  {
   "cell_type": "code",
   "execution_count": 74,
   "id": "ce5f3b02",
   "metadata": {},
   "outputs": [
    {
     "name": "stdout",
     "output_type": "stream",
     "text": [
      "False\n",
      "True\n",
      "True\n",
      "False\n",
      "True\n",
      "True\n",
      "False\n",
      "False\n",
      "True\n"
     ]
    }
   ],
   "source": [
    "tuple1 = (1, 2, 3)\n",
    "tuple2 = (1, 2, 4)\n",
    "tuple3 = (1, 2, 3)\n",
    "\n",
    "print(tuple1 == tuple2)  \n",
    "print(tuple1 == tuple3)  \n",
    "\n",
    "print(tuple1 != tuple2)  \n",
    "print(tuple1 != tuple3)  \n",
    "\n",
    "print(tuple1 < tuple2)  \n",
    "print(tuple1 <= tuple2)\n",
    "print(tuple1 > tuple2)  \n",
    "print(tuple1 >= tuple2) \n",
    "\n",
    "tuple4 = (1, 2)\n",
    "print(tuple1 > tuple4)  "
   ]
  },
  {
   "cell_type": "code",
   "execution_count": null,
   "id": "282f1760",
   "metadata": {},
   "outputs": [],
   "source": []
  },
  {
   "cell_type": "code",
   "execution_count": 75,
   "id": "028751af",
   "metadata": {},
   "outputs": [],
   "source": [
    "# 19. Delete a tuple."
   ]
  },
  {
   "cell_type": "code",
   "execution_count": 80,
   "id": "49f579be",
   "metadata": {},
   "outputs": [
    {
     "name": "stdout",
     "output_type": "stream",
     "text": [
      "name 'my_tuple' is not defined\n"
     ]
    }
   ],
   "source": [
    "my_tuple = (1, 2, 3, 4, 5)\n",
    "\n",
    "del my_tuple\n",
    "\n",
    "try:\n",
    "    print(my_tuple)\n",
    "except NameError as e:\n",
    "    print(e) "
   ]
  },
  {
   "cell_type": "code",
   "execution_count": null,
   "id": "6f25d225",
   "metadata": {},
   "outputs": [],
   "source": []
  },
  {
   "cell_type": "code",
   "execution_count": 81,
   "id": "166c2333",
   "metadata": {},
   "outputs": [],
   "source": [
    "# 20. Slice a tuple."
   ]
  },
  {
   "cell_type": "code",
   "execution_count": 82,
   "id": "85f9bd89",
   "metadata": {},
   "outputs": [
    {
     "name": "stdout",
     "output_type": "stream",
     "text": [
      "slicing tuple for element from 2 to 5 (4, 5, 3, 6)\n"
     ]
    }
   ],
   "source": [
    "t = (1,2,4,5,3,6)\n",
    "print(\"slicing tuple for element from 2 to 5\",t[2:6])"
   ]
  },
  {
   "cell_type": "code",
   "execution_count": null,
   "id": "83777791",
   "metadata": {},
   "outputs": [],
   "source": []
  },
  {
   "cell_type": "code",
   "execution_count": 83,
   "id": "8918a99a",
   "metadata": {},
   "outputs": [],
   "source": [
    "# 21. Find the maximum value in a tuple."
   ]
  },
  {
   "cell_type": "code",
   "execution_count": 87,
   "id": "4c95e276",
   "metadata": {},
   "outputs": [
    {
     "data": {
      "text/plain": [
       "5"
      ]
     },
     "execution_count": 87,
     "metadata": {},
     "output_type": "execute_result"
    }
   ],
   "source": [
    "def find_max(t):\n",
    "    max_ele = t[0]\n",
    "    for i in range(1,len(t)):\n",
    "        if t[i] > max_ele:\n",
    "            max_ele = t[i]\n",
    "    return max_ele\n",
    "\n",
    "t = (1,2,4,5,3)\n",
    "find_max(t)"
   ]
  },
  {
   "cell_type": "code",
   "execution_count": null,
   "id": "37187561",
   "metadata": {},
   "outputs": [],
   "source": []
  },
  {
   "cell_type": "code",
   "execution_count": 88,
   "id": "6d6643e7",
   "metadata": {},
   "outputs": [],
   "source": [
    "# 22. Find the minimum value in a tuple."
   ]
  },
  {
   "cell_type": "code",
   "execution_count": 89,
   "id": "4c07ae9e",
   "metadata": {},
   "outputs": [
    {
     "data": {
      "text/plain": [
       "1"
      ]
     },
     "execution_count": 89,
     "metadata": {},
     "output_type": "execute_result"
    }
   ],
   "source": [
    "def find_min(t):\n",
    "    min_ele = t[0]\n",
    "    for i in range(1,len(t)):\n",
    "        if t[i] < min_ele:\n",
    "            min_ele = t[i]\n",
    "    return min_ele\n",
    "\n",
    "t = (1,2,4,5,3)\n",
    "find_min(t)"
   ]
  },
  {
   "cell_type": "code",
   "execution_count": null,
   "id": "1f7ebcd2",
   "metadata": {},
   "outputs": [],
   "source": []
  },
  {
   "cell_type": "code",
   "execution_count": 91,
   "id": "4e540444",
   "metadata": {},
   "outputs": [],
   "source": [
    "# 23. Convert a string to a tuple of characters."
   ]
  },
  {
   "cell_type": "code",
   "execution_count": 96,
   "id": "f831d59d",
   "metadata": {},
   "outputs": [
    {
     "name": "stdout",
     "output_type": "stream",
     "text": [
      "('h', 'e', 'l', 'l', 'o')\n"
     ]
    }
   ],
   "source": [
    "my_string = \"hello\"\n",
    "\n",
    "my_tuple = tuple(my_string)\n",
    "\n",
    "print(my_tuple) "
   ]
  },
  {
   "cell_type": "code",
   "execution_count": null,
   "id": "93d24ec6",
   "metadata": {},
   "outputs": [],
   "source": []
  },
  {
   "cell_type": "code",
   "execution_count": 97,
   "id": "e4d98fcd",
   "metadata": {},
   "outputs": [],
   "source": [
    "# 24. Convert a tuple of characters to a string"
   ]
  },
  {
   "cell_type": "code",
   "execution_count": 1,
   "id": "1c42f696",
   "metadata": {},
   "outputs": [
    {
     "name": "stdout",
     "output_type": "stream",
     "text": [
      "hello\n"
     ]
    }
   ],
   "source": [
    "my_tuple = ('h', 'e', 'l', 'l', 'o')\n",
    "\n",
    "my_string = \"\".join(my_tuple)\n",
    "\n",
    "print(my_string)  "
   ]
  },
  {
   "cell_type": "code",
   "execution_count": null,
   "id": "86da4c00",
   "metadata": {},
   "outputs": [],
   "source": []
  },
  {
   "cell_type": "code",
   "execution_count": 2,
   "id": "74291d5e",
   "metadata": {},
   "outputs": [],
   "source": [
    "# 25. Create a tuple from multiple data types."
   ]
  },
  {
   "cell_type": "code",
   "execution_count": 4,
   "id": "988d64a6",
   "metadata": {},
   "outputs": [
    {
     "data": {
      "text/plain": [
       "('Hi',\n",
       " 2,\n",
       " 3.14,\n",
       " True,\n",
       " (3+5j),\n",
       " [1, 2, 'PW'],\n",
       " {'Name': 'Yash', 'Qualification': 'Computer Engineering'},\n",
       " {1, 2, 3, 4},\n",
       " (1, 2, 3))"
      ]
     },
     "execution_count": 4,
     "metadata": {},
     "output_type": "execute_result"
    }
   ],
   "source": [
    "t=(\"Hi\",2,3.14,True,3+5j,[1,2,\"PW\"],{\"Name\":\"Yash\",\"Qualification\":\"Computer Engineering\"},{1,2,3,4},(1,2,3))\n",
    "t"
   ]
  },
  {
   "cell_type": "code",
   "execution_count": null,
   "id": "fdedc833",
   "metadata": {},
   "outputs": [],
   "source": []
  },
  {
   "cell_type": "code",
   "execution_count": 5,
   "id": "54b841ba",
   "metadata": {},
   "outputs": [],
   "source": [
    "# 26. Check if two tuples are identical."
   ]
  },
  {
   "cell_type": "code",
   "execution_count": 15,
   "id": "fed890dc",
   "metadata": {},
   "outputs": [
    {
     "name": "stdout",
     "output_type": "stream",
     "text": [
      "tuples 't1' and 't2' are identical(values are same)\n",
      "tuples 't1' and 't3' are identical(value inside tuple are same and both tuple pointing to same memory location)\n"
     ]
    }
   ],
   "source": [
    "t1 = (1,2,3)\n",
    "t2 = (1,2,3)\n",
    "t3 = t1\n",
    "if t1 == t2:\n",
    "    print(f\"tuples 't1' and 't2' are identical(values are same)\")\n",
    "if t1 is t3:\n",
    "    print(f\"tuples 't1' and 't3' are identical(value inside tuple are same and both tuple pointing to same memory location)\")\n",
    "else:\n",
    "    print(\"tuples are not identical.\")"
   ]
  },
  {
   "cell_type": "code",
   "execution_count": null,
   "id": "dffaf2d4",
   "metadata": {},
   "outputs": [],
   "source": []
  },
  {
   "cell_type": "code",
   "execution_count": 16,
   "id": "8d7bd81a",
   "metadata": {},
   "outputs": [],
   "source": [
    "# 27. Sort the elements of a tuple."
   ]
  },
  {
   "cell_type": "code",
   "execution_count": 21,
   "id": "766a3c69",
   "metadata": {},
   "outputs": [
    {
     "data": {
      "text/plain": [
       "(1, 3, 5, 16, 24, 67)"
      ]
     },
     "execution_count": 21,
     "metadata": {},
     "output_type": "execute_result"
    }
   ],
   "source": [
    "t=(1,67,3,24,5,16)\n",
    "lst=list(t)\n",
    "lst.sort()\n",
    "tuple(lst)"
   ]
  },
  {
   "cell_type": "code",
   "execution_count": null,
   "id": "c71e4bc0",
   "metadata": {},
   "outputs": [],
   "source": []
  },
  {
   "cell_type": "code",
   "execution_count": 22,
   "id": "92d823ad",
   "metadata": {},
   "outputs": [],
   "source": [
    "# 28. Convert a tuple of integers to a tuple of strings."
   ]
  },
  {
   "cell_type": "code",
   "execution_count": 23,
   "id": "29cd4d7c",
   "metadata": {},
   "outputs": [
    {
     "data": {
      "text/plain": [
       "('1', '2', '4', '6', '5')"
      ]
     },
     "execution_count": 23,
     "metadata": {},
     "output_type": "execute_result"
    }
   ],
   "source": [
    "t1 = (1,2,4,6,5)\n",
    "lst=[]\n",
    "for i in t1:\n",
    "    lst.append(str(i))\n",
    "tuple(lst)"
   ]
  },
  {
   "cell_type": "code",
   "execution_count": null,
   "id": "31a26b0a",
   "metadata": {},
   "outputs": [],
   "source": []
  },
  {
   "cell_type": "code",
   "execution_count": 27,
   "id": "a4d0bb31",
   "metadata": {},
   "outputs": [],
   "source": [
    "# 29. Convert a tuple of strings to a tuple of integers."
   ]
  },
  {
   "cell_type": "code",
   "execution_count": 28,
   "id": "3066e22f",
   "metadata": {},
   "outputs": [
    {
     "data": {
      "text/plain": [
       "(1, 2, 4, 6, 5)"
      ]
     },
     "execution_count": 28,
     "metadata": {},
     "output_type": "execute_result"
    }
   ],
   "source": [
    "t = (1,2,4,6,5)\n",
    "new_tuple = tuple(int(i) for i in t)\n",
    "new_tuple"
   ]
  },
  {
   "cell_type": "code",
   "execution_count": null,
   "id": "70f68616",
   "metadata": {},
   "outputs": [],
   "source": []
  },
  {
   "cell_type": "code",
   "execution_count": 29,
   "id": "f5b036e5",
   "metadata": {},
   "outputs": [],
   "source": [
    "# 30. Merge two tuples."
   ]
  },
  {
   "cell_type": "code",
   "execution_count": 30,
   "id": "4df1b6eb",
   "metadata": {},
   "outputs": [
    {
     "data": {
      "text/plain": [
       "(1, 2, 3, 4, 5, 6)"
      ]
     },
     "execution_count": 30,
     "metadata": {},
     "output_type": "execute_result"
    }
   ],
   "source": [
    "t1 = (1,2,3)\n",
    "t2 = (4,5,6)\n",
    "t1 + t2"
   ]
  },
  {
   "cell_type": "code",
   "execution_count": null,
   "id": "0154b62f",
   "metadata": {},
   "outputs": [],
   "source": []
  },
  {
   "cell_type": "code",
   "execution_count": 31,
   "id": "1ceba11f",
   "metadata": {},
   "outputs": [],
   "source": [
    "# 31. Flatten a nested tuple."
   ]
  },
  {
   "cell_type": "code",
   "execution_count": 41,
   "id": "3e1e5731",
   "metadata": {},
   "outputs": [
    {
     "name": "stdout",
     "output_type": "stream",
     "text": [
      "(1, 2, 3, 4, 5, 6, 7)\n"
     ]
    }
   ],
   "source": [
    "def flatten_tuple(nested_tuple):\n",
    "    flat_tuple = ()\n",
    "    for item in nested_tuple:\n",
    "        if isinstance(item,(tuple,list)):\n",
    "            flat_tuple += flatten_tuple(item)\n",
    "        else:\n",
    "            flat_tuple += (item,)\n",
    "    return flat_tuple\n",
    "\n",
    "nested_tuple = (1, (2, 3), (4, (5, 6)), 7)\n",
    "flat_tuple = flatten_tuple(nested_tuple)\n",
    "print(flat_tuple)"
   ]
  },
  {
   "cell_type": "code",
   "execution_count": null,
   "id": "61c6873e",
   "metadata": {},
   "outputs": [],
   "source": []
  },
  {
   "cell_type": "code",
   "execution_count": 42,
   "id": "f013f7b7",
   "metadata": {},
   "outputs": [],
   "source": [
    "# 32. Create a tuple of the first 5 prime numbers."
   ]
  },
  {
   "cell_type": "code",
   "execution_count": 48,
   "id": "af51993c",
   "metadata": {},
   "outputs": [
    {
     "data": {
      "text/plain": [
       "(2, 3)"
      ]
     },
     "execution_count": 48,
     "metadata": {},
     "output_type": "execute_result"
    }
   ],
   "source": [
    "def prime_no(n):\n",
    "    tup = ()\n",
    "    for i in range(2,n):\n",
    "        is_prime = True\n",
    "        for j in range(2,i):\n",
    "            if i % j == 0:\n",
    "                is_prime = False\n",
    "        if is_prime:\n",
    "            tup += (i,)\n",
    "    return tup\n",
    "\n",
    "n=5\n",
    "prime_no(n)"
   ]
  },
  {
   "cell_type": "code",
   "execution_count": null,
   "id": "2e8af0ea",
   "metadata": {},
   "outputs": [],
   "source": []
  },
  {
   "cell_type": "code",
   "execution_count": 49,
   "id": "9c63a06c",
   "metadata": {},
   "outputs": [],
   "source": [
    "# 33. Check if a tuple is a palindrome."
   ]
  },
  {
   "cell_type": "code",
   "execution_count": 60,
   "id": "f03ddace",
   "metadata": {},
   "outputs": [
    {
     "name": "stdout",
     "output_type": "stream",
     "text": [
      "tuple is a palindrome\n"
     ]
    }
   ],
   "source": [
    "def is_tuple_palindrome(t1):\n",
    "    t2 = ()\n",
    "    for i in range(len(t1)-1,-1,-1):\n",
    "        t2 += (t1[i],)\n",
    "    return t1 == t2\n",
    "\n",
    "t1 = (1,2,1)\n",
    "if is_tuple_palindrome(t1):\n",
    "    print(\"tuple is a palindrome\")\n",
    "else:\n",
    "    print(\"tuple is not palindrome\")"
   ]
  },
  {
   "cell_type": "code",
   "execution_count": null,
   "id": "0e1f3025",
   "metadata": {},
   "outputs": [],
   "source": []
  },
  {
   "cell_type": "code",
   "execution_count": 61,
   "id": "9853df8b",
   "metadata": {},
   "outputs": [],
   "source": [
    "# 34. Create a tuple of squares of numbers from 1 to 5."
   ]
  },
  {
   "cell_type": "code",
   "execution_count": 62,
   "id": "6fda562e",
   "metadata": {},
   "outputs": [
    {
     "data": {
      "text/plain": [
       "(1, 4, 9, 16, 25)"
      ]
     },
     "execution_count": 62,
     "metadata": {},
     "output_type": "execute_result"
    }
   ],
   "source": [
    "def tuple_of_square(start,end):\n",
    "    t = ()\n",
    "    for i in range(start,end+1):\n",
    "        sq = pow(i,2)\n",
    "        t += (sq,)\n",
    "    return t\n",
    "    \n",
    "start = 1\n",
    "end = 5\n",
    "tuple_of_square(start,end)"
   ]
  },
  {
   "cell_type": "code",
   "execution_count": null,
   "id": "10d76882",
   "metadata": {},
   "outputs": [],
   "source": []
  },
  {
   "cell_type": "code",
   "execution_count": 63,
   "id": "165667be",
   "metadata": {},
   "outputs": [],
   "source": [
    "# 35. Filter out all even numbers from a tuple."
   ]
  },
  {
   "cell_type": "code",
   "execution_count": 64,
   "id": "eb7ef14c",
   "metadata": {},
   "outputs": [
    {
     "name": "stdout",
     "output_type": "stream",
     "text": [
      "(2, 4, 6)\n"
     ]
    }
   ],
   "source": [
    "t = (1,2,3,4,5,6)\n",
    "even_tuple = ()\n",
    "for i in t:\n",
    "    if i % 2 == 0:\n",
    "        even_tuple += (i,)\n",
    "print(even_tuple)"
   ]
  },
  {
   "cell_type": "code",
   "execution_count": null,
   "id": "b8c7aa53",
   "metadata": {},
   "outputs": [],
   "source": []
  },
  {
   "cell_type": "code",
   "execution_count": 65,
   "id": "d78682ec",
   "metadata": {},
   "outputs": [],
   "source": [
    "# 36. Multiply all elements in a tuple by 2"
   ]
  },
  {
   "cell_type": "code",
   "execution_count": 66,
   "id": "19520f1b",
   "metadata": {},
   "outputs": [
    {
     "name": "stdout",
     "output_type": "stream",
     "text": [
      "(2, 4, 6, 8, 10, 12)\n"
     ]
    }
   ],
   "source": [
    "t = (1,2,3,4,5,6)\n",
    "mul_tuple = ()\n",
    "for i in t:\n",
    "    mul_tuple += (i*2,)\n",
    "print(mul_tuple)"
   ]
  },
  {
   "cell_type": "code",
   "execution_count": null,
   "id": "03827099",
   "metadata": {},
   "outputs": [],
   "source": []
  },
  {
   "cell_type": "code",
   "execution_count": 67,
   "id": "66cc8ceb",
   "metadata": {},
   "outputs": [],
   "source": [
    "# 37. Create a tuple of random numbers."
   ]
  },
  {
   "cell_type": "code",
   "execution_count": 72,
   "id": "3f7fbef5",
   "metadata": {},
   "outputs": [
    {
     "name": "stdout",
     "output_type": "stream",
     "text": [
      "(49, 98, 70, 70, 62)\n"
     ]
    }
   ],
   "source": [
    "from random import randint\n",
    "random_num_tuple = ()\n",
    "for i in range(5):\n",
    "    random_num_tuple += (randint(1,100),)\n",
    "print(random_num_tuple)"
   ]
  },
  {
   "cell_type": "code",
   "execution_count": null,
   "id": "f8f80e2c",
   "metadata": {},
   "outputs": [],
   "source": []
  },
  {
   "cell_type": "code",
   "execution_count": 73,
   "id": "69619957",
   "metadata": {},
   "outputs": [],
   "source": [
    "# 38. Check if a tuple is sorted."
   ]
  },
  {
   "cell_type": "code",
   "execution_count": 76,
   "id": "9bdff265",
   "metadata": {},
   "outputs": [
    {
     "name": "stdout",
     "output_type": "stream",
     "text": [
      "tuple is sorted in ascending order: False\n"
     ]
    }
   ],
   "source": [
    "t = (1,2,3,4,5,2)\n",
    "is_ascending_sort = True\n",
    "for i in range(len(t)-1):\n",
    "    if t[i] > t[i+1]:\n",
    "        is_ascending_sort = False\n",
    "        \n",
    "print(f\"tuple is sorted in ascending order: {is_ascending_sort}\")"
   ]
  },
  {
   "cell_type": "code",
   "execution_count": null,
   "id": "ee531e40",
   "metadata": {},
   "outputs": [],
   "source": []
  },
  {
   "cell_type": "code",
   "execution_count": 77,
   "id": "d2124932",
   "metadata": {},
   "outputs": [],
   "source": [
    "# 39. Rotate a tuple to the left by `n` positions."
   ]
  },
  {
   "cell_type": "code",
   "execution_count": 87,
   "id": "16a2669f",
   "metadata": {},
   "outputs": [
    {
     "data": {
      "text/plain": [
       "(3, 4, 5, 1, 2)"
      ]
     },
     "execution_count": 87,
     "metadata": {},
     "output_type": "execute_result"
    }
   ],
   "source": [
    "def rotate_tuple_left(t,n):\n",
    "    safe_rotate = n % len(t)\n",
    "    return t[safe_rotate :] + t[:safe_rotate]\n",
    "        \n",
    "t = (1,2,3,4,5)\n",
    "n = 2\n",
    "rotate_tuple_left(t,n)"
   ]
  },
  {
   "cell_type": "code",
   "execution_count": null,
   "id": "4127e670",
   "metadata": {},
   "outputs": [],
   "source": []
  },
  {
   "cell_type": "code",
   "execution_count": 80,
   "id": "82a2af8c",
   "metadata": {},
   "outputs": [],
   "source": [
    "# 40. Rotate a tuple to the right by `n` positions."
   ]
  },
  {
   "cell_type": "code",
   "execution_count": 89,
   "id": "076651fa",
   "metadata": {},
   "outputs": [
    {
     "data": {
      "text/plain": [
       "(4, 5, 1, 2, 3)"
      ]
     },
     "execution_count": 89,
     "metadata": {},
     "output_type": "execute_result"
    }
   ],
   "source": [
    "def rotate_tuple_right(t,n):\n",
    "    safe_rotate = n % len(t)\n",
    "    return t[safe_rotate+1:] + t[:safe_rotate +1]\n",
    "        \n",
    "t = (1,2,3,4,5)\n",
    "n = 7\n",
    "rotate_tuple_right(t,n)"
   ]
  },
  {
   "cell_type": "code",
   "execution_count": null,
   "id": "0d504318",
   "metadata": {},
   "outputs": [],
   "source": []
  },
  {
   "cell_type": "code",
   "execution_count": 90,
   "id": "4958533a",
   "metadata": {},
   "outputs": [],
   "source": [
    "# 41. Create a tuple of the first 5 Fibonacci numbers."
   ]
  },
  {
   "cell_type": "code",
   "execution_count": 93,
   "id": "02f47991",
   "metadata": {},
   "outputs": [
    {
     "data": {
      "text/plain": [
       "(0, 1, 1, 2, 3, 5)"
      ]
     },
     "execution_count": 93,
     "metadata": {},
     "output_type": "execute_result"
    }
   ],
   "source": [
    "def fibonacci_tuple(n):\n",
    "    t = (0,1)\n",
    "    for i in range(2,n+1):\n",
    "        num = t[i-1] + t[i-2]\n",
    "        t += (num,)\n",
    "    return t\n",
    "\n",
    "n = 5\n",
    "fibonacci_tuple(n)"
   ]
  },
  {
   "cell_type": "code",
   "execution_count": null,
   "id": "9a4236cc",
   "metadata": {},
   "outputs": [],
   "source": []
  },
  {
   "cell_type": "code",
   "execution_count": 94,
   "id": "bd0b6aca",
   "metadata": {},
   "outputs": [],
   "source": [
    "# 42. Create a tuple from user input."
   ]
  },
  {
   "cell_type": "code",
   "execution_count": 96,
   "id": "f0dcfcd3",
   "metadata": {},
   "outputs": [
    {
     "name": "stdout",
     "output_type": "stream",
     "text": [
      "How many values want to add inside tuple: 5\n",
      "1\n",
      "2\n",
      "Hi\n",
      "Welcome\n",
      "5\n"
     ]
    },
    {
     "data": {
      "text/plain": [
       "('1', '2', 'Hi', 'Welcome', '5')"
      ]
     },
     "execution_count": 96,
     "metadata": {},
     "output_type": "execute_result"
    }
   ],
   "source": [
    "t = ()\n",
    "input1 = int(input(\"How many values want to add inside tuple: \"))\n",
    "for i in range(input1):\n",
    "    t += (input(),)\n",
    "t"
   ]
  },
  {
   "cell_type": "code",
   "execution_count": null,
   "id": "2b54a5b5",
   "metadata": {},
   "outputs": [],
   "source": []
  },
  {
   "cell_type": "code",
   "execution_count": 97,
   "id": "c6884592",
   "metadata": {},
   "outputs": [],
   "source": [
    "# 43. Swap two elements in a tuple."
   ]
  },
  {
   "cell_type": "code",
   "execution_count": 100,
   "id": "f6657683",
   "metadata": {},
   "outputs": [
    {
     "data": {
      "text/plain": [
       "(1, 2, 5, 4, 3)"
      ]
     },
     "execution_count": 100,
     "metadata": {},
     "output_type": "execute_result"
    }
   ],
   "source": [
    "t = (1,2,3,4,5)\n",
    "lst=list(t)\n",
    "lst[2],lst[4] = lst[4],lst[2]\n",
    "tuple(lst)"
   ]
  },
  {
   "cell_type": "code",
   "execution_count": null,
   "id": "a4e6e08e",
   "metadata": {},
   "outputs": [],
   "source": []
  },
  {
   "cell_type": "code",
   "execution_count": 101,
   "id": "b37a46a3",
   "metadata": {},
   "outputs": [],
   "source": [
    "# 44. Reverse the elements of a tuple."
   ]
  },
  {
   "cell_type": "code",
   "execution_count": 105,
   "id": "64e2df3f",
   "metadata": {},
   "outputs": [
    {
     "data": {
      "text/plain": [
       "(5, 4, 3, 2, 1)"
      ]
     },
     "execution_count": 105,
     "metadata": {},
     "output_type": "execute_result"
    }
   ],
   "source": [
    "t = (1,2,3,4,5)\n",
    "lst = list(t)\n",
    "lst.reverse()\n",
    "tuple(lst)"
   ]
  },
  {
   "cell_type": "code",
   "execution_count": null,
   "id": "49af20ca",
   "metadata": {},
   "outputs": [],
   "source": []
  },
  {
   "cell_type": "code",
   "execution_count": 106,
   "id": "0d10fd49",
   "metadata": {},
   "outputs": [],
   "source": [
    "# 45. Create a tuple of the first `n` powers of 2."
   ]
  },
  {
   "cell_type": "code",
   "execution_count": 109,
   "id": "a1f7749d",
   "metadata": {},
   "outputs": [
    {
     "data": {
      "text/plain": [
       "(1, 2, 4, 8, 16)"
      ]
     },
     "execution_count": 109,
     "metadata": {},
     "output_type": "execute_result"
    }
   ],
   "source": [
    "t = ()\n",
    "n = 5\n",
    "for i in range(n):\n",
    "    t += (pow(2,i),)\n",
    "t"
   ]
  },
  {
   "cell_type": "code",
   "execution_count": null,
   "id": "533883dc",
   "metadata": {},
   "outputs": [],
   "source": []
  },
  {
   "cell_type": "code",
   "execution_count": 110,
   "id": "fc434b39",
   "metadata": {},
   "outputs": [],
   "source": [
    "# 46. Find the longest string in a tuple of strings."
   ]
  },
  {
   "cell_type": "code",
   "execution_count": 117,
   "id": "f68e0f13",
   "metadata": {},
   "outputs": [
    {
     "name": "stdout",
     "output_type": "stream",
     "text": [
      "Welcome\n"
     ]
    }
   ],
   "source": [
    "t = (\"Welcome\",\"to\",\"PW\",\"Data\",\"Science\",\"Class\")\n",
    "long_string_len = float(\"-inf\")\n",
    "longest_string = None\n",
    "\n",
    "for string in t:\n",
    "    if len(string) > long_string_len:\n",
    "        long_string_len = len(string)\n",
    "        longest_string = string\n",
    "        \n",
    "print(longest_string)"
   ]
  },
  {
   "cell_type": "code",
   "execution_count": null,
   "id": "c4815845",
   "metadata": {},
   "outputs": [],
   "source": []
  },
  {
   "cell_type": "code",
   "execution_count": 118,
   "id": "263a1e1f",
   "metadata": {},
   "outputs": [],
   "source": [
    "# 47. Find the shortest string in a tuple of strings."
   ]
  },
  {
   "cell_type": "code",
   "execution_count": 119,
   "id": "fd123ac4",
   "metadata": {},
   "outputs": [
    {
     "name": "stdout",
     "output_type": "stream",
     "text": [
      "to\n"
     ]
    }
   ],
   "source": [
    "t = (\"Welcome\",\"to\",\"PW\",\"Data\",\"Science\",\"Class\")\n",
    "short_string_len = float(\"inf\")\n",
    "short_string = None\n",
    "\n",
    "for string in t:\n",
    "    if len(string) < short_string_len:\n",
    "        short_string_len = len(string)\n",
    "        short_string = string\n",
    "        \n",
    "print(short_string)"
   ]
  },
  {
   "cell_type": "code",
   "execution_count": null,
   "id": "f37b24e7",
   "metadata": {},
   "outputs": [],
   "source": []
  },
  {
   "cell_type": "code",
   "execution_count": 120,
   "id": "55de5ef9",
   "metadata": {},
   "outputs": [],
   "source": [
    "# 48. Create a tuple of the first `n` triangular numbers."
   ]
  },
  {
   "cell_type": "code",
   "execution_count": 121,
   "id": "0f17becf",
   "metadata": {},
   "outputs": [
    {
     "name": "stdout",
     "output_type": "stream",
     "text": [
      "(1, 3, 6, 10, 15)\n"
     ]
    }
   ],
   "source": [
    "def triangular_numbers(n):\n",
    "    return tuple((i * (i + 1)) // 2 for i in range(1, n + 1))\n",
    "\n",
    "n = 5\n",
    "result = triangular_numbers(n)\n",
    "print(result)  "
   ]
  },
  {
   "cell_type": "code",
   "execution_count": null,
   "id": "576a1b1d",
   "metadata": {},
   "outputs": [],
   "source": []
  },
  {
   "cell_type": "code",
   "execution_count": 122,
   "id": "900c49e4",
   "metadata": {},
   "outputs": [],
   "source": [
    "# 49. Check if a tuple contains another tuple as a subsequence"
   ]
  },
  {
   "cell_type": "code",
   "execution_count": 126,
   "id": "57f5bbdb",
   "metadata": {},
   "outputs": [
    {
     "name": "stdout",
     "output_type": "stream",
     "text": [
      "tuple contains another tuple as a subsequence\n"
     ]
    }
   ],
   "source": [
    "t = (1,2,\"Hi\",(5,6,\"Hello\"))\n",
    "for item in t:\n",
    "    if isinstance(item,(tuple)):\n",
    "        print(\"tuple contains another tuple as a subsequence\")\n",
    "        break\n",
    "else:\n",
    "     print(\"tuple does not contains another tuple as a subsequence\")"
   ]
  },
  {
   "cell_type": "code",
   "execution_count": null,
   "id": "8baf1f6f",
   "metadata": {},
   "outputs": [],
   "source": []
  },
  {
   "cell_type": "code",
   "execution_count": 127,
   "id": "19fd9323",
   "metadata": {},
   "outputs": [],
   "source": [
    "#50. Create a tuple of alternating 1s and 0s of length `n`."
   ]
  },
  {
   "cell_type": "code",
   "execution_count": 130,
   "id": "7d9cbff0",
   "metadata": {},
   "outputs": [
    {
     "name": "stdout",
     "output_type": "stream",
     "text": [
      "(1, 0, 1, 0, 1, 0, 1, 0, 1, 0)\n"
     ]
    }
   ],
   "source": [
    "def alternating_ones_zeros(n):\n",
    "    return tuple(1 if i % 2 == 0 else 0 for i in range(n))\n",
    "\n",
    "n = 10\n",
    "result = alternating_ones_zeros(n)\n",
    "print(result) "
   ]
  },
  {
   "cell_type": "code",
   "execution_count": null,
   "id": "ab62bd14",
   "metadata": {},
   "outputs": [],
   "source": []
  },
  {
   "cell_type": "code",
   "execution_count": 131,
   "id": "d1ecaebc",
   "metadata": {},
   "outputs": [],
   "source": [
    "# Set Based Practice Problem :"
   ]
  },
  {
   "cell_type": "code",
   "execution_count": 132,
   "id": "39d54b96",
   "metadata": {},
   "outputs": [],
   "source": [
    "# 1. Create a set with integers from 1 to 5."
   ]
  },
  {
   "cell_type": "code",
   "execution_count": 140,
   "id": "efb14139",
   "metadata": {},
   "outputs": [
    {
     "data": {
      "text/plain": [
       "{1, 2, 3, 4, 5}"
      ]
     },
     "execution_count": 140,
     "metadata": {},
     "output_type": "execute_result"
    }
   ],
   "source": [
    "set(i for i in range(1,6))"
   ]
  },
  {
   "cell_type": "code",
   "execution_count": null,
   "id": "bec28872",
   "metadata": {},
   "outputs": [],
   "source": []
  },
  {
   "cell_type": "code",
   "execution_count": 141,
   "id": "4f14c7c6",
   "metadata": {},
   "outputs": [],
   "source": [
    "# 2. Add an element to a set."
   ]
  },
  {
   "cell_type": "code",
   "execution_count": 142,
   "id": "fa2c8018",
   "metadata": {},
   "outputs": [
    {
     "data": {
      "text/plain": [
       "{1, 2, 3, 4, 5, 6}"
      ]
     },
     "execution_count": 142,
     "metadata": {},
     "output_type": "execute_result"
    }
   ],
   "source": [
    "s = {1,2,3,4,5}\n",
    "s.add(6)\n",
    "s"
   ]
  },
  {
   "cell_type": "code",
   "execution_count": null,
   "id": "3065bf44",
   "metadata": {},
   "outputs": [],
   "source": []
  },
  {
   "cell_type": "code",
   "execution_count": 143,
   "id": "7cc527eb",
   "metadata": {},
   "outputs": [],
   "source": [
    "# 3. Remove an element from a set."
   ]
  },
  {
   "cell_type": "code",
   "execution_count": 146,
   "id": "51d047e2",
   "metadata": {},
   "outputs": [
    {
     "data": {
      "text/plain": [
       "{1, 3, 4, 5, 6, 'Hi', 'Yash'}"
      ]
     },
     "execution_count": 146,
     "metadata": {},
     "output_type": "execute_result"
    }
   ],
   "source": [
    "s = {1,2,3,4,5,6,\"Hi\",\"Yash\"}\n",
    "s.remove(2)\n",
    "s"
   ]
  },
  {
   "cell_type": "code",
   "execution_count": 147,
   "id": "7332b5a6",
   "metadata": {},
   "outputs": [
    {
     "data": {
      "text/plain": [
       "{1, 3, 5, 6, 'Hi', 'Yash'}"
      ]
     },
     "execution_count": 147,
     "metadata": {},
     "output_type": "execute_result"
    }
   ],
   "source": [
    "s.discard(4)\n",
    "s"
   ]
  },
  {
   "cell_type": "code",
   "execution_count": 148,
   "id": "3a6e7547",
   "metadata": {},
   "outputs": [
    {
     "data": {
      "text/plain": [
       "{3, 5, 6, 'Hi', 'Yash'}"
      ]
     },
     "execution_count": 148,
     "metadata": {},
     "output_type": "execute_result"
    }
   ],
   "source": [
    "s.pop()\n",
    "s"
   ]
  },
  {
   "cell_type": "code",
   "execution_count": null,
   "id": "9e080c1c",
   "metadata": {},
   "outputs": [],
   "source": []
  },
  {
   "cell_type": "code",
   "execution_count": 149,
   "id": "696a2808",
   "metadata": {},
   "outputs": [],
   "source": [
    "# 4. Check if an element exists in a set."
   ]
  },
  {
   "cell_type": "code",
   "execution_count": 151,
   "id": "b829d6e8",
   "metadata": {},
   "outputs": [
    {
     "name": "stdout",
     "output_type": "stream",
     "text": [
      " element '30' does not exists in a set.\n"
     ]
    }
   ],
   "source": [
    "s = {1,2,3,4,5,6}\n",
    "ele = 30\n",
    "if ele in s:\n",
    "    print(f\" element '{ele}' exists in a set.\")\n",
    "else:\n",
    "    print(f\" element '{ele}' does not exists in a set.\")"
   ]
  },
  {
   "cell_type": "code",
   "execution_count": null,
   "id": "3d56d202",
   "metadata": {},
   "outputs": [],
   "source": []
  },
  {
   "cell_type": "code",
   "execution_count": 152,
   "id": "71a443ff",
   "metadata": {},
   "outputs": [],
   "source": [
    "# 5. Find the length of a set without using the `len()` function."
   ]
  },
  {
   "cell_type": "code",
   "execution_count": 153,
   "id": "9ec6262d",
   "metadata": {},
   "outputs": [
    {
     "name": "stdout",
     "output_type": "stream",
     "text": [
      "length of a set 6\n"
     ]
    }
   ],
   "source": [
    "s = {1,2,3,4,5,6}\n",
    "l = 0\n",
    "for i in s:\n",
    "    l+=1\n",
    "print(\"length of a set\",l)"
   ]
  },
  {
   "cell_type": "code",
   "execution_count": null,
   "id": "f1540dd4",
   "metadata": {},
   "outputs": [],
   "source": []
  },
  {
   "cell_type": "code",
   "execution_count": 154,
   "id": "f114aab2",
   "metadata": {},
   "outputs": [],
   "source": [
    "# 6. Clear all elements from a set."
   ]
  },
  {
   "cell_type": "code",
   "execution_count": 155,
   "id": "bbf6ac94",
   "metadata": {},
   "outputs": [
    {
     "data": {
      "text/plain": [
       "set()"
      ]
     },
     "execution_count": 155,
     "metadata": {},
     "output_type": "execute_result"
    }
   ],
   "source": [
    "s = {1,2,3,4,5,6}\n",
    "s.clear()\n",
    "s"
   ]
  },
  {
   "cell_type": "code",
   "execution_count": null,
   "id": "799281d9",
   "metadata": {},
   "outputs": [],
   "source": []
  },
  {
   "cell_type": "code",
   "execution_count": 156,
   "id": "c7484711",
   "metadata": {},
   "outputs": [],
   "source": [
    "# 7. Create a set of even numbers from 1 to 10"
   ]
  },
  {
   "cell_type": "code",
   "execution_count": 157,
   "id": "b93fc922",
   "metadata": {},
   "outputs": [
    {
     "data": {
      "text/plain": [
       "{2, 4, 6, 8, 10}"
      ]
     },
     "execution_count": 157,
     "metadata": {},
     "output_type": "execute_result"
    }
   ],
   "source": [
    "set(i for i in range(1,11) if i % 2 == 0)"
   ]
  },
  {
   "cell_type": "code",
   "execution_count": null,
   "id": "707ed457",
   "metadata": {},
   "outputs": [],
   "source": []
  },
  {
   "cell_type": "code",
   "execution_count": 158,
   "id": "fca855f1",
   "metadata": {},
   "outputs": [],
   "source": [
    "# 8. Create a set of odd numbers from 1 to 10."
   ]
  },
  {
   "cell_type": "code",
   "execution_count": 159,
   "id": "3e64ef6f",
   "metadata": {},
   "outputs": [
    {
     "data": {
      "text/plain": [
       "{1, 3, 5, 7, 9}"
      ]
     },
     "execution_count": 159,
     "metadata": {},
     "output_type": "execute_result"
    }
   ],
   "source": [
    "set(i for i in range(1,11) if i % 2 != 0)"
   ]
  },
  {
   "cell_type": "code",
   "execution_count": null,
   "id": "5d9c10ca",
   "metadata": {},
   "outputs": [],
   "source": []
  },
  {
   "cell_type": "code",
   "execution_count": 160,
   "id": "13fe8a99",
   "metadata": {},
   "outputs": [],
   "source": [
    "# 9. Find the union of two sets"
   ]
  },
  {
   "cell_type": "code",
   "execution_count": 161,
   "id": "d9db2e41",
   "metadata": {},
   "outputs": [
    {
     "data": {
      "text/plain": [
       "{1, 2, 3, 4, 5, 6, 7}"
      ]
     },
     "execution_count": 161,
     "metadata": {},
     "output_type": "execute_result"
    }
   ],
   "source": [
    "s1 = {1,2,3}\n",
    "s2 = {4,5,6,7}\n",
    "s3 = s1.union(s2)\n",
    "s3"
   ]
  },
  {
   "cell_type": "code",
   "execution_count": null,
   "id": "56a52fa2",
   "metadata": {},
   "outputs": [],
   "source": []
  },
  {
   "cell_type": "code",
   "execution_count": 162,
   "id": "02023b97",
   "metadata": {},
   "outputs": [],
   "source": [
    "# 10. Find the intersection of two sets."
   ]
  },
  {
   "cell_type": "code",
   "execution_count": 163,
   "id": "fc866419",
   "metadata": {},
   "outputs": [
    {
     "data": {
      "text/plain": [
       "{2, 3}"
      ]
     },
     "execution_count": 163,
     "metadata": {},
     "output_type": "execute_result"
    }
   ],
   "source": [
    "s1 = {1,2,3}\n",
    "s2 = {4,2,6,3}\n",
    "s3 = s1.intersection(s2)\n",
    "s3"
   ]
  },
  {
   "cell_type": "code",
   "execution_count": 164,
   "id": "b1399828",
   "metadata": {},
   "outputs": [
    {
     "data": {
      "text/plain": [
       "{2, 3}"
      ]
     },
     "execution_count": 164,
     "metadata": {},
     "output_type": "execute_result"
    }
   ],
   "source": [
    "s4 = s1 & s2\n",
    "s4"
   ]
  },
  {
   "cell_type": "code",
   "execution_count": 166,
   "id": "8a14675f",
   "metadata": {},
   "outputs": [
    {
     "data": {
      "text/plain": [
       "{2, 3}"
      ]
     },
     "execution_count": 166,
     "metadata": {},
     "output_type": "execute_result"
    }
   ],
   "source": [
    "s1.intersection_update(s2)\n",
    "s1"
   ]
  },
  {
   "cell_type": "code",
   "execution_count": null,
   "id": "ec5b7b49",
   "metadata": {},
   "outputs": [],
   "source": []
  },
  {
   "cell_type": "code",
   "execution_count": 167,
   "id": "65c8dc10",
   "metadata": {},
   "outputs": [],
   "source": [
    "# 11. Find the difference between two sets."
   ]
  },
  {
   "cell_type": "code",
   "execution_count": 170,
   "id": "1cc1e422",
   "metadata": {},
   "outputs": [
    {
     "name": "stdout",
     "output_type": "stream",
     "text": [
      "{1, 2}\n",
      "{8, 7}\n"
     ]
    }
   ],
   "source": [
    "s1 = {1,2,3,4}\n",
    "s2 = {3,4,7,8}\n",
    "s3 = s1.difference(s2)\n",
    "s4 = s2.difference(s1)\n",
    "print(s3)\n",
    "print(s4)"
   ]
  },
  {
   "cell_type": "code",
   "execution_count": 172,
   "id": "e4e62f86",
   "metadata": {},
   "outputs": [
    {
     "name": "stdout",
     "output_type": "stream",
     "text": [
      "{1, 2}\n",
      "{8, 7}\n"
     ]
    }
   ],
   "source": [
    "s5 = s1 - s2\n",
    "s6 = s2 - s1\n",
    "print(s5)\n",
    "print(s6)"
   ]
  },
  {
   "cell_type": "code",
   "execution_count": 174,
   "id": "85aedd27",
   "metadata": {},
   "outputs": [
    {
     "data": {
      "text/plain": [
       "{1, 2}"
      ]
     },
     "execution_count": 174,
     "metadata": {},
     "output_type": "execute_result"
    }
   ],
   "source": [
    "s1.difference_update(s2)\n",
    "s1"
   ]
  },
  {
   "cell_type": "code",
   "execution_count": null,
   "id": "d5364a2a",
   "metadata": {},
   "outputs": [],
   "source": []
  },
  {
   "cell_type": "code",
   "execution_count": 176,
   "id": "d2743f51",
   "metadata": {},
   "outputs": [],
   "source": [
    "# 12. Check if a set is a subset of another set."
   ]
  },
  {
   "cell_type": "code",
   "execution_count": 179,
   "id": "c7e22b1e",
   "metadata": {},
   "outputs": [
    {
     "data": {
      "text/plain": [
       "True"
      ]
     },
     "execution_count": 179,
     "metadata": {},
     "output_type": "execute_result"
    }
   ],
   "source": [
    "s1 = {1,2,3,4}\n",
    "s2 = {5,6,3,2,4,1}\n",
    "s1.issubset(s2)"
   ]
  },
  {
   "cell_type": "code",
   "execution_count": null,
   "id": "a616c768",
   "metadata": {},
   "outputs": [],
   "source": []
  },
  {
   "cell_type": "code",
   "execution_count": 180,
   "id": "3c951db6",
   "metadata": {},
   "outputs": [],
   "source": [
    "# 13. Check if a set is a superset of another set"
   ]
  },
  {
   "cell_type": "code",
   "execution_count": 181,
   "id": "fd363698",
   "metadata": {},
   "outputs": [
    {
     "data": {
      "text/plain": [
       "True"
      ]
     },
     "execution_count": 181,
     "metadata": {},
     "output_type": "execute_result"
    }
   ],
   "source": [
    "s1 = {1,2,3,4}\n",
    "s2 = {5,6,3,2,4,1}\n",
    "s2.issuperset(s1)"
   ]
  },
  {
   "cell_type": "code",
   "execution_count": null,
   "id": "c9b32ea4",
   "metadata": {},
   "outputs": [],
   "source": []
  },
  {
   "cell_type": "code",
   "execution_count": 182,
   "id": "cab5aa6e",
   "metadata": {},
   "outputs": [],
   "source": [
    "# 14. Create a set from a list."
   ]
  },
  {
   "cell_type": "code",
   "execution_count": 183,
   "id": "bb91b2e3",
   "metadata": {},
   "outputs": [
    {
     "data": {
      "text/plain": [
       "{0, 1, 2, 3, 4, 5, 6, 7, 8, 9}"
      ]
     },
     "execution_count": 183,
     "metadata": {},
     "output_type": "execute_result"
    }
   ],
   "source": [
    "s = set([i for i in range(10)])\n",
    "s"
   ]
  },
  {
   "cell_type": "code",
   "execution_count": null,
   "id": "a995bc71",
   "metadata": {},
   "outputs": [],
   "source": []
  },
  {
   "cell_type": "code",
   "execution_count": 184,
   "id": "b7b04735",
   "metadata": {},
   "outputs": [],
   "source": [
    "# 15. Convert a set to a list."
   ]
  },
  {
   "cell_type": "code",
   "execution_count": 185,
   "id": "a7627064",
   "metadata": {},
   "outputs": [
    {
     "data": {
      "text/plain": [
       "[1, 2, 3, 4, 5]"
      ]
     },
     "execution_count": 185,
     "metadata": {},
     "output_type": "execute_result"
    }
   ],
   "source": [
    "s1 = {1,2,3,4,5}\n",
    "l = list(s1)\n",
    "l"
   ]
  },
  {
   "cell_type": "code",
   "execution_count": null,
   "id": "4e3f8551",
   "metadata": {},
   "outputs": [],
   "source": []
  },
  {
   "cell_type": "code",
   "execution_count": 186,
   "id": "3148de56",
   "metadata": {},
   "outputs": [],
   "source": [
    "# 16. Remove a random element from a set."
   ]
  },
  {
   "cell_type": "code",
   "execution_count": 198,
   "id": "6b05a77e",
   "metadata": {},
   "outputs": [
    {
     "name": "stdout",
     "output_type": "stream",
     "text": [
      "1\n",
      "{2, 3, 4, 5, 7}\n"
     ]
    }
   ],
   "source": [
    "s1 = {1,7,2,3,4,5}\n",
    "ele = s1.pop()\n",
    "print(ele)\n",
    "print(s1)"
   ]
  },
  {
   "cell_type": "code",
   "execution_count": null,
   "id": "840a6244",
   "metadata": {},
   "outputs": [],
   "source": []
  },
  {
   "cell_type": "code",
   "execution_count": 195,
   "id": "c58adf23",
   "metadata": {},
   "outputs": [],
   "source": [
    "# 17. Pop an element from a set."
   ]
  },
  {
   "cell_type": "code",
   "execution_count": 199,
   "id": "5b2c1c13",
   "metadata": {},
   "outputs": [
    {
     "data": {
      "text/plain": [
       "1"
      ]
     },
     "execution_count": 199,
     "metadata": {},
     "output_type": "execute_result"
    }
   ],
   "source": [
    "s1 = {1,2,3,4,5}\n",
    "ele = s1.pop()\n",
    "ele"
   ]
  },
  {
   "cell_type": "code",
   "execution_count": null,
   "id": "25923483",
   "metadata": {},
   "outputs": [],
   "source": []
  },
  {
   "cell_type": "code",
   "execution_count": 200,
   "id": "7cb6033a",
   "metadata": {},
   "outputs": [],
   "source": [
    "# 18. Check if two sets have no elements in common."
   ]
  },
  {
   "cell_type": "code",
   "execution_count": 203,
   "id": "9ddd5340",
   "metadata": {},
   "outputs": [
    {
     "name": "stdout",
     "output_type": "stream",
     "text": [
      "sets have no elements in common.\n"
     ]
    }
   ],
   "source": [
    "s1 = {1,2,3}\n",
    "s2 = {4,5,6}\n",
    "if s1.isdisjoint(s2):\n",
    "    print(\"sets have no elements in common.\")\n",
    "else:\n",
    "    print(\"sets have elements in common.\")"
   ]
  },
  {
   "cell_type": "code",
   "execution_count": null,
   "id": "f441f750",
   "metadata": {},
   "outputs": [],
   "source": []
  },
  {
   "cell_type": "code",
   "execution_count": 204,
   "id": "e55d36b5",
   "metadata": {},
   "outputs": [],
   "source": [
    "# 19. Find the symmetric difference between two sets."
   ]
  },
  {
   "cell_type": "code",
   "execution_count": 208,
   "id": "4037f162",
   "metadata": {},
   "outputs": [
    {
     "name": "stdout",
     "output_type": "stream",
     "text": [
      "{1, 2, 3, 6, 7, 8}\n",
      "{1, 2, 3, 6, 7, 8}\n"
     ]
    }
   ],
   "source": [
    "s1 = {1,2,3,4,5}\n",
    "s2 = {4,5,6,7,8}\n",
    "\n",
    "s3 = s1.symmetric_difference(s2)\n",
    "s4 = s1 ^ s2\n",
    "print(s3)\n",
    "print(s4)"
   ]
  },
  {
   "cell_type": "code",
   "execution_count": 209,
   "id": "d0d63877",
   "metadata": {},
   "outputs": [
    {
     "data": {
      "text/plain": [
       "{1, 2, 3, 6, 7, 8}"
      ]
     },
     "execution_count": 209,
     "metadata": {},
     "output_type": "execute_result"
    }
   ],
   "source": [
    "s1.symmetric_difference_update(s2)\n",
    "s1"
   ]
  },
  {
   "cell_type": "code",
   "execution_count": null,
   "id": "9e36bb0a",
   "metadata": {},
   "outputs": [],
   "source": []
  },
  {
   "cell_type": "code",
   "execution_count": 211,
   "id": "dfbadfd9",
   "metadata": {},
   "outputs": [],
   "source": [
    "# 20. Update a set with elements from another set."
   ]
  },
  {
   "cell_type": "code",
   "execution_count": 212,
   "id": "52bc3585",
   "metadata": {},
   "outputs": [
    {
     "data": {
      "text/plain": [
       "{1, 2, 3, 4, 5, 6, 7, 8}"
      ]
     },
     "execution_count": 212,
     "metadata": {},
     "output_type": "execute_result"
    }
   ],
   "source": [
    "s1 = {1,2,3,4,5}\n",
    "s2 = {4,5,6,7,8}\n",
    "\n",
    "s1.update(s2)\n",
    "s1"
   ]
  },
  {
   "cell_type": "code",
   "execution_count": null,
   "id": "0173eb94",
   "metadata": {},
   "outputs": [],
   "source": []
  },
  {
   "cell_type": "code",
   "execution_count": 214,
   "id": "90e9f13c",
   "metadata": {},
   "outputs": [],
   "source": [
    "# 21. Create a set of the first 5 prime numbers."
   ]
  },
  {
   "cell_type": "code",
   "execution_count": 216,
   "id": "86d33131",
   "metadata": {},
   "outputs": [
    {
     "data": {
      "text/plain": [
       "{2, 3, 5}"
      ]
     },
     "execution_count": 216,
     "metadata": {},
     "output_type": "execute_result"
    }
   ],
   "source": [
    "def prime_no(n):\n",
    "    prime_no=set()\n",
    "    for i in range(2,n+1):\n",
    "        is_prime=True\n",
    "        for j in range(2,i):\n",
    "            if i%j == 0:\n",
    "                is_prime = False\n",
    "        if is_prime:\n",
    "            prime_no.add(i)\n",
    "    return prime_no\n",
    "\n",
    "n=5\n",
    "prime_no(n)"
   ]
  },
  {
   "cell_type": "code",
   "execution_count": null,
   "id": "edaaaf5e",
   "metadata": {},
   "outputs": [],
   "source": []
  },
  {
   "cell_type": "code",
   "execution_count": 217,
   "id": "556b6e71",
   "metadata": {},
   "outputs": [],
   "source": [
    "# 22. Check if two sets are identical."
   ]
  },
  {
   "cell_type": "code",
   "execution_count": 218,
   "id": "07a80fb6",
   "metadata": {},
   "outputs": [
    {
     "name": "stdout",
     "output_type": "stream",
     "text": [
      "False\n",
      "True\n",
      "True\n"
     ]
    }
   ],
   "source": [
    "set1 = {1, 2, 3}\n",
    "set2 = {1, 2, 3}\n",
    "set3 = set1\n",
    "print(set1 is set2)  \n",
    "print(set1 is set3)  \n",
    "print(set1 == set2)"
   ]
  },
  {
   "cell_type": "code",
   "execution_count": null,
   "id": "84a44841",
   "metadata": {},
   "outputs": [],
   "source": []
  },
  {
   "cell_type": "code",
   "execution_count": 219,
   "id": "89ab0790",
   "metadata": {},
   "outputs": [],
   "source": [
    "# 23. Create a frozen set."
   ]
  },
  {
   "cell_type": "code",
   "execution_count": 223,
   "id": "2672d61a",
   "metadata": {},
   "outputs": [
    {
     "name": "stdout",
     "output_type": "stream",
     "text": [
      "frozenset({1, 2, 3, 4, 5})\n"
     ]
    }
   ],
   "source": [
    "regular_set = {1, 2, 3, 4, 5}\n",
    "frozen_set = frozenset(regular_set)\n",
    "print(frozen_set)"
   ]
  },
  {
   "cell_type": "code",
   "execution_count": null,
   "id": "a3eb77dc",
   "metadata": {},
   "outputs": [],
   "source": []
  },
  {
   "cell_type": "code",
   "execution_count": 224,
   "id": "c5e8352c",
   "metadata": {},
   "outputs": [],
   "source": [
    "# 24. Check if a set is disjoint with another set."
   ]
  },
  {
   "cell_type": "code",
   "execution_count": 231,
   "id": "eda56679",
   "metadata": {},
   "outputs": [
    {
     "name": "stdout",
     "output_type": "stream",
     "text": [
      "set '{1, 2, 3}' and '{'Hello', 'Hi'}' is disjoint set.\n"
     ]
    }
   ],
   "source": [
    "s1 = {1,2,3}\n",
    "s2 = {\"Hi\",\"Hello\"}\n",
    "if s1.isdisjoint(s2):\n",
    "    print(f\"set '{s1}' and '{s2}' is disjoint set.\")\n",
    "else:\n",
    "    print(f\"set '{s1}' and '{s2}' is joint set.\")"
   ]
  },
  {
   "cell_type": "code",
   "execution_count": null,
   "id": "e27dccae",
   "metadata": {},
   "outputs": [],
   "source": []
  },
  {
   "cell_type": "code",
   "execution_count": 232,
   "id": "0207bb65",
   "metadata": {},
   "outputs": [],
   "source": [
    "# 25. Create a set of squares of numbers from 1 to 5."
   ]
  },
  {
   "cell_type": "code",
   "execution_count": 233,
   "id": "b2b666c8",
   "metadata": {},
   "outputs": [
    {
     "data": {
      "text/plain": [
       "{1, 4, 9, 16, 25}"
      ]
     },
     "execution_count": 233,
     "metadata": {},
     "output_type": "execute_result"
    }
   ],
   "source": [
    "set(pow(i,2) for i in range(1,6))"
   ]
  },
  {
   "cell_type": "code",
   "execution_count": null,
   "id": "d460eaaa",
   "metadata": {},
   "outputs": [],
   "source": []
  },
  {
   "cell_type": "code",
   "execution_count": 234,
   "id": "a8f4aa4f",
   "metadata": {},
   "outputs": [],
   "source": [
    "# 26. Filter out all even numbers from a set."
   ]
  },
  {
   "cell_type": "code",
   "execution_count": 237,
   "id": "83369561",
   "metadata": {},
   "outputs": [
    {
     "data": {
      "text/plain": [
       "{2, 4, 6, 8, 10}"
      ]
     },
     "execution_count": 237,
     "metadata": {},
     "output_type": "execute_result"
    }
   ],
   "source": [
    "s1 = set(i for i in range(1,11))\n",
    "even_set = set()\n",
    "for i in s1:\n",
    "    if i % 2 == 0:\n",
    "        even_set.add(i)\n",
    "even_set"
   ]
  },
  {
   "cell_type": "code",
   "execution_count": null,
   "id": "ffa39d70",
   "metadata": {},
   "outputs": [],
   "source": []
  },
  {
   "cell_type": "code",
   "execution_count": 238,
   "id": "6808e1b5",
   "metadata": {},
   "outputs": [],
   "source": [
    "# 27. Multiply all elements in a set by 2."
   ]
  },
  {
   "cell_type": "code",
   "execution_count": 240,
   "id": "19392b2b",
   "metadata": {},
   "outputs": [
    {
     "data": {
      "text/plain": [
       "{2, 4, 6, 8, 10}"
      ]
     },
     "execution_count": 240,
     "metadata": {},
     "output_type": "execute_result"
    }
   ],
   "source": [
    "s1 = {1,2,3,4,5}\n",
    "new_set =set(i * 2 for i in s1)\n",
    "new_set"
   ]
  },
  {
   "cell_type": "code",
   "execution_count": null,
   "id": "15d89146",
   "metadata": {},
   "outputs": [],
   "source": []
  },
  {
   "cell_type": "code",
   "execution_count": 241,
   "id": "45299c2d",
   "metadata": {},
   "outputs": [],
   "source": [
    "# 28. Create a set of random numbers."
   ]
  },
  {
   "cell_type": "code",
   "execution_count": 243,
   "id": "573d84cd",
   "metadata": {},
   "outputs": [
    {
     "data": {
      "text/plain": [
       "{13, 17, 24, 62, 74}"
      ]
     },
     "execution_count": 243,
     "metadata": {},
     "output_type": "execute_result"
    }
   ],
   "source": [
    "import random\n",
    "s1 = set()\n",
    "for i in range(5):\n",
    "    s1.add(random.randint(1,100))\n",
    "s1"
   ]
  },
  {
   "cell_type": "code",
   "execution_count": null,
   "id": "a2207e07",
   "metadata": {},
   "outputs": [],
   "source": []
  },
  {
   "cell_type": "code",
   "execution_count": 244,
   "id": "ea685886",
   "metadata": {},
   "outputs": [],
   "source": [
    "# 29. Check if a set is empty"
   ]
  },
  {
   "cell_type": "code",
   "execution_count": 250,
   "id": "e0f2896f",
   "metadata": {},
   "outputs": [
    {
     "name": "stdout",
     "output_type": "stream",
     "text": [
      "Set is empty\n"
     ]
    }
   ],
   "source": [
    "s1 = set()\n",
    "if s1:\n",
    "    print(\"Set is not empty\")\n",
    "else:\n",
    "    print(\"Set is empty\")"
   ]
  },
  {
   "cell_type": "code",
   "execution_count": null,
   "id": "54c4ec00",
   "metadata": {},
   "outputs": [],
   "source": []
  },
  {
   "cell_type": "code",
   "execution_count": 251,
   "id": "bed64e46",
   "metadata": {},
   "outputs": [],
   "source": [
    "# 30. Create a nested set (hint: use frozenset)."
   ]
  },
  {
   "cell_type": "code",
   "execution_count": 255,
   "id": "66825540",
   "metadata": {},
   "outputs": [
    {
     "name": "stdout",
     "output_type": "stream",
     "text": [
      "{frozenset({1, 2, 3}), frozenset({4, 5, 6}), frozenset({8, 9, 7})}\n"
     ]
    }
   ],
   "source": [
    "frozen_set1 = frozenset([1, 2, 3])\n",
    "frozen_set2 = frozenset([4, 5, 6])\n",
    "frozen_set3 = frozenset([7, 8, 9])\n",
    "\n",
    "nested_set = {frozen_set1, frozen_set2, frozen_set3}\n",
    "\n",
    "print(nested_set)"
   ]
  },
  {
   "cell_type": "code",
   "execution_count": null,
   "id": "2e8fd948",
   "metadata": {},
   "outputs": [],
   "source": []
  },
  {
   "cell_type": "code",
   "execution_count": 265,
   "id": "195a1a34",
   "metadata": {},
   "outputs": [],
   "source": [
    "# 31. Remove an element from a set using the discard method."
   ]
  },
  {
   "cell_type": "code",
   "execution_count": 268,
   "id": "6bade943",
   "metadata": {},
   "outputs": [
    {
     "data": {
      "text/plain": [
       "{1, 2, 3, 4, 5}"
      ]
     },
     "execution_count": 268,
     "metadata": {},
     "output_type": "execute_result"
    }
   ],
   "source": [
    "s1 = {1,2,3,4,5,\"Yash\"}\n",
    "s1.discard(\"Yash\")\n",
    "s1"
   ]
  },
  {
   "cell_type": "code",
   "execution_count": null,
   "id": "26807593",
   "metadata": {},
   "outputs": [],
   "source": []
  },
  {
   "cell_type": "code",
   "execution_count": 269,
   "id": "7f5b492a",
   "metadata": {},
   "outputs": [],
   "source": [
    "# 32. Compare two sets."
   ]
  },
  {
   "cell_type": "code",
   "execution_count": 280,
   "id": "e656925a",
   "metadata": {},
   "outputs": [
    {
     "name": "stdout",
     "output_type": "stream",
     "text": [
      "True\n",
      "False\n"
     ]
    }
   ],
   "source": [
    "set1 = {1, 2, 3}\n",
    "set2 = {3, 2, 1}\n",
    "set3 = {1, 2, 4}\n",
    "\n",
    "print(set1 == set2) \n",
    "print(set1 == set3)  "
   ]
  },
  {
   "cell_type": "code",
   "execution_count": 281,
   "id": "95869eb6",
   "metadata": {},
   "outputs": [
    {
     "name": "stdout",
     "output_type": "stream",
     "text": [
      "True\n",
      "True\n"
     ]
    }
   ],
   "source": [
    "set1 = {1, 2}\n",
    "set2 = {1, 2, 3}\n",
    "\n",
    "print(set1 <= set2)  \n",
    "print(set1 < set2)   "
   ]
  },
  {
   "cell_type": "code",
   "execution_count": 282,
   "id": "5be11682",
   "metadata": {},
   "outputs": [
    {
     "name": "stdout",
     "output_type": "stream",
     "text": [
      "True\n",
      "True\n"
     ]
    }
   ],
   "source": [
    "set1 = {1, 2, 3}\n",
    "set2 = {1, 2}\n",
    "\n",
    "print(set1 >= set2) \n",
    "print(set1 > set2)   "
   ]
  },
  {
   "cell_type": "code",
   "execution_count": 283,
   "id": "38d34e92",
   "metadata": {},
   "outputs": [
    {
     "name": "stdout",
     "output_type": "stream",
     "text": [
      "True\n",
      "False\n"
     ]
    }
   ],
   "source": [
    "set1 = {1, 2, 3}\n",
    "set2 = {4, 5, 6}\n",
    "set3 = {3, 4, 5}\n",
    "\n",
    "print(set1.isdisjoint(set2))  \n",
    "print(set1.isdisjoint(set3)) "
   ]
  },
  {
   "cell_type": "code",
   "execution_count": null,
   "id": "ebc962dc",
   "metadata": {},
   "outputs": [],
   "source": []
  },
  {
   "cell_type": "code",
   "execution_count": 285,
   "id": "48e735c7",
   "metadata": {},
   "outputs": [],
   "source": [
    "# 33. Create a set from a string."
   ]
  },
  {
   "cell_type": "code",
   "execution_count": 303,
   "id": "b849d614",
   "metadata": {},
   "outputs": [
    {
     "name": "stdout",
     "output_type": "stream",
     "text": [
      "{'e', 'h', 'l', 'o'}\n"
     ]
    }
   ],
   "source": [
    "my_string = \"hello\"\n",
    "my_set = set(my_string)\n",
    "print(my_set)"
   ]
  },
  {
   "cell_type": "code",
   "execution_count": null,
   "id": "2e95198d",
   "metadata": {},
   "outputs": [],
   "source": []
  },
  {
   "cell_type": "code",
   "execution_count": 304,
   "id": "58836ce2",
   "metadata": {},
   "outputs": [],
   "source": [
    "# 34. Convert a set of strings to a set of integers"
   ]
  },
  {
   "cell_type": "code",
   "execution_count": 307,
   "id": "f24a8940",
   "metadata": {},
   "outputs": [
    {
     "data": {
      "text/plain": [
       "{1, 2, 3, 4, 5}"
      ]
     },
     "execution_count": 307,
     "metadata": {},
     "output_type": "execute_result"
    }
   ],
   "source": [
    "s1 = {\"1\",\"2\",\"3\",\"4\",\"5\"}\n",
    "s2 = {int(i) for i in s1}\n",
    "s2"
   ]
  },
  {
   "cell_type": "code",
   "execution_count": null,
   "id": "e73a9490",
   "metadata": {},
   "outputs": [],
   "source": []
  },
  {
   "cell_type": "code",
   "execution_count": 308,
   "id": "a861bec6",
   "metadata": {},
   "outputs": [],
   "source": [
    "# 35. Convert a set of integers to a set of strings."
   ]
  },
  {
   "cell_type": "code",
   "execution_count": 309,
   "id": "aea3c3a5",
   "metadata": {},
   "outputs": [
    {
     "data": {
      "text/plain": [
       "{'1', '2', '3', '4', '5'}"
      ]
     },
     "execution_count": 309,
     "metadata": {},
     "output_type": "execute_result"
    }
   ],
   "source": [
    "s1 = {1,2,3,4,5}\n",
    "s2 = {str(i) for i in s1}\n",
    "s2"
   ]
  },
  {
   "cell_type": "code",
   "execution_count": null,
   "id": "7f12bdbb",
   "metadata": {},
   "outputs": [],
   "source": []
  },
  {
   "cell_type": "code",
   "execution_count": 310,
   "id": "b54a19ec",
   "metadata": {},
   "outputs": [],
   "source": [
    "# 36. Create a set from a tuple."
   ]
  },
  {
   "cell_type": "code",
   "execution_count": 312,
   "id": "426eb665",
   "metadata": {},
   "outputs": [
    {
     "data": {
      "text/plain": [
       "{1, 2, 3}"
      ]
     },
     "execution_count": 312,
     "metadata": {},
     "output_type": "execute_result"
    }
   ],
   "source": [
    "t = (1,2,3)\n",
    "s1 = set()\n",
    "s1.update(t)\n",
    "s1"
   ]
  },
  {
   "cell_type": "code",
   "execution_count": null,
   "id": "2fa7ca3f",
   "metadata": {},
   "outputs": [],
   "source": []
  },
  {
   "cell_type": "code",
   "execution_count": 313,
   "id": "30e2c86c",
   "metadata": {},
   "outputs": [],
   "source": [
    "# 37. Convert a set to a tuple."
   ]
  },
  {
   "cell_type": "code",
   "execution_count": 314,
   "id": "903091d7",
   "metadata": {},
   "outputs": [
    {
     "data": {
      "text/plain": [
       "(1, 2, 3, 4, 5)"
      ]
     },
     "execution_count": 314,
     "metadata": {},
     "output_type": "execute_result"
    }
   ],
   "source": [
    "s1 = {1,2,3,4,5}\n",
    "t = tuple(s1)\n",
    "t"
   ]
  },
  {
   "cell_type": "code",
   "execution_count": null,
   "id": "e30285f1",
   "metadata": {},
   "outputs": [],
   "source": []
  },
  {
   "cell_type": "code",
   "execution_count": 315,
   "id": "4093a430",
   "metadata": {},
   "outputs": [],
   "source": [
    "# 38. Find the maximum value in a set."
   ]
  },
  {
   "cell_type": "code",
   "execution_count": 317,
   "id": "833bd02b",
   "metadata": {},
   "outputs": [
    {
     "name": "stdout",
     "output_type": "stream",
     "text": [
      "maximum value in a set: 4\n"
     ]
    }
   ],
   "source": [
    "user_set = {1,2,3,4,3}\n",
    "m=float(\"-inf\")\n",
    "for i in user_set:\n",
    "    if i>m:\n",
    "        m=i\n",
    "print('maximum value in a set:',m)"
   ]
  },
  {
   "cell_type": "code",
   "execution_count": null,
   "id": "4323f078",
   "metadata": {},
   "outputs": [],
   "source": []
  },
  {
   "cell_type": "code",
   "execution_count": 318,
   "id": "336fa495",
   "metadata": {},
   "outputs": [],
   "source": [
    "# 39. Find the minimum value in a set."
   ]
  },
  {
   "cell_type": "code",
   "execution_count": 319,
   "id": "3edb8bde",
   "metadata": {},
   "outputs": [
    {
     "name": "stdout",
     "output_type": "stream",
     "text": [
      "minimum value in a set: 1\n"
     ]
    }
   ],
   "source": [
    "user_set = {1,2,3,4,3}\n",
    "m=float(\"inf\")\n",
    "for i in user_set:\n",
    "    if i < m:\n",
    "        m=i\n",
    "print('minimum value in a set:',m)"
   ]
  },
  {
   "cell_type": "code",
   "execution_count": null,
   "id": "4b85225f",
   "metadata": {},
   "outputs": [],
   "source": []
  },
  {
   "cell_type": "code",
   "execution_count": 321,
   "id": "e3c33115",
   "metadata": {},
   "outputs": [],
   "source": [
    "# 40. Create a set from user input."
   ]
  },
  {
   "cell_type": "code",
   "execution_count": 323,
   "id": "9585ddda",
   "metadata": {},
   "outputs": [
    {
     "name": "stdout",
     "output_type": "stream",
     "text": [
      "Number of value in set :5\n",
      "2\n",
      "Hi\n",
      "Welcome\n",
      "Yash\n",
      "45\n"
     ]
    },
    {
     "data": {
      "text/plain": [
       "{'2', '45', 'Hi', 'Welcome', 'Yash'}"
      ]
     },
     "execution_count": 323,
     "metadata": {},
     "output_type": "execute_result"
    }
   ],
   "source": [
    "n = int(input(\"Number of value in set :\"))\n",
    "s =  set()\n",
    "for i in range(n):\n",
    "    value = input()\n",
    "    s.add(value)\n",
    "s"
   ]
  },
  {
   "cell_type": "code",
   "execution_count": null,
   "id": "9d807abe",
   "metadata": {},
   "outputs": [],
   "source": []
  },
  {
   "cell_type": "code",
   "execution_count": 324,
   "id": "371d36b5",
   "metadata": {},
   "outputs": [],
   "source": [
    "# 41. Check if the intersection of two sets is empty."
   ]
  },
  {
   "cell_type": "code",
   "execution_count": 326,
   "id": "75377b9e",
   "metadata": {},
   "outputs": [
    {
     "name": "stdout",
     "output_type": "stream",
     "text": [
      "intersection of two sets is empty\n"
     ]
    }
   ],
   "source": [
    "s1 = {1,2,3,4}\n",
    "s2 = {6,8}\n",
    "\n",
    "if s1.intersection(s2):\n",
    "    print(\"intersection of two sets is not empty\")\n",
    "else:\n",
    "    print(\"intersection of two sets is empty\")"
   ]
  },
  {
   "cell_type": "code",
   "execution_count": null,
   "id": "abb8ee74",
   "metadata": {},
   "outputs": [],
   "source": []
  },
  {
   "cell_type": "code",
   "execution_count": 327,
   "id": "360ec2ef",
   "metadata": {},
   "outputs": [],
   "source": [
    "# 42. Create a set of the first 5 Fibonacci numbers."
   ]
  },
  {
   "cell_type": "code",
   "execution_count": 332,
   "id": "a3089007",
   "metadata": {},
   "outputs": [
    {
     "name": "stdout",
     "output_type": "stream",
     "text": [
      "Fibonacci numbers: {0, 1, 2, 3, 5}\n"
     ]
    }
   ],
   "source": [
    "def fibonnacci(n):\n",
    "    fib_list=[0,1]\n",
    "    for i in range(2,n+1):\n",
    "        next_fib=fib_list[i-1]+fib_list[i-2]\n",
    "        fib_list.append(next_fib)\n",
    "    return set(fib_list)\n",
    "\n",
    "n=5\n",
    "fib_num=fibonnacci(n)\n",
    "print('Fibonacci numbers:',fib_num)"
   ]
  },
  {
   "cell_type": "code",
   "execution_count": null,
   "id": "4bc18918",
   "metadata": {},
   "outputs": [],
   "source": []
  },
  {
   "cell_type": "code",
   "execution_count": 333,
   "id": "3cfccd85",
   "metadata": {},
   "outputs": [],
   "source": [
    "# 43. Remove duplicates from a list using sets"
   ]
  },
  {
   "cell_type": "code",
   "execution_count": 334,
   "id": "66e0a988",
   "metadata": {},
   "outputs": [
    {
     "data": {
      "text/plain": [
       "{1, 2, 3, 4, 7}"
      ]
     },
     "execution_count": 334,
     "metadata": {},
     "output_type": "execute_result"
    }
   ],
   "source": [
    "lst = [1,2,4,3,2,1,4,7,7]\n",
    "s = set(lst)\n",
    "s"
   ]
  },
  {
   "cell_type": "code",
   "execution_count": null,
   "id": "0aa1f3b5",
   "metadata": {},
   "outputs": [],
   "source": []
  },
  {
   "cell_type": "code",
   "execution_count": 335,
   "id": "a533b8ed",
   "metadata": {},
   "outputs": [],
   "source": [
    "# 44. Check if two sets have the same elements, regardless of their count."
   ]
  },
  {
   "cell_type": "code",
   "execution_count": 336,
   "id": "0b9f03cd",
   "metadata": {},
   "outputs": [
    {
     "name": "stdout",
     "output_type": "stream",
     "text": [
      "True\n",
      "True\n"
     ]
    }
   ],
   "source": [
    "def same_elements(set1, set2):\n",
    "    return set1 <= set2 and set2 <= set1\n",
    "\n",
    "set1 = {1, 2, 3, 4}\n",
    "set2 = {2, 1, 4, 3}\n",
    "set3 = {1, 2, 2, 3, 4}\n",
    "\n",
    "print(same_elements(set1, set2))  \n",
    "print(same_elements(set1, set3))  "
   ]
  },
  {
   "cell_type": "code",
   "execution_count": null,
   "id": "6ff91e1e",
   "metadata": {},
   "outputs": [],
   "source": []
  },
  {
   "cell_type": "code",
   "execution_count": 337,
   "id": "b20434fa",
   "metadata": {},
   "outputs": [],
   "source": [
    "# 45. Create a set of the first `n` powers of 2."
   ]
  },
  {
   "cell_type": "code",
   "execution_count": 341,
   "id": "0c7cf1e3",
   "metadata": {},
   "outputs": [
    {
     "name": "stdout",
     "output_type": "stream",
     "text": [
      "{1, 2, 4, 8, 16}\n"
     ]
    }
   ],
   "source": [
    "def powers_of_2(n):\n",
    "    return {2 ** i for i in range(n)}\n",
    "\n",
    "n = 5\n",
    "result = powers_of_2(n)\n",
    "print(result) "
   ]
  },
  {
   "cell_type": "code",
   "execution_count": null,
   "id": "e9e2f2c6",
   "metadata": {},
   "outputs": [],
   "source": []
  },
  {
   "cell_type": "code",
   "execution_count": 342,
   "id": "b210f292",
   "metadata": {},
   "outputs": [],
   "source": [
    "# 46. Find the common elements between a set and a list."
   ]
  },
  {
   "cell_type": "code",
   "execution_count": 343,
   "id": "e1678daf",
   "metadata": {},
   "outputs": [
    {
     "data": {
      "text/plain": [
       "{1, 2, 4}"
      ]
     },
     "execution_count": 343,
     "metadata": {},
     "output_type": "execute_result"
    }
   ],
   "source": [
    "s1 = {1,2,3,4,5}\n",
    "lst = [1,2,4]\n",
    "s3 = s1.intersection(lst)\n",
    "s3"
   ]
  },
  {
   "cell_type": "code",
   "execution_count": null,
   "id": "e145ef69",
   "metadata": {},
   "outputs": [],
   "source": []
  },
  {
   "cell_type": "code",
   "execution_count": 344,
   "id": "f7bd2fc1",
   "metadata": {},
   "outputs": [],
   "source": [
    "# 47. Create a set of the first `n` triangular numbers."
   ]
  },
  {
   "cell_type": "code",
   "execution_count": 345,
   "id": "1958f422",
   "metadata": {},
   "outputs": [
    {
     "data": {
      "text/plain": [
       "{1, 3, 6, 10, 15, 21, 28, 36, 45, 55}"
      ]
     },
     "execution_count": 345,
     "metadata": {},
     "output_type": "execute_result"
    }
   ],
   "source": [
    "def set_of_n_triangular_no(n):\n",
    "    s1 = {(i*(i+1))//2 for i in range(1,n+1)}\n",
    "    return s1\n",
    "\n",
    "n = 10\n",
    "set_of_n_triangular_no(n)"
   ]
  },
  {
   "cell_type": "code",
   "execution_count": null,
   "id": "7091c780",
   "metadata": {},
   "outputs": [],
   "source": []
  },
  {
   "cell_type": "code",
   "execution_count": 348,
   "id": "14cbe9db",
   "metadata": {},
   "outputs": [],
   "source": [
    "# 48. Check if a set contains another set as a subset."
   ]
  },
  {
   "cell_type": "code",
   "execution_count": 349,
   "id": "297d2c73",
   "metadata": {},
   "outputs": [
    {
     "data": {
      "text/plain": [
       "True"
      ]
     },
     "execution_count": 349,
     "metadata": {},
     "output_type": "execute_result"
    }
   ],
   "source": [
    "s1 = {1,2,3,4}\n",
    "s2 = {1,2}\n",
    "s2.issubset(s1)"
   ]
  },
  {
   "cell_type": "code",
   "execution_count": null,
   "id": "020bbace",
   "metadata": {},
   "outputs": [],
   "source": []
  },
  {
   "cell_type": "code",
   "execution_count": 350,
   "id": "64b74501",
   "metadata": {},
   "outputs": [],
   "source": [
    "# 49. Create a set of alternating 1s and 0s of length `n`."
   ]
  },
  {
   "cell_type": "code",
   "execution_count": 353,
   "id": "783af28a",
   "metadata": {},
   "outputs": [
    {
     "data": {
      "text/plain": [
       "{0, 1}"
      ]
     },
     "execution_count": 353,
     "metadata": {},
     "output_type": "execute_result"
    }
   ],
   "source": [
    "def altering_set(n):\n",
    "    return {1 if i % 2 == 0 else 0 for i in range(n)}\n",
    "\n",
    "n=10\n",
    "altering_set(n)"
   ]
  },
  {
   "cell_type": "code",
   "execution_count": null,
   "id": "1148955d",
   "metadata": {},
   "outputs": [],
   "source": []
  },
  {
   "cell_type": "code",
   "execution_count": 354,
   "id": "be419e5a",
   "metadata": {},
   "outputs": [],
   "source": [
    "# 50. Merge multiple sets into one"
   ]
  },
  {
   "cell_type": "code",
   "execution_count": 356,
   "id": "db667952",
   "metadata": {},
   "outputs": [
    {
     "data": {
      "text/plain": [
       "{1, 2, 3, 4, 5, 'Assignment', 'End', 'Hello', 'Of', 'Yash'}"
      ]
     },
     "execution_count": 356,
     "metadata": {},
     "output_type": "execute_result"
    }
   ],
   "source": [
    "s1 = {1,2,3,4}\n",
    "s2 = {4,5,\"Hello\",\"Yash\"}\n",
    "s3 = {\"End\", \"Of\",\"Assignment\"}\n",
    "\n",
    "s1.update(s1,s2,s3)\n",
    "s1"
   ]
  },
  {
   "cell_type": "code",
   "execution_count": null,
   "id": "25944c6a",
   "metadata": {},
   "outputs": [],
   "source": []
  }
 ],
 "metadata": {
  "kernelspec": {
   "display_name": "Python 3 (ipykernel)",
   "language": "python",
   "name": "python3"
  },
  "language_info": {
   "codemirror_mode": {
    "name": "ipython",
    "version": 3
   },
   "file_extension": ".py",
   "mimetype": "text/x-python",
   "name": "python",
   "nbconvert_exporter": "python",
   "pygments_lexer": "ipython3",
   "version": "3.9.13"
  }
 },
 "nbformat": 4,
 "nbformat_minor": 5
}
